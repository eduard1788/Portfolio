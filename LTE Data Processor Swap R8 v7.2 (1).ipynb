{
 "cells": [
  {
   "cell_type": "markdown",
   "id": "64c2abbb",
   "metadata": {},
   "source": [
    "# Part1 - Importing all Necessary Packages"
   ]
  },
  {
   "cell_type": "code",
   "execution_count": 1,
   "id": "4bd47cd5-88e4-4526-8609-41e074330855",
   "metadata": {},
   "outputs": [],
   "source": [
    "import pandas as pd\n",
    "import glob\n",
    "from dateutil import parser\n",
    "import os\n",
    "import numpy as np"
   ]
  },
  {
   "cell_type": "markdown",
   "id": "1e20258c",
   "metadata": {},
   "source": [
    "# Part2 - Defining paths and filtering dataframes from .csv and .xlsx files"
   ]
  },
  {
   "cell_type": "code",
   "execution_count": 2,
   "id": "618e7827-405b-4f60-a04b-acf7b63666d3",
   "metadata": {},
   "outputs": [],
   "source": [
    "# Defining the writing path (where the output file will be written)\n",
    "writing_path = 'D:/ATT/0.Refarming/KPI/Data Processor/LTE/'\n",
    "\n",
    "\n",
    "# Defining the filtering file\n",
    "    # This file contains the information of the elements that need to be filtered from the whole collected dataset\n",
    "data_crossing_file = 'D:/ATT/0.Refarming/KPI/Data Processor/LTE/EPT/EPT LTE SWAP R8 ALL.v2.1.xlsx'"
   ]
  },
  {
   "cell_type": "code",
   "execution_count": 3,
   "id": "54f59db1-2b88-4bfe-8c2a-0d66d1ee6cd8",
   "metadata": {},
   "outputs": [
    {
     "name": "stderr",
     "output_type": "stream",
     "text": [
      "C:\\ProgramData\\anaconda3\\Lib\\site-packages\\openpyxl\\worksheet\\_read_only.py:79: UserWarning: Data Validation extension is not supported and will be removed\n",
      "  for idx, row in parser.parse():\n"
     ]
    }
   ],
   "source": [
    "# Reading the filtering file general and High Quality Area\n",
    "# Period of Comparison\n",
    "df_data_crossing = pd.read_excel(data_crossing_file, sheet_name='ALL')\n",
    "df_period = pd.read_excel(data_crossing_file, sheet_name='Period')\n",
    "\n",
    "# Read the filtering file and get unique Site Names as a set for faster lookups\n",
    "site_name_set = set(df_data_crossing['Site Name'].unique())"
   ]
  },
  {
   "cell_type": "code",
   "execution_count": 4,
   "id": "e733aa69-3f25-4b56-9f71-b174e86b1be7",
   "metadata": {},
   "outputs": [],
   "source": [
    "# Get a list of all CSV files in the directory\n",
    "csv_files_counter_group_1 = glob.glob('D:/ATT/0.Refarming/KPI/Data Processor/LTE/Counter Group 1/*.csv')\n",
    "csv_files_counter_group_2 = glob.glob('D:/ATT/0.Refarming/KPI/Data Processor/LTE/Counter Group 2/*.csv')\n",
    "csv_files_counter_group_3 = glob.glob('D:/ATT/0.Refarming/KPI/Data Processor/LTE/Counter Group 3/*.csv')\n",
    "csv_files_counter_group_4 = glob.glob('D:/ATT/0.Refarming/KPI/Data Processor/LTE/Counter Group 4/*.csv')"
   ]
  },
  {
   "cell_type": "markdown",
   "id": "053ba73f-7f22-4470-8cc9-3f970d1087c9",
   "metadata": {},
   "source": [
    "# Part3 - Define Date Standardization Function"
   ]
  },
  {
   "cell_type": "code",
   "execution_count": 5,
   "id": "7cb028c9-8b20-4233-82e0-dd649d9f0e8f",
   "metadata": {},
   "outputs": [],
   "source": [
    "# Function to standardize the date format\n",
    "def standardize_date_format(date_str):\n",
    "    dt = parser.parse(date_str)\n",
    "    return dt.strftime('%Y-%m-%d %H:%M:%S')"
   ]
  },
  {
   "cell_type": "markdown",
   "id": "4506cfbf",
   "metadata": {},
   "source": [
    "# Part4 - Extracting, Cleaning and Preparing the Data"
   ]
  },
  {
   "cell_type": "markdown",
   "id": "92afb3ae-525e-4174-82fb-9e96963c227a",
   "metadata": {},
   "source": [
    "## Group 1"
   ]
  },
  {
   "cell_type": "markdown",
   "id": "06bf9013",
   "metadata": {},
   "source": [
    "In this part, group 1 metric files are read and concatenated"
   ]
  },
  {
   "cell_type": "markdown",
   "id": "b1e871eb",
   "metadata": {},
   "source": [
    "This code is able to concatenate N number of files and consolidate them into one dataframe"
   ]
  },
  {
   "cell_type": "code",
   "execution_count": 6,
   "id": "a45e9f3c-996f-4584-a421-9e6ad03f2a95",
   "metadata": {},
   "outputs": [],
   "source": [
    "# Initialize an empty DataFrame to hold the combined data\n",
    "group_1_df = pd.DataFrame()"
   ]
  },
  {
   "cell_type": "code",
   "execution_count": 7,
   "id": "2b2ca6c5-edd0-458e-a5b4-0b0028694961",
   "metadata": {
    "scrolled": true
   },
   "outputs": [],
   "source": [
    "for i, file in enumerate(csv_files_counter_group_1):\n",
    "    # Adjust skiprows depending on whether it's the first file\n",
    "    skip_rows = 7 if i == 0 else 8\n",
    "    \n",
    "    # Read the file and filter based on 'NE Name' in site_name_set\n",
    "    df = pd.read_csv(file, skiprows=skip_rows, header=0 if i == 0 else None, encoding='ISO-8859-1')\n",
    "    \n",
    "    # Rename columns if necessary for subsequent files\n",
    "    if i > 0:\n",
    "        df.columns = group_1_df.columns\n",
    "\n",
    "    # Filter rows where 'NE Name' matches any value in site_name_set\n",
    "    df_filtered = df[df['NE Name'].isin(site_name_set)]\n",
    "    \n",
    "    # Append the filtered data to the combined DataFrame\n",
    "    group_1_df = pd.concat([group_1_df, df_filtered], ignore_index=True)"
   ]
  },
  {
   "cell_type": "markdown",
   "id": "11b8636d-5b96-4834-bd16-c40160ef1fcc",
   "metadata": {},
   "source": [
    "## Group 2"
   ]
  },
  {
   "cell_type": "markdown",
   "id": "873d656a",
   "metadata": {},
   "source": [
    "In this part, group 2 metric files are read and concatenated"
   ]
  },
  {
   "cell_type": "markdown",
   "id": "2f359b16",
   "metadata": {},
   "source": [
    "This code is able to concatenate N number of files and consolidate them into one dataframe"
   ]
  },
  {
   "cell_type": "code",
   "execution_count": 8,
   "id": "4834f4c2-363a-4d3b-9293-9e1ba6165163",
   "metadata": {},
   "outputs": [],
   "source": [
    "# Initialize an empty DataFrame to hold the combined data\n",
    "group_2_df = pd.DataFrame()"
   ]
  },
  {
   "cell_type": "code",
   "execution_count": 9,
   "id": "cf6e17f0-739d-4fe3-9240-3a15fb85d126",
   "metadata": {},
   "outputs": [],
   "source": [
    "for i, file in enumerate(csv_files_counter_group_2):\n",
    "    # Adjust skiprows depending on whether it's the first file\n",
    "    skip_rows = 7 if i == 0 else 8\n",
    "    \n",
    "    # Read the file and filter based on 'NE Name' in site_name_set\n",
    "    df = pd.read_csv(file, skiprows=skip_rows, header=0 if i == 0 else None, encoding='ISO-8859-1')\n",
    "    \n",
    "    # Rename columns if necessary for subsequent files\n",
    "    if i > 0:\n",
    "        df.columns = group_2_df.columns\n",
    "\n",
    "    # Filter rows where 'NE Name' matches any value in site_name_set\n",
    "    df_filtered = df[df['NE Name'].isin(site_name_set)]\n",
    "    \n",
    "    # Append the filtered data to the combined DataFrame\n",
    "    group_2_df = pd.concat([group_2_df, df_filtered], ignore_index=True)"
   ]
  },
  {
   "cell_type": "markdown",
   "id": "0a7af3b6-9994-484b-bf1e-9c1d4c26f601",
   "metadata": {},
   "source": [
    "## Group 3"
   ]
  },
  {
   "cell_type": "markdown",
   "id": "33ce2bc9",
   "metadata": {},
   "source": [
    "In this part, group 3 metric files are read and concatenated"
   ]
  },
  {
   "cell_type": "markdown",
   "id": "0634a0ae",
   "metadata": {},
   "source": [
    "This code is able to concatenate N number of files and consolidate them into one dataframe"
   ]
  },
  {
   "cell_type": "code",
   "execution_count": 10,
   "id": "319aba58-4129-4f29-9d73-47469becfe90",
   "metadata": {},
   "outputs": [],
   "source": [
    "# Initialize an empty DataFrame to hold the combined data\n",
    "group_3_df = pd.DataFrame()"
   ]
  },
  {
   "cell_type": "code",
   "execution_count": 11,
   "id": "cbaf3a95-b91b-4009-9ee6-3fbe2739cdf7",
   "metadata": {},
   "outputs": [],
   "source": [
    "for i, file in enumerate(csv_files_counter_group_3):\n",
    "    # Adjust skiprows depending on whether it's the first file\n",
    "    skip_rows = 7 if i == 0 else 8\n",
    "    \n",
    "    # Read the file and filter based on 'NE Name' in site_name_set\n",
    "    df = pd.read_csv(file, skiprows=skip_rows, header=0 if i == 0 else None, encoding='ISO-8859-1')\n",
    "    \n",
    "    # Rename columns if necessary for subsequent files\n",
    "    if i > 0:\n",
    "        df.columns = group_3_df.columns\n",
    "\n",
    "    # Filter rows where 'NE Name' matches any value in site_name_set\n",
    "    df_filtered = df[df['NE Name'].isin(site_name_set)]\n",
    "    \n",
    "    # Append the filtered data to the combined DataFrame\n",
    "    group_3_df = pd.concat([group_3_df, df_filtered], ignore_index=True)"
   ]
  },
  {
   "cell_type": "markdown",
   "id": "de5c5174-e6e3-4572-81a7-6dc29a75323d",
   "metadata": {},
   "source": [
    "## Group 4"
   ]
  },
  {
   "cell_type": "markdown",
   "id": "2fbc86a3",
   "metadata": {},
   "source": [
    "In this part, group 4 metric files are read and concatenated"
   ]
  },
  {
   "cell_type": "markdown",
   "id": "a8426145",
   "metadata": {},
   "source": [
    "This code is able to concatenate N number of files and consolidate them into one dataframe"
   ]
  },
  {
   "cell_type": "code",
   "execution_count": null,
   "id": "451147ee-12c1-4019-8633-2260c6bfa989",
   "metadata": {},
   "outputs": [],
   "source": [
    "# Initialize an empty DataFrame to hold the combined data\n",
    "group_4_df = pd.DataFrame()"
   ]
  },
  {
   "cell_type": "code",
   "execution_count": 13,
   "id": "166f1da4-d8b2-4a06-a103-ae571e369ee6",
   "metadata": {},
   "outputs": [],
   "source": [
    "for i, file in enumerate(csv_files_counter_group_5):\n",
    "    # Adjust skiprows depending on whether it's the first file\n",
    "    skip_rows = 7 if i == 0 else 8\n",
    "    \n",
    "    # Read the file and filter based on 'NE Name' in site_name_set\n",
    "    df = pd.read_csv(file, skiprows=skip_rows, header=0 if i == 0 else None, encoding='ISO-8859-1')\n",
    "    \n",
    "    # Rename columns if necessary for subsequent files\n",
    "    if i > 0:\n",
    "        df.columns = group_5_df.columns\n",
    "\n",
    "    # Filter rows where 'NE Name' matches any value in site_name_set\n",
    "    df_filtered = df[df['NE Name'].isin(site_name_set)]\n",
    "    \n",
    "    # Append the filtered data to the combined DataFrame\n",
    "    group_5_df = pd.concat([group_5_df, df_filtered], ignore_index=True)"
   ]
  },
  {
   "cell_type": "code",
   "execution_count": 14,
   "id": "c21fdabf-8b80-4778-a78b-f72bcf0a3e89",
   "metadata": {},
   "outputs": [],
   "source": [
    "# Merge all DataFrames based on the 'Cell' and 'Time' columns.\n",
    "lte_data = pd.merge(group_1_df, group_2_df, on=['Start Time','Cell','Period(min)','NE Name'])\n",
    "lte_data = pd.merge(lte_data, group_3_df, on=['Start Time','Cell','Period(min)','NE Name'])\n",
    "lte_data = pd.merge(lte_data, group_4_df, on=['Start Time','Cell','Period(min)','NE Name'])"
   ]
  },
  {
   "cell_type": "markdown",
   "id": "881adb72-16b7-480f-9587-d3bb0dc53faf",
   "metadata": {},
   "source": [
    "## Adding new columns with information from within the df"
   ]
  },
  {
   "cell_type": "code",
   "execution_count": 18,
   "id": "31a4e03c-16fc-490d-9655-8091a145148c",
   "metadata": {},
   "outputs": [],
   "source": [
    "# Add temporary Date column with the correct date format needed\n",
    "lte_data['Date temp'] = lte_data['Start Time'].apply(standardize_date_format)\n",
    "\n",
    "# Add Date column that will only contain date format (without time).\n",
    "lte_data['Date'] = pd.to_datetime(lte_data['Date temp']).dt.date\n",
    "\n",
    "# Eliminate the original date column (Start Time) since it might have formatting issues\n",
    "lte_data = lte_data.drop(['Start Time'], axis=1)\n",
    "\n",
    "# Replace Date temp name to Start Time\n",
    "lte_data.rename(columns={'Date temp': 'Start Time'}, inplace=True)\n",
    "\n",
    "# Add 'Cell Name' columns\n",
    "lte_data['Cell Name'] = lte_data['Cell'].str.extract(r'Cell Name=(.*?), eNodeB ID=')\n",
    "\n",
    "# Add 'eNodeB ID' columns\n",
    "lte_data['eNodeB ID'] = lte_data['Cell'].str.extract(r'eNodeB ID=(.*?), Cell FDD')\n",
    "\n",
    "# Add 'Local CellID' columns\n",
    "lte_data['Local CellID'] = lte_data['Cell'].str.extract(r'Local Cell ID=(.*?), Cell Name=')\n",
    "\n",
    "# Convert to integer value\n",
    "lte_data['Local CellID'] = lte_data['Local CellID'].astype('int64')\n",
    "lte_data['eNodeB ID'] = lte_data['eNodeB ID'].astype('int64')\n",
    "\n",
    "# Replace 'NIL' with blanks\n",
    "# Convert to numeric types\n",
    "lte_data = lte_data.replace('NIL', '')\n",
    "lte_data = lte_data.convert_dtypes()"
   ]
  },
  {
   "cell_type": "markdown",
   "id": "28cb3d45-8cea-4a70-bb55-8b68949e1ea9",
   "metadata": {},
   "source": [
    "## Adding new columns from the merging procedure (Filtering file df_data_crossing)"
   ]
  },
  {
   "cell_type": "code",
   "execution_count": 30,
   "id": "764eebae-4a19-4602-89ac-8da7c9bdb176",
   "metadata": {},
   "outputs": [],
   "source": [
    "# Merge lte_data with df_data_crossing by user inner method to only get the desired elements.\n",
    "# Determine the columns taken from the merging procedure that need to be deleted.\n",
    "lte_data = pd.merge(lte_data, df_data_crossing, how = 'inner', left_on = ['eNodeB ID','Local CellID'], right_on = ['eNodeB ID','Local Cell ID LTE'])\n",
    "columns_delete = ['Site Name', 'MCC', 'MNC', 'Cell Name LTE', 'Local Cell ID LTE', 'MOCN', 'TEF EARFCN', 'TEF UARFCN']\n",
    "lte_data = lte_data.drop(columns_delete, axis=1)"
   ]
  },
  {
   "cell_type": "code",
   "execution_count": 32,
   "id": "286260ba-baa0-4f2b-8580-a14b4f15cc9b",
   "metadata": {},
   "outputs": [],
   "source": [
    "# Order columns in the df.\n",
    "# Define a list containing the first columns in the desired order.\n",
    "exclude = ['Start Time','Date','NE Name','eNodeB ID','Local CellID','Cell','Cell Name','Sector',\n",
    "           'Band','PCI','TAC','Band width','EARFCN DL','Region', 'Cluster Name','Period(min)']\n",
    "lte_data = lte_data[exclude + [col for col in lte_data.columns if col not in exclude]]"
   ]
  },
  {
   "cell_type": "markdown",
   "id": "936807e7-a90c-40ea-bd3b-d30105582b44",
   "metadata": {},
   "source": [
    "## Define counters and aggregation methonds"
   ]
  },
  {
   "cell_type": "code",
   "execution_count": 35,
   "id": "f87d1ba4-f928-4885-b2c2-053c0a786da6",
   "metadata": {},
   "outputs": [],
   "source": [
    "lte_counters = [col for col in lte_data.columns if col not in exclude]"
   ]
  },
  {
   "cell_type": "code",
   "execution_count": 36,
   "id": "9852357d-efa1-4722-b965-39b2c6a8f949",
   "metadata": {},
   "outputs": [],
   "source": [
    "# Convert columns to numeric\n",
    "for col in lte_counters:\n",
    "    lte_data[col] = pd.to_numeric(lte_data[col], errors='coerce')"
   ]
  },
  {
   "cell_type": "code",
   "execution_count": 37,
   "id": "fb7e327a-0577-4fe8-bcdf-d64dd0d9c642",
   "metadata": {},
   "outputs": [],
   "source": [
    "# Define the aggregation dictionary\n",
    "agg_dict = {col: 'sum' for col in lte_counters}\n",
    "agg_dict['L.UL.Interference.Avg (dBm)'] = 'mean'  # Use mean for this specific column"
   ]
  },
  {
   "cell_type": "markdown",
   "id": "1b35a07e-7d53-4176-a3e5-335beef7e7d4",
   "metadata": {},
   "source": [
    "# Phase 2"
   ]
  },
  {
   "cell_type": "markdown",
   "id": "1c0f531b-e284-4118-9817-fc0976ee991c",
   "metadata": {},
   "source": [
    "### Before and After"
   ]
  },
  {
   "cell_type": "code",
   "execution_count": 38,
   "id": "7784e491-86a8-4227-9bdb-4ce0be8fd4e0",
   "metadata": {},
   "outputs": [],
   "source": [
    "# Ensure both columns are of datetime type\n",
    "lte_data['Start Time'] = pd.to_datetime(lte_data['Start Time'])\n",
    "lte_data_highQual['Start Time'] = pd.to_datetime(lte_data_highQual['Start Time'])\n",
    "lte_data_plmn['Start Time'] = pd.to_datetime(lte_data_plmn['Start Time'])\n",
    "lte_data_plmn_highQual['Start Time'] = pd.to_datetime(lte_data_plmn_highQual['Start Time'])\n",
    "df_period['Start Time'] = pd.to_datetime(df_period['Start Time'])"
   ]
  },
  {
   "cell_type": "code",
   "execution_count": 39,
   "id": "fd61ebc5-d403-4d06-8432-ec7c008741ca",
   "metadata": {},
   "outputs": [],
   "source": [
    "period_data_lte = pd.merge(lte_data, df_period, how = 'inner', left_on = ['Start Time','NE Name'], right_on = ['Start Time','NE Name'])\n",
    "#period_data_lte = period_data_lte.drop(['D','Time'], axis=1)\n",
    "period_data_lte_highQual = pd.merge(lte_data_highQual, df_period, how = 'inner', left_on = ['Start Time','NE Name'], right_on = ['Start Time','NE Name'])\n",
    "#period_data_lte_highQual = period_data_lte_highQual.drop(['D','Time'], axis=1)\n",
    "period_data_lte_plmn = pd.merge(lte_data_plmn, df_period, how = 'inner', left_on = ['Start Time','NE Name'], right_on = ['Start Time','NE Name'])\n",
    "#period_data_lte_plmn = period_data_lte_plmn.drop(['D','Time'], axis=1)\n",
    "period_data_lte_plmn_highQual = pd.merge(lte_data_plmn_highQual, df_period, how = 'inner', left_on = ['Start Time','NE Name'], right_on = ['Start Time','NE Name'])\n",
    "#lte_data_plmn_highQual = lte_data_plmn_highQual.drop(['D','Time'], axis=1)"
   ]
  },
  {
   "cell_type": "markdown",
   "id": "7dfa9d9a-e36f-4dbc-a7a5-6fbbf142e49f",
   "metadata": {},
   "source": [
    "### Huawei Combined"
   ]
  },
  {
   "cell_type": "code",
   "execution_count": 40,
   "id": "2a1eb2bc-498c-45b8-89c8-682963db3ae0",
   "metadata": {},
   "outputs": [
    {
     "name": "stderr",
     "output_type": "stream",
     "text": [
      "C:\\Users\\gwx1336306\\AppData\\Local\\Temp\\ipykernel_6412\\8415340.py:2: SettingWithCopyWarning: \n",
      "A value is trying to be set on a copy of a slice from a DataFrame.\n",
      "Try using .loc[row_indexer,col_indexer] = value instead\n",
      "\n",
      "See the caveats in the documentation: https://pandas.pydata.org/pandas-docs/stable/user_guide/indexing.html#returning-a-view-versus-a-copy\n",
      "  period_data_huawei['Band 2'] = 'all Huawei (AWS/PCS/850)'\n"
     ]
    }
   ],
   "source": [
    "period_data_huawei = period_data_lte[~period_data_lte['Band'].isin([\"B7\",\"B7bis\"])]\n",
    "period_data_huawei['Band 2'] = 'all Huawei (AWS/PCS/850)'\n",
    "period_data_huawei = period_data_huawei.groupby(['Period', 'NE Name', 'Band 2']).agg(agg_dict).reset_index()"
   ]
  },
  {
   "cell_type": "code",
   "execution_count": 41,
   "id": "43870a28-d006-4be4-8356-b050c6a783e5",
   "metadata": {},
   "outputs": [],
   "source": [
    "period_data_huawei_highQual = period_data_lte_highQual[~period_data_lte_highQual['Band'].isin([\"B7\",\"B7bis\"])]\n",
    "period_data_huawei_highQual['Band 2'] = 'all Huawei (AWS/PCS/850)'\n",
    "period_data_huawei_highQual = period_data_huawei_highQual.groupby(['Period', 'NE Name', 'Band 2']).agg(agg_dict).reset_index()"
   ]
  },
  {
   "cell_type": "code",
   "execution_count": 42,
   "id": "0023eaef-a1fc-4946-bf60-ae92f65a9b59",
   "metadata": {},
   "outputs": [
    {
     "name": "stderr",
     "output_type": "stream",
     "text": [
      "C:\\Users\\gwx1336306\\AppData\\Local\\Temp\\ipykernel_6412\\286411480.py:2: SettingWithCopyWarning: \n",
      "A value is trying to be set on a copy of a slice from a DataFrame.\n",
      "Try using .loc[row_indexer,col_indexer] = value instead\n",
      "\n",
      "See the caveats in the documentation: https://pandas.pydata.org/pandas-docs/stable/user_guide/indexing.html#returning-a-view-versus-a-copy\n",
      "  period_data_huawei_plmn['Band 2'] = 'all Huawei (AWS/PCS/850)'\n"
     ]
    }
   ],
   "source": [
    "period_data_huawei_plmn = period_data_lte_plmn[~period_data_lte_plmn['Band'].isin([\"B7\",\"B7bis\"])]\n",
    "period_data_huawei_plmn['Band 2'] = 'all Huawei (AWS/PCS/850)'\n",
    "period_data_huawei_plmn = period_data_huawei_plmn.groupby(['Period', 'NE Name', 'Band 2','CN Operator ID' ,'Mobile Country Code', 'Mobile Network Code']).agg(agg_dict_plmn).reset_index()"
   ]
  },
  {
   "cell_type": "code",
   "execution_count": 43,
   "id": "f2f15710-cb48-4105-8629-0a215aec8206",
   "metadata": {},
   "outputs": [],
   "source": [
    "period_data_huawei_plmn_highQual = period_data_lte_plmn_highQual[~period_data_lte_plmn_highQual['Band'].isin([\"B7\",\"B7bis\"])]\n",
    "period_data_huawei_plmn_highQual['Band 2'] = 'all Huawei (AWS/PCS/850)'\n",
    "period_data_huawei_plmn_highQual = period_data_huawei_plmn_highQual.groupby(['Period', 'NE Name', 'Band 2','CN Operator ID' ,'Mobile Country Code', 'Mobile Network Code']).agg(agg_dict_plmn).reset_index()"
   ]
  },
  {
   "cell_type": "markdown",
   "id": "ac655216-c759-4a1f-a560-8a1e15806ff1",
   "metadata": {},
   "source": [
    "### Band 7 Combined"
   ]
  },
  {
   "cell_type": "code",
   "execution_count": 44,
   "id": "b62d7b3c-159c-496f-87ee-a7d6e8b4c932",
   "metadata": {},
   "outputs": [],
   "source": [
    "#####\n",
    "#lte_data_plmn.to_csv(writing_path + 'lte_check_plmn.csv', index=False)\n",
    "#lte_data_plmn.to_csv(writing_path + 'plmn.csv', index=False)\n",
    "#period_data_lte_plmn.to_csv(writing_path + 'check.csv', index=False)"
   ]
  },
  {
   "cell_type": "code",
   "execution_count": 45,
   "id": "7957f97c-4689-42f4-b6dc-4549b4e4bd43",
   "metadata": {},
   "outputs": [
    {
     "name": "stderr",
     "output_type": "stream",
     "text": [
      "C:\\Users\\gwx1336306\\AppData\\Local\\Temp\\ipykernel_6412\\731584188.py:2: SettingWithCopyWarning: \n",
      "A value is trying to be set on a copy of a slice from a DataFrame.\n",
      "Try using .loc[row_indexer,col_indexer] = value instead\n",
      "\n",
      "See the caveats in the documentation: https://pandas.pydata.org/pandas-docs/stable/user_guide/indexing.html#returning-a-view-versus-a-copy\n",
      "  period_data_band7['Band 2'] = 'B7'\n"
     ]
    }
   ],
   "source": [
    "period_data_band7 = period_data_lte[~period_data_lte['Band'].isin([850,\"PCS\",\"AWS\",\"AWS'\",\"B7bis\"])]\n",
    "period_data_band7['Band 2'] = 'B7'\n",
    "period_data_band7 = period_data_band7.groupby(['Period', 'NE Name', 'Band 2']).agg(agg_dict).reset_index()"
   ]
  },
  {
   "cell_type": "code",
   "execution_count": 46,
   "id": "bc22f382-fc3f-4097-a4ad-893876798ae2",
   "metadata": {},
   "outputs": [],
   "source": [
    "period_data_band7_highQual = period_data_lte_highQual[~period_data_lte_highQual['Band'].isin([850,\"PCS\",\"AWS\",\"AWS'\",\"B7bis\"])]\n",
    "period_data_band7_highQual['Band 2'] = 'B7'\n",
    "period_data_band7_highQual = period_data_band7_highQual.groupby(['Period', 'NE Name', 'Band 2']).agg(agg_dict).reset_index()"
   ]
  },
  {
   "cell_type": "code",
   "execution_count": 47,
   "id": "5757abf4-14f4-47b4-9ba7-12bd0475acd3",
   "metadata": {},
   "outputs": [
    {
     "name": "stderr",
     "output_type": "stream",
     "text": [
      "C:\\Users\\gwx1336306\\AppData\\Local\\Temp\\ipykernel_6412\\1500004261.py:2: SettingWithCopyWarning: \n",
      "A value is trying to be set on a copy of a slice from a DataFrame.\n",
      "Try using .loc[row_indexer,col_indexer] = value instead\n",
      "\n",
      "See the caveats in the documentation: https://pandas.pydata.org/pandas-docs/stable/user_guide/indexing.html#returning-a-view-versus-a-copy\n",
      "  period_data_band7_plmn['Band 2'] = 'B7'\n"
     ]
    }
   ],
   "source": [
    "period_data_band7_plmn = period_data_lte_plmn[~period_data_lte_plmn['Band'].isin([850,\"PCS\",\"AWS\",\"AWS'\",\"B7bis\"])]\n",
    "period_data_band7_plmn['Band 2'] = 'B7'\n",
    "period_data_band7_plmn = period_data_band7_plmn.groupby(['Period', 'NE Name', 'Band 2','CN Operator ID' ,'Mobile Country Code', 'Mobile Network Code']).agg(agg_dict_plmn).reset_index()"
   ]
  },
  {
   "cell_type": "code",
   "execution_count": 48,
   "id": "f1065651-884e-403d-8f97-a5517a76b1b4",
   "metadata": {},
   "outputs": [],
   "source": [
    "period_data_band7_plmn_highQual = period_data_lte_plmn_highQual[~period_data_lte_plmn_highQual['Band'].isin([850,\"PCS\",\"AWS\",\"AWS'\",\"B7bis\"])]\n",
    "period_data_band7_plmn_highQual['Band 2'] = 'B7'\n",
    "period_data_band7_plmn_highQual = period_data_band7_plmn_highQual.groupby(['Period', 'NE Name', 'Band 2','CN Operator ID' ,'Mobile Country Code', 'Mobile Network Code']).agg(agg_dict_plmn).reset_index()"
   ]
  },
  {
   "cell_type": "markdown",
   "id": "f0c149de-be0d-4aa7-b810-86adee8eefdc",
   "metadata": {},
   "source": [
    "### Band 7 Bis Combined"
   ]
  },
  {
   "cell_type": "code",
   "execution_count": 49,
   "id": "edce0715-d0ed-4cdf-8316-b80e41a5abd7",
   "metadata": {},
   "outputs": [
    {
     "name": "stderr",
     "output_type": "stream",
     "text": [
      "C:\\Users\\gwx1336306\\AppData\\Local\\Temp\\ipykernel_6412\\1451582806.py:2: SettingWithCopyWarning: \n",
      "A value is trying to be set on a copy of a slice from a DataFrame.\n",
      "Try using .loc[row_indexer,col_indexer] = value instead\n",
      "\n",
      "See the caveats in the documentation: https://pandas.pydata.org/pandas-docs/stable/user_guide/indexing.html#returning-a-view-versus-a-copy\n",
      "  period_data_band7_bis['Band 2'] = 'B7bis'\n"
     ]
    }
   ],
   "source": [
    "period_data_band7_bis = period_data_lte[~period_data_lte['Band'].isin([850,\"PCS\",\"AWS\",\"AWS'\",\"B7\"])]\n",
    "period_data_band7_bis['Band 2'] = 'B7bis'\n",
    "period_data_band7_bis = period_data_band7_bis.groupby(['Period', 'NE Name', 'Band 2']).agg(agg_dict).reset_index()"
   ]
  },
  {
   "cell_type": "code",
   "execution_count": 50,
   "id": "4bcb43d4-27c8-41de-97d6-f97c903c04c3",
   "metadata": {},
   "outputs": [],
   "source": [
    "period_data_band7_highQual_bis = period_data_lte_highQual[~period_data_lte_highQual['Band'].isin([850,\"PCS\",\"AWS\",\"AWS'\",\"B7\"])]\n",
    "period_data_band7_highQual_bis['Band 2'] = 'B7bis'\n",
    "period_data_band7_highQual_bis = period_data_band7_highQual_bis.groupby(['Period', 'NE Name', 'Band 2']).agg(agg_dict).reset_index()"
   ]
  },
  {
   "cell_type": "code",
   "execution_count": 51,
   "id": "36983cc6-dedb-4019-88d0-046ccb056fa8",
   "metadata": {},
   "outputs": [
    {
     "name": "stderr",
     "output_type": "stream",
     "text": [
      "C:\\Users\\gwx1336306\\AppData\\Local\\Temp\\ipykernel_6412\\393405535.py:2: SettingWithCopyWarning: \n",
      "A value is trying to be set on a copy of a slice from a DataFrame.\n",
      "Try using .loc[row_indexer,col_indexer] = value instead\n",
      "\n",
      "See the caveats in the documentation: https://pandas.pydata.org/pandas-docs/stable/user_guide/indexing.html#returning-a-view-versus-a-copy\n",
      "  period_data_band7_plmn_bis['Band 2'] = 'B7bis'\n"
     ]
    }
   ],
   "source": [
    "period_data_band7_plmn_bis = period_data_lte_plmn[~period_data_lte_plmn['Band'].isin([850,\"PCS\",\"AWS\",\"AWS'\",\"B7\"])]\n",
    "period_data_band7_plmn_bis['Band 2'] = 'B7bis'\n",
    "period_data_band7_plmn_bis = period_data_band7_plmn_bis.groupby(['Period', 'NE Name', 'Band 2','CN Operator ID' ,'Mobile Country Code', 'Mobile Network Code']).agg(agg_dict_plmn).reset_index()"
   ]
  },
  {
   "cell_type": "code",
   "execution_count": 52,
   "id": "c6b78239-2105-431d-bdbe-25448f176e99",
   "metadata": {},
   "outputs": [],
   "source": [
    "period_data_band7_plmn_highQual_bis = period_data_lte_plmn_highQual[~period_data_lte_plmn_highQual['Band'].isin([850,\"PCS\",\"AWS\",\"AWS'\",\"B7\"])]\n",
    "period_data_band7_plmn_highQual_bis['Band 2'] = 'B7bis'\n",
    "period_data_band7_plmn_highQual_bis = period_data_band7_plmn_highQual_bis.groupby(['Period', 'NE Name', 'Band 2','CN Operator ID' ,'Mobile Country Code', 'Mobile Network Code']).agg(agg_dict_plmn).reset_index()"
   ]
  },
  {
   "cell_type": "markdown",
   "id": "565048a2-e5f8-42d3-80c5-42884248d161",
   "metadata": {},
   "source": [
    "### ALL Combined"
   ]
  },
  {
   "cell_type": "code",
   "execution_count": 53,
   "id": "3f77dd05-87f9-4dc0-8c66-53182b95e78b",
   "metadata": {},
   "outputs": [],
   "source": [
    "period_data_all = period_data_lte.copy()\n",
    "period_data_all['Band 2'] = 'all'\n",
    "period_data_all = period_data_all.groupby(['Period', 'NE Name', 'Band 2']).agg(agg_dict).reset_index()"
   ]
  },
  {
   "cell_type": "code",
   "execution_count": 54,
   "id": "f39645b5-d0f8-471e-96ed-a971acf5ae48",
   "metadata": {},
   "outputs": [],
   "source": [
    "period_data_all_highQual = period_data_lte_highQual.copy()\n",
    "period_data_all_highQual['Band 2'] = 'all'\n",
    "period_data_all_highQual = period_data_all_highQual.groupby(['Period', 'NE Name', 'Band 2']).agg(agg_dict).reset_index()"
   ]
  },
  {
   "cell_type": "code",
   "execution_count": 55,
   "id": "69961936-3ba1-4379-bc6a-46d6209beddd",
   "metadata": {},
   "outputs": [],
   "source": [
    "period_data_all_plmn = period_data_lte_plmn.copy()\n",
    "period_data_all_plmn['Band 2'] = 'all'\n",
    "period_data_all_plmn = period_data_all_plmn.groupby(['Period', 'NE Name', 'Band 2','CN Operator ID' ,'Mobile Country Code', 'Mobile Network Code']).agg(agg_dict_plmn).reset_index()"
   ]
  },
  {
   "cell_type": "code",
   "execution_count": 56,
   "id": "2ba89b89-0b65-4e6b-bc4e-6910ff1f2210",
   "metadata": {},
   "outputs": [],
   "source": [
    "period_data_all_plmn_highQual = period_data_lte_plmn_highQual.copy()\n",
    "period_data_all_plmn_highQual['Band 2'] = 'all'\n",
    "period_data_all_plmn_highQual = period_data_all_plmn_highQual.groupby(['Period', 'NE Name', 'Band 2','CN Operator ID' ,'Mobile Country Code', 'Mobile Network Code']).agg(agg_dict_plmn).reset_index()"
   ]
  },
  {
   "cell_type": "markdown",
   "id": "06b0aeaa-b802-498e-9f07-5f187300f176",
   "metadata": {},
   "source": [
    "### Concatenating BOTH Periods"
   ]
  },
  {
   "cell_type": "code",
   "execution_count": 57,
   "id": "d98c367a-4a27-4d96-af67-aac70e3fa5ac",
   "metadata": {},
   "outputs": [],
   "source": [
    "final_period_data = pd.concat([period_data_huawei, period_data_band7], ignore_index=True)\n",
    "final_period_data = pd.concat([final_period_data, period_data_band7_bis], ignore_index=True)\n",
    "final_period_data = pd.concat([final_period_data, period_data_all], ignore_index=True)\n",
    "\n",
    "final_period_data_highQual = pd.concat([period_data_huawei_highQual, period_data_band7_highQual], ignore_index=True)\n",
    "final_period_data_highQual = pd.concat([final_period_data_highQual, period_data_band7_highQual_bis], ignore_index=True)\n",
    "final_period_data_highQual = pd.concat([final_period_data_highQual, period_data_all_highQual], ignore_index=True)\n",
    "\n",
    "final_period_data_plmn = pd.concat([period_data_huawei_plmn, period_data_band7_plmn], ignore_index=True)\n",
    "final_period_data_plmn = pd.concat([final_period_data_plmn, period_data_band7_plmn_bis], ignore_index=True)\n",
    "final_period_data_plmn = pd.concat([final_period_data_plmn, period_data_all_plmn], ignore_index=True)\n",
    "\n",
    "final_period_data_plmn_highQual = pd.concat([period_data_huawei_plmn_highQual, period_data_band7_plmn_highQual], ignore_index=True)\n",
    "final_period_data_plmn_highQual = pd.concat([final_period_data_plmn_highQual, period_data_band7_plmn_highQual_bis], ignore_index=True)\n",
    "final_period_data_plmn_highQual = pd.concat([final_period_data_plmn_highQual, period_data_all_plmn_highQual], ignore_index=True)"
   ]
  },
  {
   "cell_type": "markdown",
   "id": "b9f6f6b5-0660-4af2-8d73-26d18d1e4432",
   "metadata": {},
   "source": [
    "### Calculating Bechmark Combined"
   ]
  },
  {
   "cell_type": "markdown",
   "id": "c984f655-33d4-4622-82d5-92e0df485705",
   "metadata": {},
   "source": [
    "##### Setting up Samsung raw counters"
   ]
  },
  {
   "cell_type": "code",
   "execution_count": 58,
   "id": "2e93ddac-bf47-488d-acb1-3600542995aa",
   "metadata": {},
   "outputs": [],
   "source": [
    "nKPI = ['Start Time','Date','Hour','Period','ENB_AGG']\n",
    "combined_counters = [col for col in samsung_raw_data.columns if col not in nKPI]\n",
    "# Convert columns to numeric\n",
    "for col in combined_counters:\n",
    "    samsung_raw_data[col] = pd.to_numeric(samsung_raw_data[col], errors='coerce')\n",
    "agg_dict_comb = {col: 'sum' for col in combined_counters}\n",
    "agg_dict_comb['UL_INTERFERENCE_PUSCH'] = 'mean'"
   ]
  },
  {
   "cell_type": "code",
   "execution_count": 59,
   "id": "3d2dbacc-5766-417e-bd96-0dab1e0c043f",
   "metadata": {},
   "outputs": [],
   "source": [
    "samsung_raw_data_b = samsung_raw_data.groupby(['Start Time','Date','ENB_AGG']).agg(agg_dict_comb).reset_index()\n",
    "samsung_raw_data_b.rename(columns={'ENB_AGG': 'NE Name'}, inplace=True)\n",
    "no_sam = ['Start Time','Date','NE Name']\n",
    "sumsung_counter_delete = [col for col in samsung_raw_data_b.columns if col not in no_sam]"
   ]
  },
  {
   "cell_type": "markdown",
   "id": "6c9cd3a8-13dd-47cd-8543-6e79727beea5",
   "metadata": {},
   "source": [
    "##### Calculating Huawei and then all KPI cambined (HUA + SAM) [ONLY BEFORE]"
   ]
  },
  {
   "cell_type": "code",
   "execution_count": 60,
   "id": "15f5f76b-ee5f-4ea2-a387-789106246a93",
   "metadata": {},
   "outputs": [],
   "source": [
    "lte_data_copy = lte_data.copy()\n",
    "huawei_raw_data_b = lte_data_copy.groupby(['Start Time','Date','NE Name']).agg(agg_dict).reset_index()"
   ]
  },
  {
   "cell_type": "code",
   "execution_count": 61,
   "id": "749c6d5f-88b2-4486-8b70-13fcb7202415",
   "metadata": {},
   "outputs": [],
   "source": [
    "huawei_raw_data_b['HUA RRC_SUCCESS_NUM'] = (huawei_raw_data_b['L.RRC.ConnReq.Succ.Emc (None)']+huawei_raw_data_b['L.RRC.ConnReq.Succ.HighPri (None)']+huawei_raw_data_b['L.RRC.ConnReq.Succ.Mt (None)']+huawei_raw_data_b['L.RRC.ConnReq.Succ.MoData (None)']+huawei_raw_data_b['L.RRC.ConnReq.Succ.DelayTol (None)']+huawei_raw_data_b['L.RRC.ConnReq.Succ.MoSig (None)'])\n",
    "huawei_raw_data_b['HUA RRC_ATTEMPTS_ALL'] = (huawei_raw_data_b['L.RRC.ConnReq.Att.Emc (None)']+huawei_raw_data_b['L.RRC.ConnReq.Att.HighPri (None)']+huawei_raw_data_b['L.RRC.ConnReq.Att.Mt (None)']+huawei_raw_data_b['L.RRC.ConnReq.Att.MoData (None)']+huawei_raw_data_b['L.RRC.ConnReq.Att.DelayTol (None)']+huawei_raw_data_b['L.RRC.ConnReq.Att.MoSig (None)'])\n",
    "huawei_raw_data_b['HUA ERAB_SUCCESS'] = huawei_raw_data_b['L.E-RAB.SuccEst (None)']\n",
    "huawei_raw_data_b['HUA ERABS_ATTEMPTS'] = huawei_raw_data_b['L.E-RAB.AttEst (None)']-huawei_raw_data_b['L.E-RAB.FailEst.X2AP (None)']\n",
    "huawei_raw_data_b['HUA S1_SUCCESS'] = huawei_raw_data_b['L.S1Sig.ConnEst.Succ (None)']\n",
    "huawei_raw_data_b['HUA S1_ATTEMPTS'] = huawei_raw_data_b['L.S1Sig.ConnEst.Att (None)']\n",
    "huawei_raw_data_b['HUA RETAINABILITY_NUM'] = (huawei_raw_data_b['L.E-RAB.AbnormRel (None)']+huawei_raw_data_b['L.E-RAB.AbnormRel.MME (None)']+huawei_raw_data_b['L.E-RAB.Rel.S1Reset.eNodeB (None)']+huawei_raw_data_b['L.E-RAB.Rel.S1Reset.MME (None)'])\n",
    "huawei_raw_data_b['HUA RETAINABILITY_DENOM'] = (huawei_raw_data_b['L.E-RAB.AbnormRel (None)']+huawei_raw_data_b['L.E-RAB.NormRel (None)'])\n",
    "huawei_raw_data_b['HUA IRAT_4G_TO_3G_EVENTS'] = (huawei_raw_data_b['L.RRCRedirection.E2W (None)']+huawei_raw_data_b['L.RRCRedirection.E2G (None)']+huawei_raw_data_b['L.IRATHO.E2W.ExecSuccOut (None)']+huawei_raw_data_b['L.IRATHO.E2G.ExecSuccOut (None)']-huawei_raw_data_b['L.CSFB.E2W (None)']-huawei_raw_data_b['L.CSFB.E2G (None)'])\n",
    "huawei_raw_data_b['HUA IRAT_DEN'] = (huawei_raw_data_b['L.E-RAB.AbnormRel (None)']+huawei_raw_data_b['L.E-RAB.NormRel (None)']+huawei_raw_data_b['L.E-RAB.NormRel.IRatHOOut (None)']-huawei_raw_data_b['L.CSFB.E2W (None)']-huawei_raw_data_b['L.CSFB.E2G (None)'])\n",
    "huawei_raw_data_b['HUA THPT_USER_DL_KBPS_NUM'] = (huawei_raw_data_b['L.Thrp.bits.DL (bit)']-huawei_raw_data_b['L.Thrp.bits.DL.LastTTI (bit)'])\n",
    "huawei_raw_data_b['HUA THPT_USER_DL_KBPS_DENOM'] = huawei_raw_data_b['L.Thrp.Time.DL.RmvLastTTI (ms)']\n",
    "huawei_raw_data_b['HUA DROPS_QCI1'] = (huawei_raw_data_b['L.E-RAB.AbnormRel.QCI.1 (None)'] + huawei_raw_data_b['L.E-RAB.AbnormRel.MME.VoIP (None)'])\n",
    "huawei_raw_data_b['HUA DEN_RET_QCI_1'] = (huawei_raw_data_b['L.E-RAB.NormRel.QCI.1 (None)']+huawei_raw_data_b['L.E-RAB.AbnormRel.QCI.1 (None)']+huawei_raw_data_b['L.E-RAB.NormRel.IRatHOOut.QCI.1 (None)'])\n",
    "huawei_raw_data_b['HUA DROPS_QCI5'] = (huawei_raw_data_b['L.E-RAB.AbnormRel.QCI.5 (None)'] + huawei_raw_data_b['L.E-RAB.AbnormRel.MME.QCI.5 (None)'])\n",
    "huawei_raw_data_b['HUA DEN_RET_QCI_5'] = (huawei_raw_data_b['L.E-RAB.NormRel.QCI.5 (None)']+huawei_raw_data_b['L.E-RAB.AbnormRel.QCI.5 (None)']+huawei_raw_data_b['L.E-RAB.NormRel.IRatHOOut.QCI.5 (None)'])\n",
    "huawei_raw_data_b['HUA VOLTE_ACC_ERAB_NUM_QCI1'] = huawei_raw_data_b['L.E-RAB.SuccEst.QCI.1 (None)']\n",
    "huawei_raw_data_b['HUA VOLTE_ACC_ERAB_DEN_QCI1'] = (huawei_raw_data_b['L.E-RAB.AttEst.QCI.1 (None)']-huawei_raw_data_b['L.E-RAB.FailEst.X2AP.VoIP (None)'])\n",
    "huawei_raw_data_b['HUA VOLTE_ACC_ERAB_NUM_QCI5'] = huawei_raw_data_b['L.E-RAB.SuccEst.QCI.5 (None)']\n",
    "huawei_raw_data_b['HUA VOLTE_ACC_ERAB_DEN_QCI5'] = huawei_raw_data_b['L.E-RAB.AttEst.QCI.5 (None)']\n",
    "huawei_raw_data_b['HUA TRAFFIC_D_USER_DL_GB'] = ((huawei_raw_data_b['L.Thrp.bits.DL (bit)']/(1024*1024*1024))*0.125)\n",
    "huawei_raw_data_b['HUA TRAFFIC_D_USER_PS_GB'] = ((huawei_raw_data_b['L.Thrp.bits.DL (bit)']/(1024*1024*1024))*0.125) + ((huawei_raw_data_b['L.Thrp.bits.UL (bit)']/(1024*1024*1024))*0.125)\n",
    "huawei_raw_data_b['HUA RRCCONNUSER_AVG'] = huawei_raw_data_b['L.Traffic.User.Avg (None)']\n",
    "huawei_raw_data_b['HUA UL_INTERFERENCE_PUSCH'] = huawei_raw_data_b['L.UL.Interference.Avg (dBm)']\n",
    "huawei_raw_data_b['HUA USER_TRAFFIC_VOLTE'] = huawei_raw_data_b['L.E-RAB.SessionTime.HighPrecision.QCI1 (100 ms)']/10/60/60"
   ]
  },
  {
   "cell_type": "code",
   "execution_count": 62,
   "id": "a70e6b28-100b-432d-911c-63f0e5e71621",
   "metadata": {},
   "outputs": [],
   "source": [
    "huawei_raw_data_b = huawei_raw_data_b.drop(lte_counters, axis=1)\n",
    "no_sam = ['Start Time','Date','NE Name']\n",
    "huawei_counter_delete = [col for col in huawei_raw_data_b.columns if col not in no_sam]"
   ]
  },
  {
   "cell_type": "code",
   "execution_count": 63,
   "id": "3bc29e70-3b2e-40fb-be4d-fa39cc5eeaa3",
   "metadata": {},
   "outputs": [],
   "source": [
    "samsung_raw_data_b['Date'] = pd.to_datetime(samsung_raw_data_b['Date'], errors='coerce')\n",
    "huawei_raw_data_b['Date'] = pd.to_datetime(huawei_raw_data_b['Date'], errors='coerce')\n",
    "\n",
    "####################################################\n",
    "################## TESTING CONCAT ##################\n",
    "####################################################\n",
    "combined_benchmark = pd.merge(samsung_raw_data_b, huawei_raw_data_b, how = 'inner', left_on = ['Start Time','Date','NE Name'], right_on = ['Start Time','Date','NE Name'])\n"
   ]
  },
  {
   "cell_type": "code",
   "execution_count": 64,
   "id": "de63e749-684c-456f-9146-00b53d3d5eaa",
   "metadata": {},
   "outputs": [],
   "source": [
    "combined_benchmark['Combined PS Service Accessibility (%)'] = (((combined_benchmark['HUA RRC_SUCCESS_NUM']+combined_benchmark['RRC_SUCCESS_ALL'])/(combined_benchmark['HUA RRC_ATTEMPTS_ALL']+combined_benchmark['RRC_ATTEMPTS_ALL']))*((combined_benchmark['HUA ERAB_SUCCESS']+combined_benchmark['ERAB_SUCCESS'])/(combined_benchmark['HUA ERABS_ATTEMPTS']+combined_benchmark['ERABS_ATTEMPTS']))*((combined_benchmark['HUA S1_SUCCESS']+combined_benchmark['S1_SUCCESS'])/(combined_benchmark['HUA S1_ATTEMPTS']+combined_benchmark['S1_ATTEMPTS'])))*100\n",
    "combined_benchmark['Combined DL User Throughput (Kbps)'] = (combined_benchmark['THPT_USER_DL_KBPS_NUM']+combined_benchmark['HUA THPT_USER_DL_KBPS_NUM'])/(combined_benchmark['THPT_USER_DL_KBPS_DENOM']+combined_benchmark['HUA THPT_USER_DL_KBPS_DENOM'])\n",
    "combined_benchmark['Combined Average UL Interference (dBm)'] = (combined_benchmark['HUA UL_INTERFERENCE_PUSCH'] + combined_benchmark['UL_INTERFERENCE_PUSCH'])/2\n",
    "combined_benchmark['Combined PS Service Retainability (%)'] = (1 -( (combined_benchmark['HUA RETAINABILITY_NUM']+combined_benchmark['RETAINABILITY_NUM'])/(combined_benchmark['HUA RETAINABILITY_DENOM']+combined_benchmark['RETAINABILITY_DENOM']) ))*100\n",
    "combined_benchmark['Combined PS Retention (%)'] = ((combined_benchmark['HUA IRAT_4G_TO_3G_EVENTS']+combined_benchmark['IRAT_4G_TO_3G_EVENTS'])/(combined_benchmark['HUA IRAT_DEN']+combined_benchmark['IRAT_DEN']))*100\n",
    "combined_benchmark['Combined DL Traffic (GB)'] = combined_benchmark['HUA TRAFFIC_D_USER_DL_GB'] + combined_benchmark['TRAFFIC_D_USER_DL_GB']\n",
    "combined_benchmark['Combined Total Traffic (GB)'] = combined_benchmark['HUA TRAFFIC_D_USER_PS_GB'] + combined_benchmark['TRAFFIC_D_USER_PS_GB']\n",
    "combined_benchmark['Combined RRC Users (None)'] = combined_benchmark['HUA RRCCONNUSER_AVG'] + combined_benchmark['RRCCONNUSER_AVG']\n",
    "combined_benchmark['Combined VoLTE Accessibility [QCI-1] (%)'] = ((combined_benchmark['HUA VOLTE_ACC_ERAB_NUM_QCI1']+combined_benchmark['VOLTE_ACC_ERAB_NUM_QCI1'])/(combined_benchmark['HUA VOLTE_ACC_ERAB_DEN_QCI1']+combined_benchmark['VOLTE_ACC_ERAB_DEN_QCI1']))*100\n",
    "combined_benchmark['Combined VoLTE Accessibility (%)'] = ((combined_benchmark['HUA VOLTE_ACC_ERAB_NUM_QCI5']+combined_benchmark['VOLTE_ACC_ERAB_NUM_QCI5'])/(combined_benchmark['HUA VOLTE_ACC_ERAB_DEN_QCI5']+combined_benchmark['VOLTE_ACC_ERAB_DEN_QCI5'])*((combined_benchmark['HUA RRC_SUCCESS_NUM']+combined_benchmark['RRC_SUCCESS_ALL'])/(combined_benchmark['HUA RRC_ATTEMPTS_ALL']+combined_benchmark['RRC_ATTEMPTS_ALL']))*(combined_benchmark['HUA VOLTE_ACC_ERAB_NUM_QCI1']+combined_benchmark['VOLTE_ACC_ERAB_NUM_QCI1'])/(combined_benchmark['HUA VOLTE_ACC_ERAB_DEN_QCI1']+combined_benchmark['VOLTE_ACC_ERAB_DEN_QCI1']))*100\n",
    "combined_benchmark['Combined VoLTE Drop Rate [QCI-1] (%)'] = ((combined_benchmark['HUA DROPS_QCI1']+combined_benchmark['DROPS_QCI1'])/(combined_benchmark['HUA DEN_RET_QCI_1']+combined_benchmark['DEN_RET_QCI_1']))*100\n",
    "combined_benchmark['Combined VoLTE Drop Rate [QCI-5] (%)'] = ((combined_benchmark['HUA DROPS_QCI5']+combined_benchmark['DROPS_QCI5'])/(combined_benchmark['HUA DEN_RET_QCI_5']+combined_benchmark['DEN_RET_QCI_5']))*100\n",
    "combined_benchmark['Combined VoLTE Erlangs (Erl)'] = combined_benchmark['HUA USER_TRAFFIC_VOLTE'] + combined_benchmark['USER_TRAFFIC_VOLTE']"
   ]
  },
  {
   "cell_type": "code",
   "execution_count": 65,
   "id": "2500e84f-58de-4996-9cc9-7e0e09b4f6a3",
   "metadata": {},
   "outputs": [],
   "source": [
    "combined_benchmark = combined_benchmark.drop(sumsung_counter_delete, axis=1)\n",
    "combined_benchmark = combined_benchmark.drop(huawei_counter_delete, axis=1)"
   ]
  },
  {
   "cell_type": "code",
   "execution_count": 66,
   "id": "1734df5e-aa89-4392-82f2-b9a43f7c64e0",
   "metadata": {},
   "outputs": [],
   "source": [
    "combined_benchmark['Band'] = 'all'"
   ]
  },
  {
   "cell_type": "code",
   "execution_count": 67,
   "id": "1d4eab44-e637-4bd9-8686-608e14169f8d",
   "metadata": {},
   "outputs": [],
   "source": [
    "combined_benchmark = combined_benchmark[['Start Time','Date','NE Name','Band'] + [col for col in combined_benchmark.columns if col not in ['Start Time','Date','NE Name','Band']]]"
   ]
  },
  {
   "cell_type": "markdown",
   "id": "5e5cb99a-61c4-49f1-9116-c1a76b42a23a",
   "metadata": {},
   "source": [
    "##### Calculating Huawei all [AFTER]"
   ]
  },
  {
   "cell_type": "code",
   "execution_count": 68,
   "id": "dd1bba7c-e84c-4c9d-912b-9664a9f4e432",
   "metadata": {},
   "outputs": [],
   "source": [
    "lte_data_copy_after = lte_data.copy()\n",
    "huawei_raw_data_after = lte_data_copy_after.groupby(['Start Time','Date','NE Name']).agg(agg_dict).reset_index()"
   ]
  },
  {
   "cell_type": "code",
   "execution_count": 69,
   "id": "d5a25993-64c1-4d01-99d0-7e1819a67425",
   "metadata": {},
   "outputs": [],
   "source": [
    "huawei_raw_data_after['HUA RRC_SUCCESS_NUM'] = (huawei_raw_data_after['L.RRC.ConnReq.Succ.Emc (None)']+huawei_raw_data_after['L.RRC.ConnReq.Succ.HighPri (None)']+huawei_raw_data_after['L.RRC.ConnReq.Succ.Mt (None)']+huawei_raw_data_after['L.RRC.ConnReq.Succ.MoData (None)']+huawei_raw_data_after['L.RRC.ConnReq.Succ.DelayTol (None)']+huawei_raw_data_after['L.RRC.ConnReq.Succ.MoSig (None)'])\n",
    "huawei_raw_data_after['HUA RRC_ATTEMPTS_ALL'] = (huawei_raw_data_after['L.RRC.ConnReq.Att.Emc (None)']+huawei_raw_data_after['L.RRC.ConnReq.Att.HighPri (None)']+huawei_raw_data_after['L.RRC.ConnReq.Att.Mt (None)']+huawei_raw_data_after['L.RRC.ConnReq.Att.MoData (None)']+huawei_raw_data_after['L.RRC.ConnReq.Att.DelayTol (None)']+huawei_raw_data_after['L.RRC.ConnReq.Att.MoSig (None)'])\n",
    "huawei_raw_data_after['HUA ERAB_SUCCESS'] = huawei_raw_data_after['L.E-RAB.SuccEst (None)']\n",
    "huawei_raw_data_after['HUA ERABS_ATTEMPTS'] = huawei_raw_data_after['L.E-RAB.AttEst (None)']-huawei_raw_data_after['L.E-RAB.FailEst.X2AP (None)']\n",
    "huawei_raw_data_after['HUA S1_SUCCESS'] = huawei_raw_data_after['L.S1Sig.ConnEst.Succ (None)']\n",
    "huawei_raw_data_after['HUA S1_ATTEMPTS'] = huawei_raw_data_after['L.S1Sig.ConnEst.Att (None)']\n",
    "huawei_raw_data_after['HUA RETAINABILITY_NUM'] = (huawei_raw_data_after['L.E-RAB.AbnormRel (None)']+huawei_raw_data_after['L.E-RAB.AbnormRel.MME (None)']+huawei_raw_data_after['L.E-RAB.Rel.S1Reset.eNodeB (None)']+huawei_raw_data_after['L.E-RAB.Rel.S1Reset.MME (None)'])\n",
    "huawei_raw_data_after['HUA RETAINABILITY_DENOM'] = (huawei_raw_data_after['L.E-RAB.AbnormRel (None)']+huawei_raw_data_after['L.E-RAB.NormRel (None)'])\n",
    "huawei_raw_data_after['HUA IRAT_4G_TO_3G_EVENTS'] = (huawei_raw_data_after['L.RRCRedirection.E2W (None)']+huawei_raw_data_after['L.RRCRedirection.E2G (None)']+huawei_raw_data_after['L.IRATHO.E2W.ExecSuccOut (None)']+huawei_raw_data_after['L.IRATHO.E2G.ExecSuccOut (None)']-huawei_raw_data_after['L.CSFB.E2W (None)']-huawei_raw_data_after['L.CSFB.E2G (None)'])\n",
    "huawei_raw_data_after['HUA IRAT_DEN'] = (huawei_raw_data_after['L.E-RAB.AbnormRel (None)']+huawei_raw_data_after['L.E-RAB.NormRel (None)']+huawei_raw_data_after['L.E-RAB.NormRel.IRatHOOut (None)']-huawei_raw_data_after['L.CSFB.E2W (None)']-huawei_raw_data_after['L.CSFB.E2G (None)'])\n",
    "huawei_raw_data_after['HUA THPT_USER_DL_KBPS_NUM'] = (huawei_raw_data_after['L.Thrp.bits.DL (bit)']-huawei_raw_data_after['L.Thrp.bits.DL.LastTTI (bit)'])\n",
    "huawei_raw_data_after['HUA THPT_USER_DL_KBPS_DENOM'] = huawei_raw_data_after['L.Thrp.Time.DL.RmvLastTTI (ms)']\n",
    "huawei_raw_data_after['HUA DROPS_QCI1'] = (huawei_raw_data_after['L.E-RAB.AbnormRel.QCI.1 (None)'] + huawei_raw_data_after['L.E-RAB.AbnormRel.MME.VoIP (None)'])\n",
    "huawei_raw_data_after['HUA DEN_RET_QCI_1'] = (huawei_raw_data_after['L.E-RAB.NormRel.QCI.1 (None)']+huawei_raw_data_after['L.E-RAB.AbnormRel.QCI.1 (None)']+huawei_raw_data_after['L.E-RAB.NormRel.IRatHOOut.QCI.1 (None)'])\n",
    "huawei_raw_data_after['HUA DROPS_QCI5'] = (huawei_raw_data_after['L.E-RAB.AbnormRel.QCI.5 (None)'] + huawei_raw_data_after['L.E-RAB.AbnormRel.MME.QCI.5 (None)'])\n",
    "huawei_raw_data_after['HUA DEN_RET_QCI_5'] = (huawei_raw_data_after['L.E-RAB.NormRel.QCI.5 (None)']+huawei_raw_data_after['L.E-RAB.AbnormRel.QCI.5 (None)']+huawei_raw_data_after['L.E-RAB.NormRel.IRatHOOut.QCI.5 (None)'])\n",
    "huawei_raw_data_after['HUA VOLTE_ACC_ERAB_NUM_QCI1'] = huawei_raw_data_after['L.E-RAB.SuccEst.QCI.1 (None)']\n",
    "huawei_raw_data_after['HUA VOLTE_ACC_ERAB_DEN_QCI1'] = (huawei_raw_data_after['L.E-RAB.AttEst.QCI.1 (None)']-huawei_raw_data_after['L.E-RAB.FailEst.X2AP.VoIP (None)'])\n",
    "huawei_raw_data_after['HUA VOLTE_ACC_ERAB_NUM_QCI5'] = huawei_raw_data_after['L.E-RAB.SuccEst.QCI.5 (None)']\n",
    "huawei_raw_data_after['HUA VOLTE_ACC_ERAB_DEN_QCI5'] = huawei_raw_data_after['L.E-RAB.AttEst.QCI.5 (None)']\n",
    "huawei_raw_data_after['HUA TRAFFIC_D_USER_DL_GB'] = ((huawei_raw_data_after['L.Thrp.bits.DL (bit)']/(1024*1024*1024))*0.125)\n",
    "huawei_raw_data_after['HUA TRAFFIC_D_USER_PS_GB'] = ((huawei_raw_data_after['L.Thrp.bits.DL (bit)']/(1024*1024*1024))*0.125) + ((huawei_raw_data_after['L.Thrp.bits.UL (bit)']/(1024*1024*1024))*0.125)\n",
    "huawei_raw_data_after['HUA RRCCONNUSER_AVG'] = huawei_raw_data_after['L.Traffic.User.Avg (None)']\n",
    "huawei_raw_data_after['HUA UL_INTERFERENCE_PUSCH'] = huawei_raw_data_after['L.UL.Interference.Avg (dBm)']\n",
    "huawei_raw_data_after['HUA USER_TRAFFIC_VOLTE'] = huawei_raw_data_after['L.E-RAB.SessionTime.HighPrecision.QCI1 (100 ms)']/10/60/60"
   ]
  },
  {
   "cell_type": "code",
   "execution_count": 70,
   "id": "de85cee6-6efa-43b9-85fe-a72e46a50ac2",
   "metadata": {},
   "outputs": [],
   "source": [
    "huawei_raw_data_after = huawei_raw_data_after.drop(lte_counters, axis=1)\n",
    "no_sam = ['Start Time','Date','NE Name']\n",
    "huawei_counter_delete = [col for col in huawei_raw_data_after.columns if col not in no_sam]"
   ]
  },
  {
   "cell_type": "code",
   "execution_count": 71,
   "id": "e069f4da-a043-40d4-8bf6-e0ac764a4c05",
   "metadata": {},
   "outputs": [],
   "source": [
    "huawei_raw_data_after['Date'] = pd.to_datetime(huawei_raw_data_after['Date'], errors='coerce')"
   ]
  },
  {
   "cell_type": "code",
   "execution_count": 72,
   "id": "bd2e85c4-a69e-44af-bdfd-d6a988e0be04",
   "metadata": {},
   "outputs": [],
   "source": [
    "huawei_raw_data_after['Combined PS Service Accessibility (%)'] = (((huawei_raw_data_after['HUA RRC_SUCCESS_NUM'])/(huawei_raw_data_after['HUA RRC_ATTEMPTS_ALL']))*((huawei_raw_data_after['HUA ERAB_SUCCESS'])/(huawei_raw_data_after['HUA ERABS_ATTEMPTS']))*((huawei_raw_data_after['HUA S1_SUCCESS'])/(huawei_raw_data_after['HUA S1_ATTEMPTS'])))*100\n",
    "huawei_raw_data_after['Combined DL User Throughput (Kbps)'] = (huawei_raw_data_after['HUA THPT_USER_DL_KBPS_NUM'])/(huawei_raw_data_after['HUA THPT_USER_DL_KBPS_DENOM'])\n",
    "huawei_raw_data_after['Combined Average UL Interference (dBm)'] = huawei_raw_data_after['HUA UL_INTERFERENCE_PUSCH']\n",
    "huawei_raw_data_after['Combined PS Service Retainability (%)'] = (1 -( (huawei_raw_data_after['HUA RETAINABILITY_NUM'])/(huawei_raw_data_after['HUA RETAINABILITY_DENOM']) ))*100\n",
    "huawei_raw_data_after['Combined PS Retention (%)'] = ((huawei_raw_data_after['HUA IRAT_4G_TO_3G_EVENTS'])/(huawei_raw_data_after['HUA IRAT_DEN']))*100\n",
    "huawei_raw_data_after['Combined DL Traffic (GB)'] = huawei_raw_data_after['HUA TRAFFIC_D_USER_DL_GB']\n",
    "huawei_raw_data_after['Combined Total Traffic (GB)'] = huawei_raw_data_after['HUA TRAFFIC_D_USER_PS_GB']\n",
    "huawei_raw_data_after['Combined RRC Users (None)'] = huawei_raw_data_after['HUA RRCCONNUSER_AVG']\n",
    "huawei_raw_data_after['Combined VoLTE Accessibility [QCI-1] (%)'] = ((huawei_raw_data_after['HUA VOLTE_ACC_ERAB_NUM_QCI1'])/(huawei_raw_data_after['HUA VOLTE_ACC_ERAB_DEN_QCI1']))*100\n",
    "huawei_raw_data_after['Combined VoLTE Accessibility (%)'] = ((huawei_raw_data_after['HUA VOLTE_ACC_ERAB_NUM_QCI5'])/(huawei_raw_data_after['HUA VOLTE_ACC_ERAB_DEN_QCI5'])*((huawei_raw_data_after['HUA RRC_SUCCESS_NUM'])/(huawei_raw_data_after['HUA RRC_ATTEMPTS_ALL']))*(huawei_raw_data_after['HUA VOLTE_ACC_ERAB_NUM_QCI1'])/(huawei_raw_data_after['HUA VOLTE_ACC_ERAB_DEN_QCI1']))*100\n",
    "huawei_raw_data_after['Combined VoLTE Drop Rate [QCI-1] (%)'] = ((huawei_raw_data_after['HUA DROPS_QCI1'])/(huawei_raw_data_after['HUA DEN_RET_QCI_1']))*100\n",
    "huawei_raw_data_after['Combined VoLTE Drop Rate [QCI-5] (%)'] = ((huawei_raw_data_after['HUA DROPS_QCI5'])/(huawei_raw_data_after['HUA DEN_RET_QCI_5']))*100\n",
    "huawei_raw_data_after['Combined VoLTE Erlangs (Erl)'] = huawei_raw_data_after['HUA USER_TRAFFIC_VOLTE']"
   ]
  },
  {
   "cell_type": "code",
   "execution_count": 73,
   "id": "81485e33-7962-4eb6-9ee7-6613c4661c59",
   "metadata": {},
   "outputs": [],
   "source": [
    "huawei_raw_data_after['Band'] = 'all'"
   ]
  },
  {
   "cell_type": "code",
   "execution_count": 74,
   "id": "8e944418-0def-40fe-b783-e8de54c54e19",
   "metadata": {},
   "outputs": [],
   "source": [
    "huawei_raw_data_after = huawei_raw_data_after[['Start Time','Date','NE Name','Band'] + [col for col in huawei_raw_data_after.columns if col not in ['Start Time','Date','NE Name','Band']]]"
   ]
  },
  {
   "cell_type": "code",
   "execution_count": 75,
   "id": "0bf75011-8acb-4859-baee-0a776f28a7c6",
   "metadata": {},
   "outputs": [],
   "source": [
    "# Delete Huawei counters\n",
    "huawei_raw_data_after = huawei_raw_data_after.drop(huawei_counter_delete, axis=1)"
   ]
  },
  {
   "cell_type": "code",
   "execution_count": 76,
   "id": "6367b4b4-e660-4e4c-902f-cf889c96d500",
   "metadata": {},
   "outputs": [],
   "source": [
    "# Creating exclusion object\n",
    "dates_to_exclude = set(combined_benchmark['Date'])\n",
    "# Step 2: Filtering huawei_raw_data_after to exclude dates in combined df\n",
    "huawei_raw_data_after = huawei_raw_data_after[~huawei_raw_data_after['Date'].isin(dates_to_exclude)]"
   ]
  },
  {
   "cell_type": "markdown",
   "id": "f1785bf6-21e6-464d-a56b-96daa963ced4",
   "metadata": {},
   "source": [
    "##### Calculating Legacy Band Data (Before and After [all dates])"
   ]
  },
  {
   "cell_type": "code",
   "execution_count": 77,
   "id": "475478b2-d5f9-44cc-ae74-f3a4db0369a0",
   "metadata": {},
   "outputs": [],
   "source": [
    "lte_data_copy = lte_data.copy()\n",
    "huawei_raw_data_b = lte_data_copy.groupby(['Start Time','Date','NE Name','Band']).agg(agg_dict).reset_index()"
   ]
  },
  {
   "cell_type": "code",
   "execution_count": 78,
   "id": "668bb223-3372-42f8-b52e-b2436dc9bb76",
   "metadata": {},
   "outputs": [],
   "source": [
    "huawei_raw_data_b['HUA RRC_SUCCESS_NUM'] = (huawei_raw_data_b['L.RRC.ConnReq.Succ.Emc (None)']+huawei_raw_data_b['L.RRC.ConnReq.Succ.HighPri (None)']+huawei_raw_data_b['L.RRC.ConnReq.Succ.Mt (None)']+huawei_raw_data_b['L.RRC.ConnReq.Succ.MoData (None)']+huawei_raw_data_b['L.RRC.ConnReq.Succ.DelayTol (None)']+huawei_raw_data_b['L.RRC.ConnReq.Succ.MoSig (None)'])\n",
    "huawei_raw_data_b['HUA RRC_ATTEMPTS_ALL'] = (huawei_raw_data_b['L.RRC.ConnReq.Att.Emc (None)']+huawei_raw_data_b['L.RRC.ConnReq.Att.HighPri (None)']+huawei_raw_data_b['L.RRC.ConnReq.Att.Mt (None)']+huawei_raw_data_b['L.RRC.ConnReq.Att.MoData (None)']+huawei_raw_data_b['L.RRC.ConnReq.Att.DelayTol (None)']+huawei_raw_data_b['L.RRC.ConnReq.Att.MoSig (None)'])\n",
    "huawei_raw_data_b['HUA ERAB_SUCCESS'] = huawei_raw_data_b['L.E-RAB.SuccEst (None)']\n",
    "huawei_raw_data_b['HUA ERABS_ATTEMPTS'] = huawei_raw_data_b['L.E-RAB.AttEst (None)']-huawei_raw_data_b['L.E-RAB.FailEst.X2AP (None)']\n",
    "huawei_raw_data_b['HUA S1_SUCCESS'] = huawei_raw_data_b['L.S1Sig.ConnEst.Succ (None)']\n",
    "huawei_raw_data_b['HUA S1_ATTEMPTS'] = huawei_raw_data_b['L.S1Sig.ConnEst.Att (None)']\n",
    "huawei_raw_data_b['HUA RETAINABILITY_NUM'] = (huawei_raw_data_b['L.E-RAB.AbnormRel (None)']+huawei_raw_data_b['L.E-RAB.AbnormRel.MME (None)']+huawei_raw_data_b['L.E-RAB.Rel.S1Reset.eNodeB (None)']+huawei_raw_data_b['L.E-RAB.Rel.S1Reset.MME (None)'])\n",
    "huawei_raw_data_b['HUA RETAINABILITY_DENOM'] = (huawei_raw_data_b['L.E-RAB.AbnormRel (None)']+huawei_raw_data_b['L.E-RAB.NormRel (None)'])\n",
    "huawei_raw_data_b['HUA IRAT_4G_TO_3G_EVENTS'] = (huawei_raw_data_b['L.RRCRedirection.E2W (None)']+huawei_raw_data_b['L.RRCRedirection.E2G (None)']+huawei_raw_data_b['L.IRATHO.E2W.ExecSuccOut (None)']+huawei_raw_data_b['L.IRATHO.E2G.ExecSuccOut (None)']-huawei_raw_data_b['L.CSFB.E2W (None)']-huawei_raw_data_b['L.CSFB.E2G (None)'])\n",
    "huawei_raw_data_b['HUA IRAT_DEN'] = (huawei_raw_data_b['L.E-RAB.AbnormRel (None)']+huawei_raw_data_b['L.E-RAB.NormRel (None)']+huawei_raw_data_b['L.E-RAB.NormRel.IRatHOOut (None)']-huawei_raw_data_b['L.CSFB.E2W (None)']-huawei_raw_data_b['L.CSFB.E2G (None)'])\n",
    "huawei_raw_data_b['HUA THPT_USER_DL_KBPS_NUM'] = (huawei_raw_data_b['L.Thrp.bits.DL (bit)']-huawei_raw_data_b['L.Thrp.bits.DL.LastTTI (bit)'])\n",
    "huawei_raw_data_b['HUA THPT_USER_DL_KBPS_DENOM'] = huawei_raw_data_b['L.Thrp.Time.DL.RmvLastTTI (ms)']\n",
    "huawei_raw_data_b['HUA DROPS_QCI1'] = (huawei_raw_data_b['L.E-RAB.AbnormRel.QCI.1 (None)'] + huawei_raw_data_b['L.E-RAB.AbnormRel.MME.VoIP (None)'])\n",
    "huawei_raw_data_b['HUA DEN_RET_QCI_1'] = (huawei_raw_data_b['L.E-RAB.NormRel.QCI.1 (None)']+huawei_raw_data_b['L.E-RAB.AbnormRel.QCI.1 (None)']+huawei_raw_data_b['L.E-RAB.NormRel.IRatHOOut.QCI.1 (None)'])\n",
    "huawei_raw_data_b['HUA DROPS_QCI5'] = (huawei_raw_data_b['L.E-RAB.AbnormRel.QCI.5 (None)'] + huawei_raw_data_b['L.E-RAB.AbnormRel.MME.QCI.5 (None)'])\n",
    "huawei_raw_data_b['HUA DEN_RET_QCI_5'] = (huawei_raw_data_b['L.E-RAB.NormRel.QCI.5 (None)']+huawei_raw_data_b['L.E-RAB.AbnormRel.QCI.5 (None)']+huawei_raw_data_b['L.E-RAB.NormRel.IRatHOOut.QCI.5 (None)'])\n",
    "huawei_raw_data_b['HUA VOLTE_ACC_ERAB_NUM_QCI1'] = huawei_raw_data_b['L.E-RAB.SuccEst.QCI.1 (None)']\n",
    "huawei_raw_data_b['HUA VOLTE_ACC_ERAB_DEN_QCI1'] = (huawei_raw_data_b['L.E-RAB.AttEst.QCI.1 (None)']-huawei_raw_data_b['L.E-RAB.FailEst.X2AP.VoIP (None)'])\n",
    "huawei_raw_data_b['HUA VOLTE_ACC_ERAB_NUM_QCI5'] = huawei_raw_data_b['L.E-RAB.SuccEst.QCI.5 (None)']\n",
    "huawei_raw_data_b['HUA VOLTE_ACC_ERAB_DEN_QCI5'] = huawei_raw_data_b['L.E-RAB.AttEst.QCI.5 (None)']\n",
    "huawei_raw_data_b['HUA TRAFFIC_D_USER_DL_GB'] = ((huawei_raw_data_b['L.Thrp.bits.DL (bit)']/(1024*1024*1024))*0.125)\n",
    "huawei_raw_data_b['HUA TRAFFIC_D_USER_PS_GB'] = ((huawei_raw_data_b['L.Thrp.bits.DL (bit)']/(1024*1024*1024))*0.125) + ((huawei_raw_data_b['L.Thrp.bits.UL (bit)']/(1024*1024*1024))*0.125)\n",
    "huawei_raw_data_b['HUA RRCCONNUSER_AVG'] = huawei_raw_data_b['L.Traffic.User.Avg (None)']\n",
    "huawei_raw_data_b['HUA UL_INTERFERENCE_PUSCH'] = huawei_raw_data_b['L.UL.Interference.Avg (dBm)']\n",
    "huawei_raw_data_b['HUA USER_TRAFFIC_VOLTE'] = huawei_raw_data_b['L.E-RAB.SessionTime.HighPrecision.QCI1 (100 ms)']/10/60/60"
   ]
  },
  {
   "cell_type": "code",
   "execution_count": 79,
   "id": "aee46451-127a-432a-a2bb-1189bb9453ed",
   "metadata": {},
   "outputs": [],
   "source": [
    "huawei_raw_data_b['Combined PS Service Accessibility (%)'] = (((huawei_raw_data_b['HUA RRC_SUCCESS_NUM'])/(huawei_raw_data_b['HUA RRC_ATTEMPTS_ALL']))*((huawei_raw_data_b['HUA ERAB_SUCCESS'])/(huawei_raw_data_b['HUA ERABS_ATTEMPTS']))*((huawei_raw_data_b['HUA S1_SUCCESS'])/(huawei_raw_data_b['HUA S1_ATTEMPTS'])))*100\n",
    "huawei_raw_data_b['Combined DL User Throughput (Kbps)'] = (huawei_raw_data_b['HUA THPT_USER_DL_KBPS_NUM'])/(huawei_raw_data_b['HUA THPT_USER_DL_KBPS_DENOM'])\n",
    "huawei_raw_data_b['Combined Average UL Interference (dBm)'] = huawei_raw_data_b['HUA UL_INTERFERENCE_PUSCH']\n",
    "huawei_raw_data_b['Combined PS Service Retainability (%)'] = (1 -( (huawei_raw_data_b['HUA RETAINABILITY_NUM'])/(huawei_raw_data_b['HUA RETAINABILITY_DENOM']) ))*100\n",
    "huawei_raw_data_b['Combined PS Retention (%)'] = ((huawei_raw_data_b['HUA IRAT_4G_TO_3G_EVENTS'])/(huawei_raw_data_b['HUA IRAT_DEN']))*100\n",
    "huawei_raw_data_b['Combined DL Traffic (GB)'] = huawei_raw_data_b['HUA TRAFFIC_D_USER_DL_GB']\n",
    "huawei_raw_data_b['Combined Total Traffic (GB)'] = huawei_raw_data_b['HUA TRAFFIC_D_USER_PS_GB']\n",
    "huawei_raw_data_b['Combined RRC Users (None)'] = huawei_raw_data_b['HUA RRCCONNUSER_AVG']\n",
    "huawei_raw_data_b['Combined VoLTE Accessibility [QCI-1] (%)'] = ((huawei_raw_data_b['HUA VOLTE_ACC_ERAB_NUM_QCI1'])/(huawei_raw_data_b['HUA VOLTE_ACC_ERAB_DEN_QCI1']))*100\n",
    "huawei_raw_data_b['Combined VoLTE Accessibility (%)'] = ((huawei_raw_data_b['HUA VOLTE_ACC_ERAB_NUM_QCI5'])/(huawei_raw_data_b['HUA VOLTE_ACC_ERAB_DEN_QCI5'])*((huawei_raw_data_b['HUA RRC_SUCCESS_NUM'])/(huawei_raw_data_b['HUA RRC_ATTEMPTS_ALL']))*(huawei_raw_data_b['HUA VOLTE_ACC_ERAB_NUM_QCI1'])/(huawei_raw_data_b['HUA VOLTE_ACC_ERAB_DEN_QCI1']))*100\n",
    "huawei_raw_data_b['Combined VoLTE Drop Rate [QCI-1] (%)'] = ((huawei_raw_data_b['HUA DROPS_QCI1'])/(huawei_raw_data_b['HUA DEN_RET_QCI_1']))*100\n",
    "huawei_raw_data_b['Combined VoLTE Drop Rate [QCI-5] (%)'] = ((huawei_raw_data_b['HUA DROPS_QCI5'])/(huawei_raw_data_b['HUA DEN_RET_QCI_5']))*100\n",
    "huawei_raw_data_b['Combined VoLTE Erlangs (Erl)'] = huawei_raw_data_b['HUA USER_TRAFFIC_VOLTE']"
   ]
  },
  {
   "cell_type": "code",
   "execution_count": 80,
   "id": "d7a81dcd-5302-4d9a-939e-554b6c6bfffb",
   "metadata": {},
   "outputs": [],
   "source": [
    "huawei_raw_data_b = huawei_raw_data_b.drop(huawei_counter_delete, axis=1)\n",
    "huawei_raw_data_b = huawei_raw_data_b.drop(lte_counters, axis=1)"
   ]
  },
  {
   "cell_type": "code",
   "execution_count": 81,
   "id": "6e2cd670-1564-481f-abdd-62074016df79",
   "metadata": {},
   "outputs": [],
   "source": [
    "huawei_raw_data_b['Date'] = pd.to_datetime(huawei_raw_data_b['Date'], errors='coerce')"
   ]
  },
  {
   "cell_type": "markdown",
   "id": "77f53d82-ca71-447c-8613-773b2f6565ff",
   "metadata": {},
   "source": [
    "#### Calculating Samsung Data (Samsung Before Data)"
   ]
  },
  {
   "cell_type": "code",
   "execution_count": 82,
   "id": "9d8eda83-e394-4191-8b05-6c62c41e36c5",
   "metadata": {},
   "outputs": [],
   "source": [
    "combined_benchmark_samsung = samsung_raw_data_b.copy()"
   ]
  },
  {
   "cell_type": "code",
   "execution_count": 83,
   "id": "d49afe98-1b87-481d-9090-125a428ea918",
   "metadata": {},
   "outputs": [],
   "source": [
    "combined_benchmark_samsung['Combined PS Service Accessibility (%)'] = (((combined_benchmark_samsung['RRC_SUCCESS_ALL'])/(combined_benchmark_samsung['RRC_ATTEMPTS_ALL']))*((combined_benchmark_samsung['ERAB_SUCCESS'])/(combined_benchmark_samsung['ERABS_ATTEMPTS']))*((combined_benchmark_samsung['S1_SUCCESS'])/(combined_benchmark_samsung['S1_ATTEMPTS'])))*100\n",
    "combined_benchmark_samsung['Combined DL User Throughput (Kbps)'] = (combined_benchmark_samsung['THPT_USER_DL_KBPS_NUM'])/(combined_benchmark_samsung['THPT_USER_DL_KBPS_DENOM'])\n",
    "combined_benchmark_samsung['Combined Average UL Interference (dBm)'] = combined_benchmark_samsung['UL_INTERFERENCE_PUSCH']\n",
    "combined_benchmark_samsung['Combined PS Service Retainability (%)'] = (1 -( (combined_benchmark_samsung['RETAINABILITY_NUM'])/(combined_benchmark_samsung['RETAINABILITY_DENOM']) ))*100\n",
    "combined_benchmark_samsung['Combined PS Retention (%)'] = ((combined_benchmark_samsung['IRAT_4G_TO_3G_EVENTS'])/(combined_benchmark_samsung['IRAT_DEN']))*100\n",
    "combined_benchmark_samsung['Combined DL Traffic (GB)'] = combined_benchmark_samsung['TRAFFIC_D_USER_DL_GB']\n",
    "combined_benchmark_samsung['Combined Total Traffic (GB)'] = combined_benchmark_samsung['TRAFFIC_D_USER_PS_GB']\n",
    "combined_benchmark_samsung['Combined RRC Users (None)'] = combined_benchmark_samsung['RRCCONNUSER_AVG']\n",
    "combined_benchmark_samsung['Combined VoLTE Accessibility [QCI-1] (%)'] = ((combined_benchmark_samsung['VOLTE_ACC_ERAB_NUM_QCI1'])/(combined_benchmark_samsung['VOLTE_ACC_ERAB_DEN_QCI1']))*100\n",
    "combined_benchmark_samsung['Combined VoLTE Accessibility (%)'] = ((combined_benchmark_samsung['VOLTE_ACC_ERAB_NUM_QCI5'])/(combined_benchmark_samsung['VOLTE_ACC_ERAB_DEN_QCI5'])*((combined_benchmark_samsung['RRC_SUCCESS_ALL'])/(combined_benchmark_samsung['RRC_ATTEMPTS_ALL']))*(combined_benchmark_samsung['VOLTE_ACC_ERAB_NUM_QCI1'])/(combined_benchmark_samsung['VOLTE_ACC_ERAB_DEN_QCI1']))*100\n",
    "combined_benchmark_samsung['Combined VoLTE Drop Rate [QCI-1] (%)'] = ((combined_benchmark_samsung['DROPS_QCI1'])/(combined_benchmark_samsung['DEN_RET_QCI_1']))*100\n",
    "combined_benchmark_samsung['Combined VoLTE Drop Rate [QCI-5] (%)'] = ((combined_benchmark_samsung['DROPS_QCI5'])/(combined_benchmark_samsung['DEN_RET_QCI_5']))*100\n",
    "combined_benchmark_samsung['Combined VoLTE Erlangs (Erl)'] = combined_benchmark_samsung['USER_TRAFFIC_VOLTE']"
   ]
  },
  {
   "cell_type": "code",
   "execution_count": 84,
   "id": "2e91f997-fbd4-4a2d-aeda-0150e731045b",
   "metadata": {},
   "outputs": [],
   "source": [
    "combined_benchmark_samsung = combined_benchmark_samsung.drop(sumsung_counter_delete, axis=1)"
   ]
  },
  {
   "cell_type": "code",
   "execution_count": 85,
   "id": "b98f7899-2626-471f-aa05-f32986bb577d",
   "metadata": {},
   "outputs": [],
   "source": [
    "combined_benchmark_samsung['Band'] = 'B7'"
   ]
  },
  {
   "cell_type": "code",
   "execution_count": 86,
   "id": "9c35fb91-8458-4994-9122-d2de8df6aac0",
   "metadata": {},
   "outputs": [],
   "source": [
    "combined_benchmark_samsung = combined_benchmark_samsung[['Start Time','Date','NE Name','Band'] + [col for col in combined_benchmark_samsung.columns if col not in ['Start Time','Date','NE Name','Band']]]"
   ]
  },
  {
   "cell_type": "code",
   "execution_count": 87,
   "id": "9d2f1e07-b001-4bb7-b64b-d6385524ce63",
   "metadata": {},
   "outputs": [],
   "source": [
    "sites = set(lte_data['NE Name'])\n",
    "combined_benchmark_samsung = combined_benchmark_samsung[combined_benchmark_samsung['NE Name'].isin(sites)]"
   ]
  },
  {
   "cell_type": "code",
   "execution_count": 88,
   "id": "71393d93-c8d1-4096-ae6c-747dd60b9806",
   "metadata": {},
   "outputs": [],
   "source": [
    "final_combined_benchmark = pd.concat([combined_benchmark, combined_benchmark_samsung], ignore_index=True)\n",
    "final_combined_benchmark = pd.concat([final_combined_benchmark, huawei_raw_data_b], ignore_index=True)\n",
    "final_combined_benchmark = pd.concat([final_combined_benchmark, huawei_raw_data_after], ignore_index=True)"
   ]
  },
  {
   "cell_type": "markdown",
   "id": "8523bb03-b2b6-4ce1-a1e7-4b6739e9a795",
   "metadata": {},
   "source": [
    "### Calculating Before Site Level"
   ]
  },
  {
   "cell_type": "markdown",
   "id": "bef48f3a-a0c5-4a2b-b7bf-cad14654742e",
   "metadata": {},
   "source": [
    "##### Calculating Samsung Data"
   ]
  },
  {
   "cell_type": "code",
   "execution_count": 89,
   "id": "6a5c0218-035c-4eda-bd4b-f731f9cdee25",
   "metadata": {},
   "outputs": [],
   "source": [
    "samsung_raw_data_p = samsung_raw_data.copy()\n",
    "samsung_raw_data_p['Start Time'] = pd.to_datetime(samsung_raw_data['Start Time'])\n",
    "samsung_raw_data_p = pd.merge(samsung_raw_data, df_period, how = 'inner', left_on = ['Start Time','ENB_AGG'], right_on = ['Start Time','NE Name'])\n",
    "samsung_raw_data_p = samsung_raw_data_p.drop(['D','Time'], axis=1)"
   ]
  },
  {
   "cell_type": "code",
   "execution_count": 90,
   "id": "0aa1d9d4-2b7a-4ac8-ae84-2978d8f83123",
   "metadata": {},
   "outputs": [],
   "source": [
    "samsung_before = samsung_raw_data_p.groupby(['ENB_AGG','Period']).agg(agg_dict_comb).reset_index()"
   ]
  },
  {
   "cell_type": "code",
   "execution_count": 91,
   "id": "9915324e-2cce-4907-a734-84acb222f3be",
   "metadata": {},
   "outputs": [],
   "source": [
    "samsung_before.rename(columns={'ENB_AGG': 'NE Name'}, inplace=True)"
   ]
  },
  {
   "cell_type": "markdown",
   "id": "1dfea1a1-1e77-452c-947a-162f7522eef7",
   "metadata": {},
   "source": [
    "##### Calculating Huawei Data"
   ]
  },
  {
   "cell_type": "code",
   "execution_count": 92,
   "id": "b7e408a6-0085-4799-a893-06156f918be7",
   "metadata": {},
   "outputs": [],
   "source": [
    "huawei_before = period_data_all.copy()"
   ]
  },
  {
   "cell_type": "code",
   "execution_count": 93,
   "id": "5832564b-eef4-4234-9aa3-3e98956eef27",
   "metadata": {},
   "outputs": [],
   "source": [
    "huawei_before = huawei_before.groupby(['NE Name','Period']).agg(agg_dict).reset_index()"
   ]
  },
  {
   "cell_type": "code",
   "execution_count": 94,
   "id": "794f5a94-dc72-4cc1-ab95-168bac66b5ba",
   "metadata": {},
   "outputs": [],
   "source": [
    "huawei_before['HUA RRC_SUCCESS_NUM'] = (huawei_before['L.RRC.ConnReq.Succ.Emc (None)']+huawei_before['L.RRC.ConnReq.Succ.HighPri (None)']+huawei_before['L.RRC.ConnReq.Succ.Mt (None)']+huawei_before['L.RRC.ConnReq.Succ.MoData (None)']+huawei_before['L.RRC.ConnReq.Succ.DelayTol (None)']+huawei_before['L.RRC.ConnReq.Succ.MoSig (None)'])\n",
    "huawei_before['HUA RRC_ATTEMPTS_ALL'] = (huawei_before['L.RRC.ConnReq.Att.Emc (None)']+huawei_before['L.RRC.ConnReq.Att.HighPri (None)']+huawei_before['L.RRC.ConnReq.Att.Mt (None)']+huawei_before['L.RRC.ConnReq.Att.MoData (None)']+huawei_before['L.RRC.ConnReq.Att.DelayTol (None)']+huawei_before['L.RRC.ConnReq.Att.MoSig (None)'])\n",
    "huawei_before['HUA ERAB_SUCCESS'] = huawei_before['L.E-RAB.SuccEst (None)']\n",
    "huawei_before['HUA ERABS_ATTEMPTS'] = huawei_before['L.E-RAB.AttEst (None)']-huawei_before['L.E-RAB.FailEst.X2AP (None)']\n",
    "huawei_before['HUA S1_SUCCESS'] = huawei_before['L.S1Sig.ConnEst.Succ (None)']\n",
    "huawei_before['HUA S1_ATTEMPTS'] = huawei_before['L.S1Sig.ConnEst.Att (None)']\n",
    "huawei_before['HUA RETAINABILITY_NUM'] = (huawei_before['L.E-RAB.AbnormRel (None)']+huawei_before['L.E-RAB.AbnormRel.MME (None)']+huawei_before['L.E-RAB.Rel.S1Reset.eNodeB (None)']+huawei_before['L.E-RAB.Rel.S1Reset.MME (None)'])\n",
    "huawei_before['HUA RETAINABILITY_DENOM'] = (huawei_before['L.E-RAB.AbnormRel (None)']+huawei_before['L.E-RAB.NormRel (None)'])\n",
    "huawei_before['HUA IRAT_4G_TO_3G_EVENTS'] = (huawei_before['L.RRCRedirection.E2W (None)']+huawei_before['L.RRCRedirection.E2G (None)']+huawei_before['L.IRATHO.E2W.ExecSuccOut (None)']+huawei_before['L.IRATHO.E2G.ExecSuccOut (None)']-huawei_before['L.CSFB.E2W (None)']-huawei_before['L.CSFB.E2G (None)'])\n",
    "huawei_before['HUA IRAT_DEN'] = (huawei_before['L.E-RAB.AbnormRel (None)']+huawei_before['L.E-RAB.NormRel (None)']+huawei_before['L.E-RAB.NormRel.IRatHOOut (None)']-huawei_before['L.CSFB.E2W (None)']-huawei_before['L.CSFB.E2G (None)'])\n",
    "huawei_before['HUA THPT_USER_DL_KBPS_NUM'] = (huawei_before['L.Thrp.bits.DL (bit)']-huawei_before['L.Thrp.bits.DL.LastTTI (bit)'])\n",
    "huawei_before['HUA THPT_USER_DL_KBPS_DENOM'] = huawei_before['L.Thrp.Time.DL.RmvLastTTI (ms)']\n",
    "huawei_before['HUA DROPS_QCI1'] = (huawei_before['L.E-RAB.AbnormRel.QCI.1 (None)'] + huawei_before['L.E-RAB.AbnormRel.MME.VoIP (None)'])\n",
    "huawei_before['HUA DEN_RET_QCI_1'] = (huawei_before['L.E-RAB.NormRel.QCI.1 (None)']+huawei_before['L.E-RAB.AbnormRel.QCI.1 (None)']+huawei_before['L.E-RAB.NormRel.IRatHOOut.QCI.1 (None)'])\n",
    "huawei_before['HUA DROPS_QCI5'] = (huawei_before['L.E-RAB.AbnormRel.QCI.5 (None)'] + huawei_before['L.E-RAB.AbnormRel.MME.QCI.5 (None)'])\n",
    "huawei_before['HUA DEN_RET_QCI_5'] = (huawei_before['L.E-RAB.NormRel.QCI.5 (None)']+huawei_before['L.E-RAB.AbnormRel.QCI.5 (None)']+huawei_before['L.E-RAB.NormRel.IRatHOOut.QCI.5 (None)'])\n",
    "huawei_before['HUA VOLTE_ACC_ERAB_NUM_QCI1'] = huawei_before['L.E-RAB.SuccEst.QCI.1 (None)']\n",
    "huawei_before['HUA VOLTE_ACC_ERAB_DEN_QCI1'] = (huawei_before['L.E-RAB.AttEst.QCI.1 (None)']-huawei_before['L.E-RAB.FailEst.X2AP.VoIP (None)'])\n",
    "huawei_before['HUA VOLTE_ACC_ERAB_NUM_QCI5'] = huawei_before['L.E-RAB.SuccEst.QCI.5 (None)']\n",
    "huawei_before['HUA VOLTE_ACC_ERAB_DEN_QCI5'] = huawei_before['L.E-RAB.AttEst.QCI.5 (None)']\n",
    "huawei_before['HUA TRAFFIC_D_USER_DL_GB'] = ((huawei_before['L.Thrp.bits.DL (bit)']/(1024*1024*1024))*0.125)\n",
    "huawei_before['HUA TRAFFIC_D_USER_PS_GB'] = ((huawei_before['L.Thrp.bits.DL (bit)']/(1024*1024*1024))*0.125) + ((huawei_before['L.Thrp.bits.UL (bit)']/(1024*1024*1024))*0.125)\n",
    "huawei_before['HUA RRCCONNUSER_AVG'] = huawei_before['L.Traffic.User.Avg (None)']\n",
    "huawei_before['HUA UL_INTERFERENCE_PUSCH'] = huawei_before['L.UL.Interference.Avg (dBm)']\n",
    "huawei_before['HUA USER_TRAFFIC_VOLTE'] = huawei_before['L.E-RAB.SessionTime.HighPrecision.QCI1 (100 ms)']/10/60/60"
   ]
  },
  {
   "cell_type": "code",
   "execution_count": 95,
   "id": "8aeb13ec-325e-48d6-a4b7-d2ebb157bfdb",
   "metadata": {},
   "outputs": [],
   "source": [
    "huawei_before = huawei_before.drop(lte_counters, axis=1)"
   ]
  },
  {
   "cell_type": "code",
   "execution_count": 96,
   "id": "59034c1a-d219-448b-845a-c36cf1717235",
   "metadata": {},
   "outputs": [],
   "source": [
    "ex = ['NE Name','Period']\n",
    "huawei_b_counters = [col for col in huawei_before.columns if col not in ex]"
   ]
  },
  {
   "cell_type": "code",
   "execution_count": 97,
   "id": "43c68b10-a0ff-43f4-afea-ba80b991afd9",
   "metadata": {},
   "outputs": [],
   "source": [
    "combined_before = pd.merge(samsung_before, huawei_before, how = 'inner', left_on = ['NE Name','Period'], right_on = ['NE Name','Period'])"
   ]
  },
  {
   "cell_type": "code",
   "execution_count": 98,
   "id": "84e4f773-1ec2-4213-a662-5b36eabfcf6c",
   "metadata": {},
   "outputs": [],
   "source": [
    "combined_before['Combined PS Service Accessibility (%)'] = (((combined_before['HUA RRC_SUCCESS_NUM']+combined_before['RRC_SUCCESS_ALL'])/(combined_before['HUA RRC_ATTEMPTS_ALL']+combined_before['RRC_ATTEMPTS_ALL']))*((combined_before['HUA ERAB_SUCCESS']+combined_before['ERAB_SUCCESS'])/(combined_before['HUA ERABS_ATTEMPTS']+combined_before['ERABS_ATTEMPTS']))*((combined_before['HUA S1_SUCCESS']+combined_before['S1_SUCCESS'])/(combined_before['HUA S1_ATTEMPTS']+combined_before['S1_ATTEMPTS'])))*100\n",
    "combined_before['Combined DL User Throughput (Kbps)'] = (combined_before['THPT_USER_DL_KBPS_NUM']+combined_before['HUA THPT_USER_DL_KBPS_NUM'])/(combined_before['THPT_USER_DL_KBPS_DENOM']+combined_before['HUA THPT_USER_DL_KBPS_DENOM'])\n",
    "combined_before['Combined Average UL Interference (dBm)'] = (combined_before['HUA UL_INTERFERENCE_PUSCH'] + combined_before['UL_INTERFERENCE_PUSCH'])/2\n",
    "combined_before['Combined PS Service Retainability (%)'] = (1 -( (combined_before['HUA RETAINABILITY_NUM']+combined_before['RETAINABILITY_NUM'])/(combined_before['HUA RETAINABILITY_DENOM']+combined_before['RETAINABILITY_DENOM']) ))*100\n",
    "combined_before['Combined PS Retention (%)'] = ((combined_before['HUA IRAT_4G_TO_3G_EVENTS']+combined_before['IRAT_4G_TO_3G_EVENTS'])/(combined_before['HUA IRAT_DEN']+combined_before['IRAT_DEN']))*100\n",
    "combined_before['Combined DL Traffic (GB)'] = combined_before['HUA TRAFFIC_D_USER_DL_GB'] + combined_before['TRAFFIC_D_USER_DL_GB']\n",
    "combined_before['Combined Total Traffic (GB)'] = combined_before['HUA TRAFFIC_D_USER_PS_GB'] + combined_before['TRAFFIC_D_USER_PS_GB']\n",
    "combined_before['Combined RRC Users (None)'] = combined_before['HUA RRCCONNUSER_AVG'] + combined_before['RRCCONNUSER_AVG']\n",
    "combined_before['Combined VoLTE Accessibility [QCI-1] (%)'] = ((combined_before['HUA VOLTE_ACC_ERAB_NUM_QCI1']+combined_before['VOLTE_ACC_ERAB_NUM_QCI1'])/(combined_before['HUA VOLTE_ACC_ERAB_DEN_QCI1']+combined_before['VOLTE_ACC_ERAB_DEN_QCI1']))*100\n",
    "combined_before['Combined VoLTE Accessibility (%)'] = ((combined_before['HUA VOLTE_ACC_ERAB_NUM_QCI5']+combined_before['VOLTE_ACC_ERAB_NUM_QCI5'])/(combined_before['HUA VOLTE_ACC_ERAB_DEN_QCI5']+combined_before['VOLTE_ACC_ERAB_DEN_QCI5'])*((combined_before['HUA RRC_SUCCESS_NUM']+combined_before['RRC_SUCCESS_ALL'])/(combined_before['HUA RRC_ATTEMPTS_ALL']+combined_before['RRC_ATTEMPTS_ALL']))*(combined_before['HUA VOLTE_ACC_ERAB_NUM_QCI1']+combined_before['VOLTE_ACC_ERAB_NUM_QCI1'])/(combined_before['HUA VOLTE_ACC_ERAB_DEN_QCI1']+combined_before['VOLTE_ACC_ERAB_DEN_QCI1']))*100\n",
    "combined_before['Combined VoLTE Drop Rate [QCI-1] (%)'] = ((combined_before['HUA DROPS_QCI1']+combined_before['DROPS_QCI1'])/(combined_before['HUA DEN_RET_QCI_1']+combined_before['DEN_RET_QCI_1']))*100\n",
    "combined_before['Combined VoLTE Drop Rate [QCI-5] (%)'] = ((combined_before['HUA DROPS_QCI5']+combined_before['DROPS_QCI5'])/(combined_before['HUA DEN_RET_QCI_5']+combined_before['DEN_RET_QCI_5']))*100\n",
    "combined_before['Combined VoLTE Erlangs (Erl)'] = combined_before['HUA USER_TRAFFIC_VOLTE'] + combined_before['USER_TRAFFIC_VOLTE']"
   ]
  },
  {
   "cell_type": "code",
   "execution_count": 99,
   "id": "05e00b2f-01ad-42ee-b483-56ed189f9f52",
   "metadata": {},
   "outputs": [],
   "source": [
    "combined_before = combined_before.drop(combined_counters, axis=1)\n",
    "combined_before = combined_before.drop(huawei_b_counters, axis=1)"
   ]
  },
  {
   "cell_type": "markdown",
   "id": "0bd40c89-ac87-4075-8a71-178ae596eca8",
   "metadata": {},
   "source": [
    "### Define DF for B7 Before Samsung"
   ]
  },
  {
   "cell_type": "code",
   "execution_count": 100,
   "id": "d522df3a-efd8-4758-9963-d9c81d32c25b",
   "metadata": {},
   "outputs": [],
   "source": [
    "samsung_before['Combined PS Service Accessibility (%)'] = (((samsung_before['RRC_SUCCESS_ALL'])/(samsung_before['RRC_ATTEMPTS_ALL']))*((samsung_before['ERAB_SUCCESS'])/(samsung_before['ERABS_ATTEMPTS']))*((samsung_before['S1_SUCCESS'])/(samsung_before['S1_ATTEMPTS'])))*100\n",
    "samsung_before['Combined DL User Throughput (Kbps)'] = (samsung_before['THPT_USER_DL_KBPS_NUM'])/(samsung_before['THPT_USER_DL_KBPS_DENOM'])\n",
    "samsung_before['Combined Average UL Interference (dBm)'] = samsung_before['UL_INTERFERENCE_PUSCH']\n",
    "samsung_before['Combined PS Service Retainability (%)'] = (1 -( (samsung_before['RETAINABILITY_NUM'])/(samsung_before['RETAINABILITY_DENOM']) ))*100\n",
    "samsung_before['Combined PS Retention (%)'] = ((samsung_before['IRAT_4G_TO_3G_EVENTS'])/(samsung_before['IRAT_DEN']))*100\n",
    "samsung_before['Combined DL Traffic (GB)'] = samsung_before['TRAFFIC_D_USER_DL_GB']\n",
    "samsung_before['Combined Total Traffic (GB)'] = samsung_before['TRAFFIC_D_USER_PS_GB']\n",
    "samsung_before['Combined RRC Users (None)'] = samsung_before['RRCCONNUSER_AVG']\n",
    "samsung_before['Combined VoLTE Accessibility [QCI-1] (%)'] = ((samsung_before['VOLTE_ACC_ERAB_NUM_QCI1'])/(samsung_before['VOLTE_ACC_ERAB_DEN_QCI1']))*100\n",
    "samsung_before['Combined VoLTE Accessibility (%)'] = ((samsung_before['VOLTE_ACC_ERAB_NUM_QCI5'])/(samsung_before['VOLTE_ACC_ERAB_DEN_QCI5'])*((samsung_before['RRC_SUCCESS_ALL'])/(samsung_before['RRC_ATTEMPTS_ALL']))*(samsung_before['VOLTE_ACC_ERAB_NUM_QCI1'])/(samsung_before['VOLTE_ACC_ERAB_DEN_QCI1']))*100\n",
    "samsung_before['Combined VoLTE Drop Rate [QCI-1] (%)'] = ((samsung_before['DROPS_QCI1'])/(samsung_before['DEN_RET_QCI_1']))*100\n",
    "samsung_before['Combined VoLTE Drop Rate [QCI-5] (%)'] = ((samsung_before['DROPS_QCI5'])/(samsung_before['DEN_RET_QCI_5']))*100\n",
    "samsung_before['Combined VoLTE Erlangs (Erl)'] = samsung_before['USER_TRAFFIC_VOLTE']"
   ]
  },
  {
   "cell_type": "code",
   "execution_count": 101,
   "id": "48be2ed3-7063-43ab-b918-4693c64bd40e",
   "metadata": {},
   "outputs": [],
   "source": [
    "samsung_before = samsung_before.drop(combined_counters, axis=1)"
   ]
  },
  {
   "cell_type": "code",
   "execution_count": null,
   "id": "0f9d9f18-e123-4c6e-906c-efa6239d4dd4",
   "metadata": {},
   "outputs": [],
   "source": []
  },
  {
   "cell_type": "markdown",
   "id": "06517472-a734-4683-962a-69701566ce84",
   "metadata": {},
   "source": [
    "#### FROM HERE ON MISSING PLMN AND HIGH QUAL"
   ]
  },
  {
   "cell_type": "markdown",
   "id": "6bbe84b0-a4ba-4927-b1a2-a97bd3f4cfa3",
   "metadata": {},
   "source": [
    "# Phase 3"
   ]
  },
  {
   "cell_type": "markdown",
   "id": "026d09ac-9264-4bb6-b964-0ea1825d82c5",
   "metadata": {},
   "source": [
    "### Report by Band and All Aggregated"
   ]
  },
  {
   "cell_type": "markdown",
   "id": "6b619b44-bfcb-43bd-9d0d-6cc09a0862b4",
   "metadata": {},
   "source": [
    "### All aggregated"
   ]
  },
  {
   "cell_type": "code",
   "execution_count": 102,
   "id": "8f7161ae-b059-415f-84a2-f23744bacee2",
   "metadata": {},
   "outputs": [],
   "source": [
    "#############################################################\n",
    "#                   ALL By Date and Hour                    #\n",
    "#############################################################\n",
    "agg_lte_data = lte_data.groupby('Date').agg(agg_dict).reset_index()\n",
    "agg_lte_data_hour = lte_data.groupby(['Date', 'Start Time']).agg(agg_dict).reset_index()\n",
    "\n",
    "#############################################################\n",
    "#              By Site Date, Period and Hour                #\n",
    "#############################################################\n",
    "# agg_lte_data_site_dates = lte_data.groupby(['Date', 'NE Name'])[lte_counters].sum().reset_index()\n",
    "agg_lte_data_site_dates = lte_data.groupby(['Date', 'NE Name']).agg(agg_dict).reset_index()\n",
    "agg_lte_data_site_hour = lte_data.groupby(['Date', 'Start Time', 'NE Name']).agg(agg_dict).reset_index()\n",
    "# agg_lte_data_site = lte_data.groupby('NE Name')[lte_counters].sum().reset_index()\n",
    "agg_lte_data_site = lte_data.groupby('NE Name').agg(agg_dict).reset_index()\n",
    "\n",
    "#############################################################\n",
    "#            By Cluster Date, Period and Hour               #\n",
    "#############################################################\n",
    "agg_lte_data_cluster_dates = lte_data.groupby(['Date', 'Cluster Name']).agg(agg_dict).reset_index()\n",
    "agg_lte_data_cluster_hour = lte_data.groupby(['Date', 'Start Time', 'Cluster Name']).agg(agg_dict).reset_index()\n",
    "agg_lte_data_cluster = lte_data.groupby('Cluster Name').agg(agg_dict).reset_index()"
   ]
  },
  {
   "cell_type": "code",
   "execution_count": 103,
   "id": "be2b7bcc-2ab3-4543-95b0-1a83e3ee9229",
   "metadata": {},
   "outputs": [],
   "source": [
    "#############################################################\n",
    "#                   ALL By Date and Hour                    #\n",
    "#############################################################\n",
    "# agg_lte_data = agg_lte_data.drop(lte_counters, axis=1)\n",
    "agg_lte_data['Band'] = 'all'\n",
    "agg_lte_data = agg_lte_data[['Date','Band']+[col for col in agg_lte_data.columns if col not in ['Date','Band']]]\n",
    "agg_lte_data_hour['Band'] = 'all'\n",
    "agg_lte_data_hour = agg_lte_data_hour[['Date','Start Time','Band']+[col for col in agg_lte_data_hour.columns if col not in ['Date','Start Time','Band']]]\n",
    "\n",
    "#############################################################\n",
    "#              By Site Date, Period and Hour                #\n",
    "#############################################################\n",
    "agg_lte_data_site_dates['Band'] = 'all'\n",
    "agg_lte_data_site_dates = agg_lte_data_site_dates[['Date','NE Name','Band']+[col for col in agg_lte_data_site.columns if col not in ['Date','NE Name','Band']]]\n",
    "\n",
    "agg_lte_data_site_hour['Band'] = 'all'\n",
    "agg_lte_data_site_hour = agg_lte_data_site_hour[['Date','Start Time','NE Name','Band']+[col for col in agg_lte_data_site_hour.columns if col not in ['Date','Start Time','NE Name','Band']]]\n",
    "\n",
    "agg_lte_data_site['Band'] = 'all'\n",
    "agg_lte_data_site = agg_lte_data_site[['NE Name', 'Band']+[col for col in agg_lte_data_site.columns if col not in ['NE Name', 'Band']]]\n",
    "\n",
    "#############################################################\n",
    "#            By Cluster Date, Period and Hour               #\n",
    "#############################################################\n",
    "agg_lte_data_cluster_dates['Band'] = 'all'\n",
    "agg_lte_data_cluster_dates = agg_lte_data_cluster_dates[['Date','Cluster Name','Band']+[col for col in agg_lte_data_cluster_dates.columns if col not in ['Date','Cluster Name','Band']]]\n",
    "\n",
    "agg_lte_data_cluster_hour['Band'] = 'all'\n",
    "agg_lte_data_cluster_hour = agg_lte_data_cluster_hour[['Date','Start Time','Cluster Name','Band']+[col for col in agg_lte_data_cluster_hour.columns if col not in ['Date','Start Time','Cluster Name','Band']]]\n",
    "\n",
    "agg_lte_data_cluster['Band'] = 'all'\n",
    "agg_lte_data_cluster = agg_lte_data_cluster[['Cluster Name','Band']+[col for col in agg_lte_data_cluster.columns if col not in ['Cluster Name','Band']]]\n"
   ]
  },
  {
   "cell_type": "markdown",
   "id": "9778d29b-63e0-41a9-9470-38811b380093",
   "metadata": {},
   "source": [
    "### Band aggregation"
   ]
  },
  {
   "cell_type": "code",
   "execution_count": 104,
   "id": "5e703237-1708-4c56-92a5-422b5297cfe5",
   "metadata": {},
   "outputs": [],
   "source": [
    "#############################################################\n",
    "#                   ALL By Date and Hour                    #\n",
    "#############################################################\n",
    "# band_lte_data = lte_data.groupby(['Date', 'Band'])[lte_counters].sum().reset_index()\n",
    "band_lte_data = lte_data.groupby(['Date', 'Band']).agg(agg_dict).reset_index()\n",
    "band_lte_data_hour = lte_data.groupby(['Date', 'Start Time','Band']).agg(agg_dict).reset_index()  \n",
    "\n",
    "#############################################################\n",
    "#              By Site Date, Period and Hour                #\n",
    "#############################################################\n",
    "# band_lte_data_site_dates = lte_data.groupby(['Date', 'Band', 'NE Name'])[lte_counters].sum().reset_index()\n",
    "band_lte_data_site_dates = lte_data.groupby(['Date', 'NE Name', 'Band']).agg(agg_dict).reset_index()\n",
    "band_lte_data_site_hour = lte_data.groupby(['Date','Start Time','NE Name','Band']).agg(agg_dict).reset_index()\n",
    "# band_lte_data_site = lte_data.groupby(['Band', 'NE Name'])[lte_counters].sum().reset_index()\n",
    "band_lte_data_site = lte_data.groupby(['NE Name', 'Band']).agg(agg_dict).reset_index()\n",
    "\n",
    "#############################################################\n",
    "#            By Cluster Date, Period and Hour               #\n",
    "#############################################################\n",
    "band_lte_data_cluster_dates = lte_data.groupby(['Date','Cluster Name','Band']).agg(agg_dict).reset_index()\n",
    "band_lte_data_cluster_hour = lte_data.groupby(['Date','Start Time','Cluster Name','Band']).agg(agg_dict).reset_index()\n",
    "band_lte_data_cluster = lte_data.groupby(['Cluster Name', 'Band']).agg(agg_dict).reset_index()"
   ]
  },
  {
   "cell_type": "markdown",
   "id": "eba0da77-f64d-47e3-b9ba-9d9f59061efa",
   "metadata": {},
   "source": [
    "### Band aggregation (Huawei)"
   ]
  },
  {
   "cell_type": "code",
   "execution_count": 105,
   "id": "c7f693eb-1dcb-431d-b0a3-debbd8dabd19",
   "metadata": {},
   "outputs": [],
   "source": [
    "lte_data_huawei = lte_data[~lte_data['Band'].isin(['B7', 'B7bis'])]\n",
    "lte_data_plmn_huawei = lte_data_plmn[~lte_data_plmn['Band'].isin(['B7', 'B7bis'])]"
   ]
  },
  {
   "cell_type": "code",
   "execution_count": 106,
   "id": "d43f08f2-2ff7-46ba-93bd-f1a69845b88c",
   "metadata": {},
   "outputs": [],
   "source": [
    "#############################################################\n",
    "#                   ALL By Date and Hour                    #\n",
    "#############################################################\n",
    "# band_lte_data = lte_data.groupby(['Date', 'Band'])[lte_counters].sum().reset_index()\n",
    "band_lte_data_h = lte_data_huawei.groupby(['Date', 'Band']).agg(agg_dict).reset_index()\n",
    "band_lte_data_hour_h = lte_data_huawei.groupby(['Date', 'Start Time','Band']).agg(agg_dict).reset_index()  \n",
    "\n",
    "#############################################################\n",
    "#              By Site Date, Period and Hour                #\n",
    "#############################################################\n",
    "# band_lte_data_site_dates = lte_data.groupby(['Date', 'Band', 'NE Name'])[lte_counters].sum().reset_index()\n",
    "band_lte_data_site_dates_h = lte_data_huawei.groupby(['Date', 'NE Name', 'Band']).agg(agg_dict).reset_index()\n",
    "band_lte_data_site_hour_h = lte_data_huawei.groupby(['Date','Start Time','NE Name','Band']).agg(agg_dict).reset_index()\n",
    "# band_lte_data_site = lte_data.groupby(['Band', 'NE Name'])[lte_counters].sum().reset_index()\n",
    "band_lte_data_site_h = lte_data_huawei.groupby(['NE Name', 'Band']).agg(agg_dict).reset_index()\n",
    "\n",
    "#############################################################\n",
    "#            By Cluster Date, Period and Hour               #\n",
    "#############################################################\n",
    "band_lte_data_cluster_dates_h = lte_data_huawei.groupby(['Date','Cluster Name','Band']).agg(agg_dict).reset_index()\n",
    "band_lte_data_cluster_hour_h = lte_data_huawei.groupby(['Date','Start Time','Cluster Name','Band']).agg(agg_dict).reset_index()\n",
    "band_lte_data_cluster_h = lte_data_huawei.groupby(['Cluster Name', 'Band']).agg(agg_dict).reset_index()"
   ]
  },
  {
   "cell_type": "markdown",
   "id": "a3d1b4bb-98ff-4067-8a0e-fb15f83b009e",
   "metadata": {},
   "source": [
    "### Concatenating DFs"
   ]
  },
  {
   "cell_type": "code",
   "execution_count": 107,
   "id": "8a9126d2-9445-4ad8-9594-ae9fb84da3d3",
   "metadata": {},
   "outputs": [],
   "source": [
    "#############################################################\n",
    "#                   ALL By Date and Hour                    #\n",
    "#############################################################\n",
    "# Concatenate the DataFrames, ignoring the index\n",
    "final_lte_data = pd.concat([agg_lte_data, band_lte_data], ignore_index=True)\n",
    "#final_lte_data = pd.concat([final_lte_data, band_lte_data_h], ignore_index=True)\n",
    "\n",
    "final_lte_data_hour = pd.concat([agg_lte_data_hour, band_lte_data_hour], ignore_index=True)\n",
    "#final_lte_data_hour = pd.concat([final_lte_data_hour, band_lte_data_hour_h], ignore_index=True)\n",
    "\n",
    "#############################################################\n",
    "#              By Site Date, Period and Hour                #\n",
    "#############################################################\n",
    "final_lte_data_site_dates = pd.concat([agg_lte_data_site_dates, band_lte_data_site_dates], ignore_index=True)\n",
    "#final_lte_data_site_dates = pd.concat([final_lte_data_site_dates, band_lte_data_site_dates_h], ignore_index=True)\n",
    "######################## CHECK ################################# DO NOT ATTACH _h\n",
    "final_lte_data_site_hour = pd.concat([agg_lte_data_site_hour, band_lte_data_site_hour], ignore_index=True)\n",
    "# final_lte_data_site_hour = pd.concat([final_lte_data_site_hour, band_lte_data_site_hour_h], ignore_index=True)\n",
    "\n",
    "final_lte_data_site = pd.concat([agg_lte_data_site, band_lte_data_site], ignore_index=True)\n",
    "#final_lte_data_site = pd.concat([final_lte_data_site, band_lte_data_site_h], ignore_index=True)\n",
    "\n",
    "#############################################################\n",
    "#            By Cluster Date, Period and Hour               #\n",
    "#############################################################\n",
    "final_lte_data_cluster_dates = pd.concat([agg_lte_data_cluster_dates, band_lte_data_cluster_dates], ignore_index=True)\n",
    "#final_lte_data_cluster_dates = pd.concat([final_lte_data_cluster_dates, band_lte_data_cluster_dates_h], ignore_index=True)\n",
    "\n",
    "final_lte_data_cluster_hour = pd.concat([agg_lte_data_cluster_hour, band_lte_data_cluster_hour], ignore_index=True)\n",
    "#final_lte_data_cluster_hour = pd.concat([final_lte_data_cluster_hour, band_lte_data_cluster_hour_h], ignore_index=True)\n",
    "\n",
    "final_lte_data_cluster = pd.concat([agg_lte_data_cluster, band_lte_data_cluster], ignore_index=True)\n",
    "#final_lte_data_cluster = pd.concat([final_lte_data_cluster, band_lte_data_cluster_h], ignore_index=True)\n",
    "\n",
    "# Sort by 'Date' and 'Band'\n",
    "final_lte_data = final_lte_data.sort_values(by=['Date', 'Band'])\n",
    "final_lte_data_hour = final_lte_data_hour.sort_values(by=['Date', 'Start Time','Band'])\n",
    "\n",
    "final_lte_data_site_dates = final_lte_data_site_dates.sort_values(by=['Date','NE Name', 'Band'])\n",
    "final_lte_data_site_hour = final_lte_data_site_hour.sort_values(by=['Date','Start Time','NE Name', 'Band'])\n",
    "final_lte_data_site = final_lte_data_site.sort_values(by=['NE Name', 'Band'])\n",
    "\n",
    "final_lte_data_cluster_dates = final_lte_data_cluster_dates.sort_values(by=['Date','Cluster Name', 'Band'])\n",
    "final_lte_data_cluster_hour = final_lte_data_cluster_hour.sort_values(by=['Date','Start Time','Cluster Name', 'Band'])\n",
    "final_lte_data_cluster = final_lte_data_cluster.sort_values(by=['Cluster Name', 'Band'])\n"
   ]
  },
  {
   "cell_type": "markdown",
   "id": "e4c2aae2-83c1-4eab-85fc-db72987de804",
   "metadata": {},
   "source": [
    "### Establishing the measurement period for non-dated DFs"
   ]
  },
  {
   "cell_type": "code",
   "execution_count": 108,
   "id": "daceab87-9cf5-42ad-b48d-e142959a99fe",
   "metadata": {},
   "outputs": [],
   "source": [
    "# Get the smallest and largest date for lte_data DataFrame\n",
    "lte_min_date = lte_data['Date'].min().strftime('%d%m%Y')\n",
    "lte_max_date = lte_data['Date'].max().strftime('%d%m%Y')\n",
    "\n",
    "period = f'{lte_min_date}_{lte_max_date}'\n",
    "\n",
    "final_lte_data_site['Measurement Perior'] = period\n",
    "final_lte_data_cluster['Measurement Perior'] = period\n",
    "final_lte_data_site = final_lte_data_site[['Measurement Perior', 'NE Name', 'Band']+[col for col in final_lte_data_site.columns if col not in ['Measurement Perior', 'NE Name', 'Band']]]\n",
    "final_lte_data_cluster = final_lte_data_cluster[['Measurement Perior', 'Cluster Name', 'Band']+[col for col in final_lte_data_cluster.columns if col not in ['Measurement Perior', 'Cluster Name', 'Band']]]"
   ]
  },
  {
   "cell_type": "markdown",
   "id": "dd40b31e-ea6a-4901-bf24-618c807dc6fd",
   "metadata": {},
   "source": [
    "# Phase 4"
   ]
  },
  {
   "cell_type": "markdown",
   "id": "b28ec96f-daf3-4d48-a368-c2e781a5ffaf",
   "metadata": {},
   "source": [
    "### Busy hour calculation"
   ]
  },
  {
   "cell_type": "code",
   "execution_count": 109,
   "id": "733e3c99-567f-4da7-9912-32640c845cc4",
   "metadata": {},
   "outputs": [],
   "source": [
    "# Load your data into a dataframe\n",
    "df = lte_data.copy()"
   ]
  },
  {
   "cell_type": "code",
   "execution_count": 110,
   "id": "1c1086eb-067c-4d70-89a5-3fdc4ace9eeb",
   "metadata": {},
   "outputs": [],
   "source": [
    "# Step 1: Calculate the new column 'DL PRB Usage'\n",
    "df['DL PRB Usage'] = (df['L.ChMeas.PRB.DL.Used.Avg (None)'] / df['L.ChMeas.PRB.DL.Avail (None)']) * 100"
   ]
  },
  {
   "cell_type": "code",
   "execution_count": 111,
   "id": "295bab6d-b6f7-4c2b-b7eb-90deb4949177",
   "metadata": {},
   "outputs": [],
   "source": [
    "# Drop rows where 'DL PRB Usage' is NaN\n",
    "df = df.dropna(subset=['DL PRB Usage'])"
   ]
  },
  {
   "cell_type": "code",
   "execution_count": 112,
   "id": "61cc43d8-0160-4c3d-a61f-bb8de628a9ec",
   "metadata": {},
   "outputs": [],
   "source": [
    "# Step 2: Create a second dataframe with the highest 'DL PRB Usage' value for each day and each cell\n",
    "# Group by 'Date' and 'Cell', then get the row with the max 'DL PRB Usage' for each group\n",
    "idx = df.groupby(['Date', 'Cell'])['DL PRB Usage'].idxmax()\n",
    "df_highest_usage = df.loc[idx].reset_index(drop=True)"
   ]
  },
  {
   "cell_type": "code",
   "execution_count": 113,
   "id": "d26a31f2-762b-49f9-b02b-39f49171b277",
   "metadata": {},
   "outputs": [],
   "source": [
    "# Step 3: Ensure the new dataframe has the same columns\n",
    "df_highest_usage = df_highest_usage[df.columns]"
   ]
  },
  {
   "cell_type": "code",
   "execution_count": 114,
   "id": "ac990b05-fa15-40e5-a3f2-4667d721a9a4",
   "metadata": {},
   "outputs": [],
   "source": [
    "# Eliminate 'DL PRB Usage' column\n",
    "df_highest_usage = df_highest_usage.drop(['DL PRB Usage'], axis=1)"
   ]
  },
  {
   "cell_type": "markdown",
   "id": "47e476ea-0b71-43ac-a721-7c3ed449da28",
   "metadata": {},
   "source": [
    "# Phase 5"
   ]
  },
  {
   "cell_type": "markdown",
   "id": "5de31393-6956-4956-9677-f2623717866c",
   "metadata": {},
   "source": [
    "### KPI Definition for ALL DFs"
   ]
  },
  {
   "cell_type": "code",
   "execution_count": 115,
   "id": "ecfb70fd-b75b-46d7-9b2e-58c765716993",
   "metadata": {},
   "outputs": [],
   "source": [
    "# all_dfs = ['lte_data','final_lte_data','final_lte_data_hour','df_highest_usage','final_lte_data_site','final_lte_data_site_dates',\n",
    "#            'final_lte_data_cluster','final_lte_data_cluster_dates']\n",
    "all_dfs = [final_period_data, final_lte_data_site_hour, lte_data]\n",
    "\n",
    "for dataframe in all_dfs:\n",
    "\n",
    "    dataframe['Cell Availability (%)'] = dataframe['L.Cell.Avail.Dur (s)']/(dataframe['L.Cell.Avail.Dur (s)']+dataframe['L.Cell.Unavail.Dur.Sys (s)']+dataframe['L.Cell.Unavail.Dur.Manual (s)'])*100\n",
    "    dataframe['TA>3[1KM] Rate (%)'] = ((dataframe['L.RA.TA.UE.Index4 (None)'] + dataframe['L.RA.TA.UE.Index5 (None)'] + dataframe['L.RA.TA.UE.Index6 (None)'] + dataframe['L.RA.TA.UE.Index7 (None)'] + dataframe['L.RA.TA.UE.Index8 (None)'] + dataframe['L.RA.TA.UE.Index9 (None)'] + dataframe['L.RA.TA.UE.Index10 (None)'] + dataframe['L.RA.TA.UE.Index11 (None)'])/(dataframe['L.RA.TA.UE.Index0 (None)'] + dataframe['L.RA.TA.UE.Index1 (None)'] + dataframe['L.RA.TA.UE.Index2 (None)'] + dataframe['L.RA.TA.UE.Index3 (None)'] + dataframe['L.RA.TA.UE.Index4 (None)'] + dataframe['L.RA.TA.UE.Index5 (None)'] + dataframe['L.RA.TA.UE.Index6 (None)'] + dataframe['L.RA.TA.UE.Index7 (None)'] + dataframe['L.RA.TA.UE.Index8 (None)'] + dataframe['L.RA.TA.UE.Index9 (None)'] + dataframe['L.RA.TA.UE.Index10 (None)'] + dataframe['L.RA.TA.UE.Index11 (None)']))*100\n",
    "    dataframe['PS Service Accessibility (%)'] = ((dataframe['L.E-RAB.SuccEst (None)']/(dataframe['L.E-RAB.AttEst (None)']-dataframe['L.E-RAB.FailEst.X2AP (None)']))*((dataframe['L.RRC.ConnReq.Succ.Emc (None)']+dataframe['L.RRC.ConnReq.Succ.HighPri (None)']+dataframe['L.RRC.ConnReq.Succ.Mt (None)']+dataframe['L.RRC.ConnReq.Succ.MoData (None)']+dataframe['L.RRC.ConnReq.Succ.DelayTol (None)']+dataframe['L.RRC.ConnReq.Succ.MoSig (None)'])/(dataframe['L.RRC.ConnReq.Att.Emc (None)']+dataframe['L.RRC.ConnReq.Att.HighPri (None)']+dataframe['L.RRC.ConnReq.Att.Mt (None)']+dataframe['L.RRC.ConnReq.Att.MoData (None)']+dataframe['L.RRC.ConnReq.Att.DelayTol (None)']+dataframe['L.RRC.ConnReq.Att.MoSig (None)']))*(dataframe['L.S1Sig.ConnEst.Succ (None)']/dataframe['L.S1Sig.ConnEst.Att (None)']))*100\n",
    "    dataframe['IntraFreqHO (%)'] = ((dataframe['L.HHO.IntraeNB.IntraFreq.ExecSuccOut (None)']+dataframe['L.HHO.IntereNB.IntraFreq.ExecSuccOut (None)'])/(dataframe['L.HHO.IntraeNB.IntraFreq.PrepAttOut (None)']+dataframe['L.HHO.IntereNB.IntraFreq.PrepAttOut (None)']))*100\n",
    "    dataframe['InterFreqHO (%)'] = ((dataframe['L.HHO.IntraeNB.InterFreq.ExecSuccOut (None)']+dataframe['L.HHO.IntereNB.InterFreq.ExecSuccOut (None)'])/(dataframe['L.HHO.IntraeNB.InterFreq.PrepAttOut (None)']+dataframe['L.HHO.IntereNB.InterFreq.PrepAttOut (None)']))*100\n",
    "    dataframe['X2 Handover Success Rate (%)'] = ((dataframe['L.HHO.X2.InterFreq.ExecSuccOut (None)'] + dataframe['L.HHO.X2.IntraFreq.ExecSuccOut (None)']) /(dataframe['L.HHO.X2.IntraFreq.PrepAttOut (None)'] + dataframe['L.HHO.X2.InterFreq.PrepAttOut (None)']))*100\n",
    "    dataframe['S1 Handover Success Rate (%)'] = 100* ((dataframe['L.HHO.IntereNB.IntraFreq.ExecAttOut (None)']+ dataframe['L.HHO.IntereNB.InterFreq.ExecAttOut (None)'] - dataframe['L.HHO.X2.IntraFreq.ExecAttOut (None)']  - dataframe['L.HHO.X2.InterFreq.ExecAttOut (None)']) / (dataframe['L.HHO.IntereNB.IntraFreq.PrepAttOut (None)']+ dataframe['L.HHO.IntereNB.InterFreq.PrepAttOut (None)'] - dataframe['L.HHO.X2.IntraFreq.PrepAttOut (None)'] - dataframe['L.HHO.X2.InterFreq.PrepAttOut (None)']))\n",
    "    dataframe['DL User Throughput (Kbps)'] = (dataframe['L.Thrp.bits.DL (bit)']-dataframe['L.Thrp.bits.DL.LastTTI (bit)'])/dataframe['L.Thrp.Time.DL.RmvLastTTI (ms)']\n",
    "    dataframe['UL User Throughput (Kbps)'] = (dataframe['L.Thrp.bits.UL (bit)']-dataframe['L.Thrp.bits.UE.UL.LastTTI (bit)'])/dataframe['L.Thrp.Time.UE.UL.RmvLastTTI (ms)']\n",
    "    dataframe['Average UL Interference (dBm)'] = dataframe['L.UL.Interference.Avg (dBm)']\n",
    "    dataframe['LTE Efficiency DL (bps/Hz)'] = ((dataframe['L.Traffic.DL.SCH.QPSK.TB.bits (bit)']+dataframe['L.Traffic.DL.SCH.16QAM.TB.bits (bit)']+dataframe['L.Traffic.DL.SCH.64QAM.TB.bits (bit)']+dataframe['L.Traffic.DL.SCH.256QAM.TB.bits (bit)'])-(dataframe['L.Traffic.DL.SCH.QPSK.ErrTB.bits.Rbler (bit)']+dataframe['L.Traffic.DL.SCH.16QAM.ErrTB.bits.Rbler (bit)']+dataframe['L.Traffic.DL.SCH.64QAM.ErrTB.bits.Rbler (bit)']+dataframe['L.Traffic.DL.SCH.256QAM.ErrTB.bits.Rbler (bit)']))/(dataframe['L.ChMeas.PRB.DL.Used.Avg (None)']*3600*12*15000)\n",
    "    dataframe['Packet Loss (%)'] = dataframe['L.Traffic.DL.PktUuLoss.Loss.QCI.1 (packet)']/dataframe['L.Traffic.DL.PktUuLoss.Tot.QCI.1 (packet)']*100\n",
    "    dataframe['Path Loss (%)'] = 100-((dataframe['L.Traffic.User.PL0 (None)']+dataframe['L.Traffic.User.PL1 (None)']+dataframe['L.Traffic.User.PL2 (None)']+dataframe['L.Traffic.User.PL3 (None)']+dataframe['L.Traffic.User.PL4 (None)']+dataframe['L.Traffic.User.PL5 (None)']+dataframe['L.Traffic.User.PL6 (None)']+dataframe['L.Traffic.User.PL7 (None)']+dataframe['L.Traffic.User.PL8 (None)']+dataframe['L.Traffic.User.PL9 (None)'])/(dataframe['L.Traffic.User.PL0 (None)']+dataframe['L.Traffic.User.PL1 (None)']+dataframe['L.Traffic.User.PL2 (None)']+dataframe['L.Traffic.User.PL3 (None)']+dataframe['L.Traffic.User.PL4 (None)']+dataframe['L.Traffic.User.PL5 (None)']+dataframe['L.Traffic.User.PL6 (None)']+dataframe['L.Traffic.User.PL7 (None)']+dataframe['L.Traffic.User.PL8 (None)']+dataframe['L.Traffic.User.PL9 (None)']+dataframe['L.Traffic.User.PL10 (None)']+dataframe['L.Traffic.User.PL11 (None)']+dataframe['L.Traffic.User.PL12 (None)']+dataframe['L.Traffic.User.PL13 (None)']+dataframe['L.Traffic.User.PL14 (None)']))*100\n",
    "    dataframe['PS Service Retainability (%)'] = (1-(dataframe['L.E-RAB.AbnormRel (None)']+dataframe['L.E-RAB.AbnormRel.MME (None)']+dataframe['L.E-RAB.Rel.S1Reset.eNodeB (None)']+dataframe['L.E-RAB.Rel.S1Reset.MME (None)'])/(dataframe['L.E-RAB.AbnormRel (None)']+dataframe['L.E-RAB.NormRel (None)']))*100\n",
    "    # No L.RRCRedirection.E2W counter DONE\n",
    "    dataframe['PS Retention (%)'] = 100*((dataframe['L.RRCRedirection.E2W (None)']-dataframe['L.RRCRedirection.E2W.CSFB (None)']+dataframe['L.IRATHO.E2W.ExecSuccOut (None)']-dataframe['L.IRATHO.E2W.CSFB.ExecSuccOut (None)'])/(dataframe['L.E-RAB.NormRel (None)']+dataframe['L.E-RAB.AbnormRel (None)']+dataframe['L.E-RAB.AbnormRel.MME (None)']+dataframe['L.E-RAB.NormRel.IRatHOOut (None)']-dataframe['L.CSFB.E2W (None)']-dataframe['L.CSFB.E2G (None)']))\n",
    "    #dataframe['PS Retention (%)'] = 100*((dataframe['L.RRCRedirection.E2W (None)']-0+dataframe['L.IRATHO.E2W.ExecSuccOut (None)']-0)/(dataframe['L.E-RAB.NormRel (None)']+dataframe['L.E-RAB.AbnormRel (None)']+dataframe['L.E-RAB.AbnormRel.MME (None)']+dataframe['L.E-RAB.NormRel.IRatHOOut (None)']-0))\n",
    "    dataframe['DL Traffic (GB)'] = ((dataframe['L.Thrp.bits.DL (bit)']/(1024*1024*1024))*0.125)\n",
    "    dataframe['Total Traffic (GB)'] = ((dataframe['L.Thrp.bits.DL (bit)']/(1024*1024*1024))*0.125) + ((dataframe['L.Thrp.bits.UL (bit)']/(1024*1024*1024))*0.125)\n",
    "    dataframe['RRC Users (None)'] = dataframe['L.Traffic.User.Avg (None)']\n",
    "    dataframe['DL PRB Usage (%)'] = dataframe['L.ChMeas.PRB.DL.Used.Avg (None)']/dataframe['L.ChMeas.PRB.DL.Avail (None)']*100\n",
    "    dataframe['VoLTE Accessibility [QCI-1] (%)'] = (dataframe['L.E-RAB.SuccEst.QCI.1 (None)']/(dataframe['L.E-RAB.AttEst.QCI.1 (None)']-dataframe['L.E-RAB.FailEst.X2AP.VoIP (None)']))*100\n",
    "    # Change when having all counters DONE\n",
    "    dataframe['VoLTE Accessibility all (%)'] = 100*((dataframe['L.E-RAB.SuccEst.QCI.5 (None)']/dataframe['L.E-RAB.AttEst.QCI.5 (None)'])*(dataframe['L.E-RAB.SuccEst.QCI.1 (None)']/(dataframe['L.E-RAB.AttEst.QCI.1 (None)']-dataframe['L.E-RAB.FailEst.X2AP.VoIP (None)']))*((dataframe['L.RRC.ConnReq.Succ.Emc (None)']+dataframe['L.RRC.ConnReq.Succ.HighPri (None)']+dataframe['L.RRC.ConnReq.Succ.Mt (None)']+dataframe['L.RRC.ConnReq.Succ.MoData (None)']+dataframe['L.RRC.ConnReq.Succ.DelayTol (None)']+dataframe['L.RRC.ConnReq.Succ.MoSig (None)'])/(dataframe['L.RRC.ConnReq.Att.Emc (None)']+dataframe['L.RRC.ConnReq.Att.HighPri (None)']+dataframe['L.RRC.ConnReq.Att.Mt (None)']+dataframe['L.RRC.ConnReq.Att.MoData (None)']+dataframe['L.RRC.ConnReq.Att.DelayTol (None)']+dataframe['L.RRC.ConnReq.Att.MoSig (None)']))*(dataframe['L.S1Sig.ConnEst.Succ (None)']/dataframe['L.S1Sig.ConnEst.Att (None)']))\n",
    "    dataframe['CSFB Execution Success Rate (%)'] = 100*((dataframe['L.CSFB.E2W (None)'] + dataframe['L.CSFB.E2G (None)'])/(dataframe['L.CSFB.PrepSucc (None)'] + dataframe['L.CSFB.LCS.PrepSucc (None)']))\n",
    "    # No L.IRATHO.SRVCC.E2W.PrepAttOut DONE\n",
    "    dataframe['VoLTE SRVCC Success Rate (%)'] = (dataframe['L.IRATHO.SRVCC.E2W.ExecSuccOut (None)']/dataframe['L.IRATHO.SRVCC.E2W.PrepAttOut (None)'])*100\n",
    "    #dataframe['VoLTE SRVCC Success Rate (%)'] = (dataframe['L.IRATHO.SRVCC.E2W.ExecSuccOut (None)']/1)*100\n",
    "    dataframe['Voice Quality EVQI'] = dataframe['L.Voice.E2EVQI.TotalValue (None)']/((dataframe['L.Voice.E2EVQI.Excellent.Times (None)']+dataframe['L.Voice.E2EVQI.Good.Times (None)']+dataframe['L.Voice.E2EVQI.Accept.Times (None)']+dataframe['L.Voice.E2EVQI.Poor.Times (None)']+dataframe['L.Voice.E2EVQI.Bad.Times (None)'])*100)\n",
    "    dataframe['VoLTE Drop Rate [QCI-1] (%)'] = ((dataframe['L.E-RAB.AbnormRel.QCI.1 (None)'] + dataframe['L.E-RAB.AbnormRel.MME.VoIP (None)'])/(dataframe['L.E-RAB.NormRel.QCI.1 (None)']+dataframe['L.E-RAB.AbnormRel.QCI.1 (None)']+dataframe['L.E-RAB.NormRel.IRatHOOut.QCI.1 (None)']))*100\n",
    "    # Change when having all counters DONE\n",
    "    dataframe['VoLTE Drop Rate [QCI-5] (%)'] = 100 *(dataframe['L.E-RAB.AbnormRel.QCI.5 (None)'] + dataframe['L.E-RAB.AbnormRel.MME.QCI.5 (None)']) / (dataframe['L.E-RAB.NormRel.QCI.5 (None)'] + dataframe['L.E-RAB.AbnormRel.QCI.5 (None)'] +dataframe['L.E-RAB.NormRel.IRatHOOut.QCI.5 (None)'])\n",
    "    #dataframe['VoLTE Drop Rate [QCI-5] (%)'] = ((dataframe['L.E-RAB.AbnormRel.QCI.1 (None)'] + dataframe['L.E-RAB.AbnormRel.MME.VoIP (None)'])/(dataframe['L.E-RAB.NormRel.QCI.1 (None)']+dataframe['L.E-RAB.AbnormRel.QCI.1 (None)']+dataframe['L.E-RAB.NormRel.IRatHOOut.QCI.1 (None)']))*100\n",
    "    dataframe['QCI1 HO Execution Rate [VoLTE] (%)'] = ((dataframe['L.HHO.IntraeNB.IntraFreq.ExecSuccOut.VoIP (None)']+dataframe['L.HHO.IntraeNB.InterFreq.ExecSuccOut.VoIP (None)']+dataframe['L.HHO.IntereNB.IntraFreq.ExecSuccOut.VoIP (None)'] +dataframe['L.HHO.IntereNB.InterFreq.ExecSuccOut.VoIP (None)'])/(dataframe['L.HHO.IntraeNB.IntraFreq.PrepAttOut.VoIP (None)'] +dataframe['L.HHO.IntraeNB.InterFreq.PrepAttOut.VoIP (None)']+dataframe['L.HHO.IntereNB.IntraFreq.PrepAttOut.VoIP (None)']+dataframe['L.HHO.IntereNB.InterFreq.PrepAttOut.VoIP (None)']))*100\n",
    "    dataframe['VoLTE Erlangs'] = dataframe['L.E-RAB.SessionTime.HighPrecision.QCI1 (100 ms)']/10/60/60\n",
    "\n",
    "    dataframe['CSFB Execution Success Rate (%)'] = np.where(dataframe['CSFB Execution Success Rate (%)'].fillna(0) > 100, 100, dataframe['CSFB Execution Success Rate (%)'])\n",
    "    dataframe['QCI1 HO Execution Rate [VoLTE] (%)'] = np.where(dataframe['QCI1 HO Execution Rate [VoLTE] (%)'].fillna(0) > 100, 100, dataframe['QCI1 HO Execution Rate [VoLTE] (%)'])\n",
    "\n",
    "#    dataframe['RRC Success Rate (%)'] = ((dataframe['L.RRC.ConnReq.Succ.Emc (None)']+dataframe['L.RRC.ConnReq.Succ.HighPri (None)']+dataframe['L.RRC.ConnReq.Succ.Mt (None)']+dataframe['L.RRC.ConnReq.Succ.MoData (None)']+dataframe['L.RRC.ConnReq.Succ.DelayTol (None)']+dataframe['L.RRC.ConnReq.Succ.MoSig (None)'])/(dataframe['L.RRC.ConnReq.Att.MoSig (None)']+dataframe['L.RRC.ConnReq.Att.Emc (None)']+dataframe['L.RRC.ConnReq.Att.HighPri (None)']+dataframe['L.RRC.ConnReq.Att.Mt (None)']+dataframe['L.RRC.ConnReq.Att.MoData (None)']+dataframe['L.RRC.ConnReq.Att.DelayTol (None)']))*100\n",
    "#    dataframe['E-RAB Success Rate (%)'] = ((dataframe['L.E-RAB.SuccEst (None)']/(dataframe['L.E-RAB.AttEst (None)']-dataframe['L.E-RAB.FailEst.X2AP (None)'])))*100\n",
    "#    dataframe['Latency (ms)'] = (dataframe['L.Traffic.DL.PktDelay.Time.QCI.6 (ms)']+dataframe['L.Traffic.DL.PktDelay.Time.QCI.7 (ms)']+dataframe['L.Traffic.DL.PktDelay.Time.QCI.8 (ms)']+dataframe['L.Traffic.DL.PktDelay.Time.QCI.9 (ms)'])/(dataframe['L.Traffic.DL.PktDelay.Num.QCI.6 (packet)']+dataframe['L.Traffic.DL.PktDelay.Num.QCI.7 (packet)']+dataframe['L.Traffic.DL.PktDelay.Num.QCI.8 (packet)']+dataframe['L.Traffic.DL.PktDelay.Num.QCI.9 (packet)'])\n",
    "#    dataframe['Average CQI (None)'] = (dataframe['L.ChMeas.CQI.DL.0 (None)']*0+dataframe['L.ChMeas.CQI.DL.1 (None)']*1+dataframe['L.ChMeas.CQI.DL.2 (None)']*2+dataframe['L.ChMeas.CQI.DL.3 (None)']*3+dataframe['L.ChMeas.CQI.DL.4 (None)']*4+dataframe['L.ChMeas.CQI.DL.5 (None)']*5+dataframe['L.ChMeas.CQI.DL.6 (None)']*6+dataframe['L.ChMeas.CQI.DL.7 (None)']*7+dataframe['L.ChMeas.CQI.DL.8 (None)']*8+dataframe['L.ChMeas.CQI.DL.9 (None)']*9+dataframe['L.ChMeas.CQI.DL.10 (None)']*10+dataframe['L.ChMeas.CQI.DL.11 (None)']*11+dataframe['L.ChMeas.CQI.DL.12 (None)']*12+dataframe['L.ChMeas.CQI.DL.13 (None)']*13+dataframe['L.ChMeas.CQI.DL.14 (None)']*14+dataframe['L.ChMeas.CQI.DL.15 (None)']*15)/(dataframe['L.ChMeas.CQI.DL.0 (None)']+dataframe['L.ChMeas.CQI.DL.1 (None)']+dataframe['L.ChMeas.CQI.DL.2 (None)']+dataframe['L.ChMeas.CQI.DL.3 (None)']+dataframe['L.ChMeas.CQI.DL.4 (None)']+dataframe['L.ChMeas.CQI.DL.5 (None)']+dataframe['L.ChMeas.CQI.DL.6 (None)']+dataframe['L.ChMeas.CQI.DL.7 (None)']+dataframe['L.ChMeas.CQI.DL.8 (None)']+dataframe['L.ChMeas.CQI.DL.9 (None)']+dataframe['L.ChMeas.CQI.DL.10 (None)']+dataframe['L.ChMeas.CQI.DL.11 (None)']+dataframe['L.ChMeas.CQI.DL.12 (None)']+dataframe['L.ChMeas.CQI.DL.13 (None)']+dataframe['L.ChMeas.CQI.DL.14 (None)']+dataframe['L.ChMeas.CQI.DL.15 (None)'])\n",
    "#    dataframe['Avg DL MCS (None)'] = (dataframe['L.ChMeas.PDSCH.MCS.0 (None)']*0+dataframe['L.ChMeas.PDSCH.MCS.1 (None)']*1+dataframe['L.ChMeas.PDSCH.MCS.2 (None)']*2+dataframe['L.ChMeas.PDSCH.MCS.3 (None)']*3+dataframe['L.ChMeas.PDSCH.MCS.4 (None)']*4+dataframe['L.ChMeas.PDSCH.MCS.5 (None)']*5+dataframe['L.ChMeas.PDSCH.MCS.6 (None)']*6+dataframe['L.ChMeas.PDSCH.MCS.7 (None)']*7+dataframe['L.ChMeas.PDSCH.MCS.8 (None)']*8+dataframe['L.ChMeas.PDSCH.MCS.9 (None)']*9+dataframe['L.ChMeas.PDSCH.MCS.10 (None)']*10+dataframe['L.ChMeas.PDSCH.MCS.11 (None)']*11+dataframe['L.ChMeas.PDSCH.MCS.12 (None)']*12+dataframe['L.ChMeas.PDSCH.MCS.13 (None)']*13+dataframe['L.ChMeas.PDSCH.MCS.14 (None)']*14+dataframe['L.ChMeas.PDSCH.MCS.15 (None)']*15+dataframe['L.ChMeas.PDSCH.MCS.16 (None)']*16+dataframe['L.ChMeas.PDSCH.MCS.17 (None)']*17+dataframe['L.ChMeas.PDSCH.MCS.18 (None)']*18+dataframe['L.ChMeas.PDSCH.MCS.19 (None)']*19+dataframe['L.ChMeas.PDSCH.MCS.20 (None)']*20+dataframe['L.ChMeas.PDSCH.MCS.21 (None)']*21+dataframe['L.ChMeas.PDSCH.MCS.22 (None)']*22+dataframe['L.ChMeas.PDSCH.MCS.23 (None)']*23+dataframe['L.ChMeas.PDSCH.MCS.24 (None)']*24+dataframe['L.ChMeas.PDSCH.MCS.25 (None)']*25+dataframe['L.ChMeas.PDSCH.MCS.26 (None)']*26+dataframe['L.ChMeas.PDSCH.MCS.27 (None)']*27+dataframe['L.ChMeas.PDSCH.MCS.28 (None)']*28)/(dataframe['L.ChMeas.PDSCH.MCS.0 (None)']+dataframe['L.ChMeas.PDSCH.MCS.1 (None)']+dataframe['L.ChMeas.PDSCH.MCS.2 (None)']+dataframe['L.ChMeas.PDSCH.MCS.3 (None)']+dataframe['L.ChMeas.PDSCH.MCS.4 (None)']+dataframe['L.ChMeas.PDSCH.MCS.5 (None)']+dataframe['L.ChMeas.PDSCH.MCS.6 (None)']+dataframe['L.ChMeas.PDSCH.MCS.7 (None)']+dataframe['L.ChMeas.PDSCH.MCS.8 (None)']+dataframe['L.ChMeas.PDSCH.MCS.9 (None)']+dataframe['L.ChMeas.PDSCH.MCS.10 (None)']+dataframe['L.ChMeas.PDSCH.MCS.11 (None)']+dataframe['L.ChMeas.PDSCH.MCS.12 (None)']+dataframe['L.ChMeas.PDSCH.MCS.13 (None)']+dataframe['L.ChMeas.PDSCH.MCS.14 (None)']+dataframe['L.ChMeas.PDSCH.MCS.15 (None)']+dataframe['L.ChMeas.PDSCH.MCS.16 (None)']+dataframe['L.ChMeas.PDSCH.MCS.17 (None)']+dataframe['L.ChMeas.PDSCH.MCS.18 (None)']+dataframe['L.ChMeas.PDSCH.MCS.19 (None)']+dataframe['L.ChMeas.PDSCH.MCS.20 (None)']+dataframe['L.ChMeas.PDSCH.MCS.21 (None)']+dataframe['L.ChMeas.PDSCH.MCS.22 (None)']+dataframe['L.ChMeas.PDSCH.MCS.23 (None)']+dataframe['L.ChMeas.PDSCH.MCS.24 (None)']+dataframe['L.ChMeas.PDSCH.MCS.25 (None)']+dataframe['L.ChMeas.PDSCH.MCS.26 (None)']+dataframe['L.ChMeas.PDSCH.MCS.27 (None)']+dataframe['L.ChMeas.PDSCH.MCS.28 (None)'])\n",
    "#    dataframe['Avg UL MCS (None)'] = (dataframe['L.ChMeas.PUSCH.MCS.0 (None)']*0+dataframe['L.ChMeas.PUSCH.MCS.1 (None)']*1+dataframe['L.ChMeas.PUSCH.MCS.2 (None)']*2+dataframe['L.ChMeas.PUSCH.MCS.3 (None)']*3+dataframe['L.ChMeas.PUSCH.MCS.4 (None)']*4+dataframe['L.ChMeas.PUSCH.MCS.5 (None)']*5+dataframe['L.ChMeas.PUSCH.MCS.6 (None)']*6+dataframe['L.ChMeas.PUSCH.MCS.7 (None)']*7+dataframe['L.ChMeas.PUSCH.MCS.8 (None)']*8+dataframe['L.ChMeas.PUSCH.MCS.9 (None)']*9+dataframe['L.ChMeas.PUSCH.MCS.10 (None)']*10+dataframe['L.ChMeas.PUSCH.MCS.11 (None)']*11+dataframe['L.ChMeas.PUSCH.MCS.12 (None)']*12+dataframe['L.ChMeas.PUSCH.MCS.13 (None)']*13+dataframe['L.ChMeas.PUSCH.MCS.14 (None)']*14+dataframe['L.ChMeas.PUSCH.MCS.15 (None)']*15+dataframe['L.ChMeas.PUSCH.MCS.16 (None)']*16+dataframe['L.ChMeas.PUSCH.MCS.17 (None)']*17+dataframe['L.ChMeas.PUSCH.MCS.18 (None)']*18+dataframe['L.ChMeas.PUSCH.MCS.19 (None)']*19+dataframe['L.ChMeas.PUSCH.MCS.20 (None)']*20+dataframe['L.ChMeas.PUSCH.MCS.21 (None)']*21+dataframe['L.ChMeas.PUSCH.MCS.22 (None)']*22+dataframe['L.ChMeas.PUSCH.MCS.23 (None)']*23+dataframe['L.ChMeas.PUSCH.MCS.24 (None)']*24+dataframe['L.ChMeas.PUSCH.MCS.25 (None)']*25+dataframe['L.ChMeas.PUSCH.MCS.26 (None)']*26+dataframe['L.ChMeas.PUSCH.MCS.27 (None)']*27+dataframe['L.ChMeas.PUSCH.MCS.28 (None)']*28)/(dataframe['L.ChMeas.PUSCH.MCS.0 (None)']+dataframe['L.ChMeas.PUSCH.MCS.1 (None)']+dataframe['L.ChMeas.PUSCH.MCS.2 (None)']+dataframe['L.ChMeas.PUSCH.MCS.3 (None)']+dataframe['L.ChMeas.PUSCH.MCS.4 (None)']+dataframe['L.ChMeas.PUSCH.MCS.5 (None)']+dataframe['L.ChMeas.PUSCH.MCS.6 (None)']+dataframe['L.ChMeas.PUSCH.MCS.7 (None)']+dataframe['L.ChMeas.PUSCH.MCS.8 (None)']+dataframe['L.ChMeas.PUSCH.MCS.9 (None)']+dataframe['L.ChMeas.PUSCH.MCS.10 (None)']+dataframe['L.ChMeas.PUSCH.MCS.11 (None)']+dataframe['L.ChMeas.PUSCH.MCS.12 (None)']+dataframe['L.ChMeas.PUSCH.MCS.13 (None)']+dataframe['L.ChMeas.PUSCH.MCS.14 (None)']+dataframe['L.ChMeas.PUSCH.MCS.15 (None)']+dataframe['L.ChMeas.PUSCH.MCS.16 (None)']+dataframe['L.ChMeas.PUSCH.MCS.17 (None)']+dataframe['L.ChMeas.PUSCH.MCS.18 (None)']+dataframe['L.ChMeas.PUSCH.MCS.19 (None)']+dataframe['L.ChMeas.PUSCH.MCS.20 (None)']+dataframe['L.ChMeas.PUSCH.MCS.21 (None)']+dataframe['L.ChMeas.PUSCH.MCS.22 (None)']+dataframe['L.ChMeas.PUSCH.MCS.23 (None)']+dataframe['L.ChMeas.PUSCH.MCS.24 (None)']+dataframe['L.ChMeas.PUSCH.MCS.25 (None)']+dataframe['L.ChMeas.PUSCH.MCS.26 (None)']+dataframe['L.ChMeas.PUSCH.MCS.27 (None)']+dataframe['L.ChMeas.PUSCH.MCS.28 (None)'])   \n",
    "#    dataframe['Timing Advance (kms)'] = (((dataframe['L.RA.TA.UE.Index0 (None)'] *39)+(dataframe['L.RA.TA.UE.Index1 (None)'] *156)+(dataframe['L.RA.TA.UE.Index2 (None)'] *390)+(dataframe['L.RA.TA.UE.Index3 (None)'] *780)+(dataframe['L.RA.TA.UE.Index4 (None)'] *1482)+(dataframe['L.RA.TA.UE.Index5 (None)'] *2730)+(dataframe['L.RA.TA.UE.Index6 (None)'] *5070)+(dataframe['L.RA.TA.UE.Index7 (None)'] *10530)+(dataframe['L.RA.TA.UE.Index8 (None)'] *22230)+(dataframe['L.RA.TA.UE.Index9 (None)'] *41730)+(dataframe['L.RA.TA.UE.Index10 (None)'] *65130))/(dataframe['L.RA.TA.UE.Index0 (None)'] + dataframe['L.RA.TA.UE.Index1 (None)'] + dataframe['L.RA.TA.UE.Index2 (None)'] + dataframe['L.RA.TA.UE.Index3 (None)'] + dataframe['L.RA.TA.UE.Index4 (None)'] + dataframe['L.RA.TA.UE.Index5 (None)'] + dataframe['L.RA.TA.UE.Index6 (None)'] + dataframe['L.RA.TA.UE.Index7 (None)'] + dataframe['L.RA.TA.UE.Index8 (None)'] + dataframe['L.RA.TA.UE.Index9 (None)'] + dataframe['L.RA.TA.UE.Index10 (None)'])) / 1000\n",
    "#    dataframe['UL PRB Usage (%)'] = dataframe['L.ChMeas.PRB.UL.Used.Avg (None)']/dataframe['L.ChMeas.PRB.UL.Avail (None)']*100\n",
    "#    dataframe['VoLTE Accessibility [QCI-5] (%)'] =dataframe['L.E-RAB.SuccEst.QCI.5 (None)']/dataframe['L.E-RAB.AttEst.QCI.5 (None)']*100\n",
    "#    dataframe['IRAT 2G/3G Ratio (%)'] = ((dataframe['L.RRCRedirection.E2W (None)']+dataframe['L.RRCRedirection.E2G (None)']+dataframe['L.IRATHO.E2W.ExecSuccOut (None)']+dataframe['L.IRATHO.E2G.ExecSuccOut (None)']-dataframe['L.CSFB.E2W (None)']-dataframe['L.CSFB.E2G (None)'])/(dataframe['L.E-RAB.AbnormRel (None)']+dataframe['L.E-RAB.NormRel (None)']+dataframe['L.E-RAB.NormRel.IRatHOOut (None)']-dataframe['L.CSFB.E2W (None)']-dataframe['L.CSFB.E2G (None)']))*100\n",
    "#    dataframe['VoIP User Ratio (%)'] = dataframe['L.E-RAB.AttEst.QCI.1 (None)']/(dataframe['L.E-RAB.AttEst.QCI.1 (None)']+dataframe['L.CSFB.E2W (None)'])*100\n",
    "#    dataframe['RSRP Proportion Index 3 & 4 (%)'] = ((dataframe['L.MeasRpts.RSRP.Index3 (None)']+dataframe['L.MeasRpts.RSRP.Index4 (None)'])/(dataframe['L.MeasRpts.RSRP.Index0 (None)']+dataframe['L.MeasRpts.RSRP.Index1 (None)']+dataframe['L.MeasRpts.RSRP.Index2 (None)']+dataframe['L.MeasRpts.RSRP.Index3 (None)']+dataframe['L.MeasRpts.RSRP.Index4 (None)']))*100\n",
    "#    dataframe['DL QPSK Ratio (%)'] = dataframe['L.Traffic.DL.SCH.QPSK.TB (None)']/(dataframe['L.Traffic.DL.SCH.QPSK.TB (None)']+dataframe['L.Traffic.DL.SCH.16QAM.TB (None)']+dataframe['L.Traffic.DL.SCH.64QAM.TB (None)']+dataframe['L.Traffic.DL.SCH.256QAM.TB (None)'])*100\n",
    "#    dataframe['DL 16QAM Ratio (%)'] = dataframe['L.Traffic.DL.SCH.16QAM.TB (None)']/(dataframe['L.Traffic.DL.SCH.QPSK.TB (None)']+dataframe['L.Traffic.DL.SCH.16QAM.TB (None)']+dataframe['L.Traffic.DL.SCH.64QAM.TB (None)']+dataframe['L.Traffic.DL.SCH.256QAM.TB (None)'])*100\n",
    "#    dataframe['DL 64QAM Ratio (%)'] = dataframe['L.Traffic.DL.SCH.64QAM.TB (None)']/(dataframe['L.Traffic.DL.SCH.QPSK.TB (None)']+dataframe['L.Traffic.DL.SCH.16QAM.TB (None)']+dataframe['L.Traffic.DL.SCH.64QAM.TB (None)']+dataframe['L.Traffic.DL.SCH.256QAM.TB (None)'])*100\n",
    "#    dataframe['DL 256QAM Ratio (%)'] = dataframe['L.Traffic.DL.SCH.256QAM.TB (None)']/(dataframe['L.Traffic.DL.SCH.QPSK.TB (None)']+dataframe['L.Traffic.DL.SCH.16QAM.TB (None)']+dataframe['L.Traffic.DL.SCH.64QAM.TB (None)']+dataframe['L.Traffic.DL.SCH.256QAM.TB (None)'])*100\n",
    "#    dataframe['% MIMO RI 1'] = dataframe['L.ChMeas.RI.Rank1 (None)']/(dataframe['L.ChMeas.RI.Rank1 (None)']+dataframe['L.ChMeas.RI.Rank2 (None)']+dataframe['L.ChMeas.RI.Rank3 (None)']+dataframe['L.ChMeas.RI.Rank4 (None)'])*100\n",
    "#    dataframe['% MIMO RI 2'] = dataframe['L.ChMeas.RI.Rank2 (None)']/(dataframe['L.ChMeas.RI.Rank1 (None)']+dataframe['L.ChMeas.RI.Rank2 (None)']+dataframe['L.ChMeas.RI.Rank3 (None)']+dataframe['L.ChMeas.RI.Rank4 (None)'])*100\n",
    "#    dataframe['% MIMO RI 3'] = dataframe['L.ChMeas.RI.Rank3 (None)']/(dataframe['L.ChMeas.RI.Rank1 (None)']+dataframe['L.ChMeas.RI.Rank2 (None)']+dataframe['L.ChMeas.RI.Rank3 (None)']+dataframe['L.ChMeas.RI.Rank4 (None)'])*100\n",
    "#    dataframe['% MIMO RI 4'] = dataframe['L.ChMeas.RI.Rank4 (None)']/(dataframe['L.ChMeas.RI.Rank1 (None)']+dataframe['L.ChMeas.RI.Rank2 (None)']+dataframe['L.ChMeas.RI.Rank3 (None)']+dataframe['L.ChMeas.RI.Rank4 (None)'])*100  \n",
    "#    dataframe['Total Traffic (GB)'] = ((dataframe['L.Thrp.bits.DL (bit)']/(1024*1024*1024))*0.125) + ((dataframe['L.Thrp.bits.UL (bit)']/(1024*1024*1024))*0.125)\n",
    "#    dataframe['UL Traffic (GB)'] = ((dataframe['L.Thrp.bits.UL (bit)']/(1024*1024*1024))*0.125)\n",
    "#    dataframe['Max RRC Users (None)'] = dataframe['L.Traffic.User.Max (None)'] \n",
    "#    dataframe['S1 Setup Success Rate (%)'] = (dataframe['L.S1Sig.ConnEst.Succ (None)']/dataframe['L.S1Sig.ConnEst.Att (None)'])*100\n",
    "#    dataframe['LTE Efficiency UL'] = (dataframe['L.Traffic.UL.SCH.QPSK.TB.bits (bit)']+dataframe['L.Traffic.UL.SCH.16QAM.TB.bits (bit)']+dataframe['L.Traffic.UL.SCH.64QAM.TB.bits (bit)'])/(dataframe['L.ChMeas.PRB.PUSCH.Avg (None)']*3600*12*15000)\n",
    "#    dataframe['RACH Success Rate (%)'] = 100 * (dataframe['L.RA.GrpA.Resp (None)']+dataframe['L.RA.GrpB.Resp (None)']+dataframe['L.RA.Dedicate.Resp (None)'])/(dataframe['L.RA.GrpA.Att (None)']+dataframe['L.RA.GrpB.Att (None)']+dataframe['L.RA.Dedicate.Att (None)'])\n",
    "#    dataframe['CSFB Execution SR (%)'] =((dataframe['L.CSFB.E2G (None)']+dataframe['L.CSFB.E2W (None)'])/(dataframe['L.CSFB.PrepSucc (None)']+dataframe['L.CSFB.LCS.PrepSucc (None)_x']))*100\n",
    "#    dataframe['VoLTE Retention (%)'] = (1-(dataframe['L.IRATHO.SRVCC.E2W.ExecSuccOut (None)']-dataframe['L.IRATHO.SRVCC.E2W.MMEAbnormRsp (None)'])/(dataframe['L.E-RAB.AbnormRel.QCI.1 (None)']+dataframe['L.E-RAB.NormRel.QCI.1 (None)']+dataframe['L.E-RAB.NormRel.IRatHOOut.QCI.1 (None)']))*100\n",
    "#    dataframe['VoLTE HO Execution Rate [QCI-1] (%)'] = ((dataframe['L.HHO.IntraeNB.IntraFreq.ExecSuccOut.VoIP (None)']+dataframe['L.HHO.IntraeNB.InterFreq.ExecSuccOut.VoIP (None)']+dataframe['L.HHO.IntereNB.IntraFreq.ExecSuccOut.VoIP (None)'] +dataframe['L.HHO.IntereNB.InterFreq.ExecSuccOut.VoIP (None)'])/(dataframe['L.HHO.IntraeNB.IntraFreq.ExecAttOut.VoIP (None)'] +dataframe['L.HHO.IntraeNB.InterFreq.ExecAttOut.VoIP (None)']+dataframe['L.HHO.IntereNB.IntraFreq.ExecAttOut.VoIP (None)']+dataframe['L.HHO.IntereNB.InterFreq.ExecAttOut.VoIP (None)']))*100\n",
    "#    dataframe['CQI Compound'] = ((0.25*np.exp((1-dataframe['PS Service Accessibility (%)']/100)*-63.91668575)) + (0.25*np.exp((1-dataframe['PS Service Retainability (%)']/100)*-63.91668575)) + (0.05*np.exp((((dataframe['L.RRCRedirection.E2W (None)']+dataframe['L.IRATHO.E2W.ExecSuccOut (None)'])-dataframe['L.CSFB.E2W (None)'])/dataframe['L.E-RAB.SuccEst (None)'])*-22.31435513)) + (0.3*(1-(np.exp(dataframe['DL User Throughput (Kbps)']*-0.000282742)))) + 0.15)*100\n",
    "#    dataframe['Cell THR DL'] = dataframe['L.Thrp.bits.DL (bit)']/dataframe['L.Thrp.Time.Cell.DL.HighPrecision (ms)']/1000\n",
    "#    dataframe['Cell THR UL'] = dataframe['L.Thrp.bits.UL (bit)']/dataframe['L.Thrp.Time.Cell.UL.HighPrecision (ms)']/1000\n",
    "#    dataframe['Border User Max'] = dataframe['L.Traffic.User.BorderUE.Max (None)']\n",
    "#    dataframe['Border User Avg'] = dataframe['L.Traffic.User.BorderUE.Avg (None)']\n",
    "#    dataframe['Border Traffic DL (GB)'] = dataframe['L.Thrp.bits.DL.BorderUE (bit)']/8/1024/1024/1024\n",
    "#    dataframe['Border Traffic UL (GB)'] = dataframe['L.Thrp.bits.UL.BorderUE (bit)']/8/1024/1024/1024\n",
    "#    dataframe['Edge User THR DL (Mbps)'] = (dataframe['L.Thrp.bits.DL.BorderUE (bit)']-dataframe['L.Thrp.bits.DL.LastTTI.BorderUE (bit)'])/dataframe['L.Thrp.Time.DL.RmvLastTTI.BorderUE (ms)']/1000\n",
    "#    dataframe['PDSCH iBLER (%)'] = (dataframe['L.Traffic.DL.SCH.QPSK.ErrTB.Ibler (None)']+dataframe['L.Traffic.DL.SCH.16QAM.ErrTB.Ibler (None)']+dataframe['L.Traffic.DL.SCH.64QAM.ErrTB.Ibler (None)']+dataframe['L.Traffic.DL.SCH.256QAM.ErrTB.Ibler (None)'])/(dataframe['L.Traffic.DL.SCH.QPSK.TB (None)']+dataframe['L.Traffic.DL.SCH.16QAM.TB (None)']+dataframe['L.Traffic.DL.SCH.64QAM.TB (None)']+dataframe['L.Traffic.DL.SCH.256QAM.TB (None)'])\n",
    "#    dataframe['PDSCH rBLER (%)'] = (dataframe['L.Traffic.DL.SCH.QPSK.ErrTB.Rbler (None)']+dataframe['L.Traffic.DL.SCH.16QAM.ErrTB.Rbler (None)']+dataframe['L.Traffic.DL.SCH.64QAM.ErrTB.Rbler (None)']+dataframe['L.Traffic.DL.SCH.256QAM.ErrTB.Rbler (None)'])/(dataframe['L.Traffic.DL.SCH.QPSK.TB (None)']+dataframe['L.Traffic.DL.SCH.16QAM.TB (None)']+dataframe['L.Traffic.DL.SCH.64QAM.TB (None)']+dataframe['L.Traffic.DL.SCH.256QAM.TB (None)'])\n",
    "#    dataframe['Non-GBR DL Latency [Data] (ms)'] = (dataframe['L.Traffic.DL.PktDelay.Time.QCI.6 (ms)']+dataframe['L.Traffic.DL.PktDelay.Time.QCI.7 (ms)']+dataframe['L.Traffic.DL.PktDelay.Time.QCI.8 (ms)']+dataframe['L.Traffic.DL.PktDelay.Time.QCI.9 (ms)'])/(dataframe['L.Traffic.DL.PktDelay.Num.QCI.6 (packet)']+dataframe['L.Traffic.DL.PktDelay.Num.QCI.7 (packet)']+dataframe['L.Traffic.DL.PktDelay.Num.QCI.8 (packet)']+dataframe['L.Traffic.DL.PktDelay.Num.QCI.9 (packet)'])\n",
    "#    dataframe['QCI-8 Latency (ms)'] = (dataframe['L.Traffic.DL.PktDelay.Time.QCI.8 (ms)'])/(dataframe['L.Traffic.DL.PktDelay.Num.QCI.8 (packet)'])\n",
    "#    dataframe['CSFB Preparation SR (%)'] = dataframe['L.CSFB.PrepSucc (None)']/dataframe['L.CSFB.PrepAtt (None)']*100\n",
    "#    dataframe['UL Mute Voice Proportion (%)'] = dataframe['L.Voice.UL.Silent.Num (None)']/(dataframe['L.E-RAB.SuccEst.QCI.1 (None)']+dataframe['L.E-RAB.SuccEst.HOIn.QCI.1 (None)'])\n",
    "#    dataframe['VoLTE UL Packet Loss (%)'] = dataframe['L.Traffic.UL.PktLoss.Loss.QCI.1 (packet)']/dataframe['L.Traffic.UL.PktLoss.Tot.QCI.1 (packet)']\n",
    "#    dataframe['DL Mute Voice Proportion (%)'] = dataframe['L.Voice.DL.Silent.Num (None)']/(dataframe['L.E-RAB.SuccEst.QCI.1 (None)']+dataframe['L.E-RAB.SuccEst.HOIn.QCI.1 (None)'])\n",
    "#    dataframe['VoLTE DL Packet Loss (%)'] = dataframe['L.Traffic.DL.PktUuLoss.Loss.QCI.1 (packet)']/dataframe['L.Traffic.DL.PktUuLoss.Tot.QCI.1 (packet)']\n",
    "#    dataframe['VoLTE Drops'] = dataframe['L.E-RAB.AbnormRel.QCI.1 (None)']+dataframe['L.E-RAB.AbnormRel.MME.VoIP (None)']\n",
    "#    dataframe['VoLTE SRVCC ExecAttOut'] = dataframe['L.IRATHO.SRVCC.E2G.ExecAttOut (None)']+dataframe['L.IRATHO.SRVCC.E2W.ExecAttOut (None)']+dataframe['L.IRATHO.SRVCC.E2T.ExecAttOut (None)']\n",
    "#    dataframe['VoLTE DL Throughput (Mbps)'] = (dataframe['L.Thrp.bits.DL.QCI.1 (bit)']-dataframe['L.Thrp.bits.DL.LastTTI.QCI.1 (bit)'])/dataframe['L.Thrp.Time.DL.RmvLastTTI.QCI.1 (ms)']/1000\n",
    "#    dataframe['VoLTE Good DL Quality (%)'] = ((dataframe['L.Voice.VQI.DL.Excellent.Times (None)']+dataframe['L.Voice.VQI.DL.Good.Times (None)']+dataframe['L.Voice.VQI.DL.Accept.Times (None)'])/(dataframe['L.Voice.VQI.DL.Excellent.Times (None)']+dataframe['L.Voice.VQI.DL.Good.Times (None)']+dataframe['L.Voice.VQI.DL.Accept.Times (None)']+dataframe['L.Voice.VQI.DL.Poor.Times (None)']+dataframe['L.Voice.VQI.DL.Bad.Times (None)']))*100\n",
    "#    dataframe['VoLTE Good UL Quality (%)'] = ((dataframe['L.Voice.VQI.UL.Excellent.Times (None)']+dataframe['L.Voice.VQI.UL.Good.Times (None)']+dataframe['L.Voice.VQI.UL.Accept.Times (None)'])/(dataframe['L.Voice.VQI.UL.Excellent.Times (None)']+dataframe['L.Voice.VQI.UL.Good.Times (None)']+dataframe['L.Voice.VQI.UL.Accept.Times (None)']+dataframe['L.Voice.VQI.UL.Poor.Times (None)']+dataframe['L.Voice.VQI.UL.Bad.Times (None)']))*100\n",
    "#    dataframe['VoLTE Silence Voice DL'] = dataframe['L.Voice.DL.Silent.Num (None)']\n",
    "#    dataframe['VoLTE Silence Voice UL'] = dataframe['L.Voice.UL.Silent.Num (None)']\n",
    "#    dataframe['QCI1 DL Latency [VoLTE] (ms)'] = dataframe['L.Traffic.DL.PktDelay.Time.QCI.1 (ms)']/dataframe['L.Traffic.DL.PktDelay.Num.QCI.1 (packet)']\n",
    "#    dataframe['Radio SRB Reset Drops'] = dataframe['L.E-RAB.AbnormRel.Radio.SRBReset.VoIP (None)']\n",
    "    \n",
    "    \n",
    "    \n",
    "    \n",
    "    \n",
    "\n",
    "#    KPIs = [\n",
    "#    'DL Traffic GB',\n",
    "#    'UL Traffic GB',\n",
    "#    'Total Traffic GB',\n",
    "#    'RRC Users',\n",
    "#    'Max RRC Users',\n",
    "#    'DL User Throughput Kbps',\n",
    "#    'UL User Throughput Kbps',\n",
    "#    'New PS Service Accessibility',\n",
    "#    'RRC Success Rate (%)',\n",
    "#    'New E-RAB Success Rate (%)',\n",
    "#    'S1 Setup Success Rate',\n",
    "#    'New PS Service Retainability',\n",
    "#    'DL PRB Usage',\n",
    "#    'UL PRB Usage',\n",
    "#    'Average CQI',\n",
    "#    'Average UL Interference',\n",
    "#    'DL QPSK Ratio (%)',\n",
    "#    'DL 16QAM Ratio (%)',\n",
    "#    'DL 64QAM Ratio (%)',\n",
    "#    'DL 256QAM Ratio (%)',\n",
    "#    '% MIMO RI 1',\n",
    "#    '% MIMO RI 2',\n",
    "#    '% MIMO RI 3',\n",
    "#    '% MIMO RI 4',\n",
    "#    'IntraFreqHO (%)',\n",
    "#    'InterFreqHO (%)',\n",
    "#    'LTE Efficiency DL',\n",
    "#    'LTE Efficiency UL',\n",
    "#    'Cell THR DL',\n",
    "#    'Cell THR UL',\n",
    "#    'Border User Max',\n",
    "#    'Border User Avg',\n",
    "#    'Border Traffic DL (GB)',\n",
    "#    'Border Traffic UL (GB)',\n",
    "#    'Edge User THR DL (Mbps)',\n",
    "#    'Avg DL MCS',\n",
    "#    'Avg UL MCS',\n",
    "#    'PDSCH iBLER (%)',\n",
    "#    'PDSCH rBLER (%)',\n",
    "#    'Non-GBR DL Latency [Data] (ms)',\n",
    "#    'Avg UE distance (kms)',\n",
    "#    'RACH Setup',\n",
    "#    'IRAT 2G/3G Ratio (%)',\n",
    "#    'Cell Availability Ratio (%)',\n",
    "#    'CSFB Execution SR (%)',\n",
    "#    'CSFB Preparation SR (%)',\n",
    "#    'UL Mute Voice Proportion (%)',\n",
    "#    'VoLTE UL Packet Loss (%)',\n",
    "#    'DL Mute Voice Proportion (%)',\n",
    "#    'VoLTE DL Packet Loss (%)',\n",
    "#    'VoLTE Accessibility (%)',\n",
    "#    'New VoLTE Retention (%)',\n",
    "#    'New VoLTE Drop Rate (%)',\n",
    "#    'VoLTE Drops',\n",
    "#    'VoIP User Ratio (%)',\n",
    "#    'VoLTE Erlangs',\n",
    "#    'VoLTE SRVCC Success Rate (%)',\n",
    "#    'VoLTE SRVCC ExecAttOut',\n",
    "#    'QCI1 HO Execution Rate [VoLTE] (%)',\n",
    "#    'VoLTE DL Throughput (Mbps)',\n",
    "#    'VoLTE Good DL Quality (%)',\n",
    "#    'VoLTE Good UL Quality (%)',\n",
    "#    'VoLTE Silence Voice DL',\n",
    "#    'VoLTE Silence Voice UL',\n",
    "#    'QCI1 DL Latency [VoLTE] (ms)',\n",
    "#    'Radio SRB Reset Drops',\n",
    "#    'New Voice Quality  EVQI',\n",
    "#    'New VoLTE eRAB QCI5 Success Rate (%)',\n",
    "#    'New Cell Availability (%)',\n",
    "#    'New Path Loss (%)',\n",
    "#    'New Packet Loss (%)',\n",
    "#    'New X2 Handover Success Rate (%)',\n",
    "#    'New S1 Handover Success Rate (%)   \n",
    "#    ]\n",
    "\n",
    "#    dataframe = dataframe[KPIs + [col for col in dataframe.columns if col not in KPIs]]\n"
   ]
  },
  {
   "cell_type": "code",
   "execution_count": 116,
   "id": "973d83c0-429f-4222-8b5b-e96c29bce526",
   "metadata": {},
   "outputs": [],
   "source": [
    "# lte_data.to_csv(writing_path + \"TEST.csv\", index=False)"
   ]
  },
  {
   "cell_type": "code",
   "execution_count": 117,
   "id": "48e939e2-0e70-42d8-8a0c-905716bce4d3",
   "metadata": {},
   "outputs": [],
   "source": [
    "all_dfs_plmn = [final_period_data_plmn]\n",
    "\n",
    "for dataframe in all_dfs_plmn:\n",
    "\n",
    "    dataframe['MOCN Accessibility SR'] = 100*(dataframe['L.E-RAB.SuccEst.PLMN (None)']/dataframe['L.E-RAB.AttEst.PLMN (None)'])\n",
    "    dataframe['MOCN VoLTE Accessibility SR'] = 100*(dataframe['L.E-RAB.SuccEst.PLMN.QCI.1 (None)']/dataframe['L.E-RAB.AttEst.PLMN.QCI.1 (None)'])\n",
    "    dataframe['MOCN VoLTE Retainability SR'] = 100 * (1-dataframe['L.E-RAB.AbnormRel.PLMN.QCI.1 (None)']/(dataframe['L.E-RAB.AbnormRel.PLMN.QCI.1 (None)']+dataframe['L.E-RAB.NormRel.PLMN.QCI.1 (None)']+dataframe['L.E-RAB.AbnormRel.MME.VoIP.PLMN (None)']+dataframe['L.IRATHO.E2W.ExecSuccOut.PLMN (None)']))\n",
    "    dataframe['MOCN Traffic'] = (dataframe['L.Thrp.bits.DL.PLMN (bit)'] + dataframe['L.Thrp.bits.UL.PLMN (bit)'])/(8*1024*1024*1024)\n",
    "    dataframe['MOCN VoLTE Traffic'] = dataframe['L.E-RAB.SessionTime.HighPrecision.PLMN.QCI1 (100 ms)']/(10*3600)\n",
    "    dataframe['MOCN DL Throughput'] = (dataframe['L.Thrp.bits.DL.PLMN (bit)']-dataframe['L.Thrp.bits.DL.LastTTI.PLMN (bit)'])/(dataframe['L.Thrp.Time.DL.RmvLastTTI.PLMN (ms)']*1000)\n",
    "    dataframe['MOCN Users'] = dataframe['L.Traffic.User.Avg.PLMN (None)']\n",
    "    dataframe['MOCN CSFB'] = (dataframe['L.CSFB.PrepSucc.PLMN (None)']/dataframe['L.CSFB.PrepAtt.PLMN (None)'])*100\n",
    "\n",
    "    dataframe['MOCN Retainability SR'] = 100*(1-(dataframe['L.E-RAB.AbnormRel.PLMN (None)']/(dataframe['L.E-RAB.AbnormRel.PLMN (None)']+dataframe['L.E-RAB.NormRel.PLMN (None)']+dataframe['L.IRATHO.E2W.ExecSuccOut.PLMN (None)'])))\n",
    "    dataframe['MOCN VoLTE Users'] = dataframe['L.Traffic.User.VoIP.Avg.PLMN (None)']\n",
    "    dataframe['MOCN PRB DL Used'] = dataframe['L.RBUsedOwn.DL.PLMN (None)']\n",
    "    dataframe['MOCN PRB UL Used'] = dataframe['L.RBUsedOwn.UL.PLMN (None)']\n",
    "    #dataframe['MOCN Retainability SR'] = 100*(dataframe['L.E-RAB.SuccEst.PLMN (None)']/dataframe['L.E-RAB.AttEst.PLMN (None)'])\n",
    "    #dataframe['MOCN VoLTE Users'] = dataframe['L.Traffic.User.Avg.PLMN (None)']\n",
    "    #dataframe['MOCN PRB DL Used'] = dataframe['L.Traffic.User.Avg.PLMN (None)']\n",
    "    #dataframe['MOCN PRB UL Used'] = dataframe['L.Traffic.User.Avg.PLMN (None)']\n"
   ]
  },
  {
   "cell_type": "code",
   "execution_count": 118,
   "id": "748764d3-bcbc-4af7-976a-83ef68cede9c",
   "metadata": {},
   "outputs": [],
   "source": [
    "# all_dfs = ['lte_data','final_lte_data','final_lte_data_hour','df_highest_usage','final_lte_data_site','final_lte_data_site_dates',\n",
    "#            'final_lte_data_cluster','final_lte_data_cluster_dates']\n",
    "##all_dfs = [lte_data, final_lte_data, final_lte_data_hour, df_highest_usage, final_lte_data_site, final_lte_data_site_dates,final_lte_data_cluster, final_lte_data_cluster_dates]\n",
    "\n",
    "##for dataframe in all_dfs:\n",
    "##    dataframe['DL Traffic GB'] = ((dataframe['L.Thrp.bits.DL (bit)']/(1024*1024*1000))*0.125)\n",
    "##    dataframe['UL Traffic GB'] = ((dataframe['L.Thrp.bits.UL (bit)']/(1024*1024*1000))*0.125)\n",
    "##    dataframe['Total Traffic GB'] = dataframe['DL Traffic GB'] + dataframe['UL Traffic GB']\n",
    "##    dataframe['PS Service Accessibility'] = ((dataframe['L.E-RAB.SuccEst (None)']/dataframe['L.E-RAB.AttEst (None)'])*((dataframe['L.RRC.ConnReq.Succ.Emc (None)']+dataframe['L.RRC.ConnReq.Succ.HighPri (None)']+dataframe['L.RRC.ConnReq.Succ.Mt (None)']+dataframe['L.RRC.ConnReq.Succ.MoData (None)']+dataframe['L.RRC.ConnReq.Succ.DelayTol (None)'])/(dataframe['L.RRC.ConnReq.Att.Emc (None)']+dataframe['L.RRC.ConnReq.Att.HighPri (None)']+dataframe['L.RRC.ConnReq.Att.Mt (None)']+dataframe['L.RRC.ConnReq.Att.MoData (None)']+dataframe['L.RRC.ConnReq.Att.DelayTol (None)'])))*100\n",
    "##    dataframe['PS Service Retainability'] = (1-(dataframe['L.E-RAB.AbnormRel (None)']+dataframe['L.E-RAB.AbnormRel.MME (None)'])/(dataframe['L.E-RAB.AbnormRel (None)']+dataframe['L.E-RAB.NormRel (None)']))*100"
   ]
  },
  {
   "cell_type": "markdown",
   "id": "82518105-a582-42c7-95ad-262b135f96b5",
   "metadata": {},
   "source": [
    "### Writing files v2"
   ]
  },
  {
   "cell_type": "code",
   "execution_count": 119,
   "id": "eaa44ee1-6f13-43fe-b856-31ee9f217bab",
   "metadata": {},
   "outputs": [],
   "source": [
    "#############################################################\n",
    "#                     HIGH QUALITY AREA                     #\n",
    "#############################################################\n",
    "\n",
    "#final_lte_data = final_lte_data.drop(lte_counters, axis=1)\n",
    "#final_lte_data_hour = final_lte_data_hour.drop(lte_counters, axis=1)\n",
    "\n",
    "#############################################################\n",
    "#                         CITY AREA                         #\n",
    "#############################################################\n",
    "#lte_data.to_csv(writing_path + 'lte_counters_raw.csv', index=False)\n",
    "lte_data = lte_data.drop(lte_counters, axis=1)\n",
    "final_period_data = final_period_data.drop(lte_counters, axis=1)\n",
    "final_period_data_plmn = final_period_data_plmn.drop(lte_counters_plmn, axis=1)\n",
    "final_lte_data_site_hour = final_lte_data_site_hour.drop(lte_counters, axis=1)"
   ]
  },
  {
   "cell_type": "code",
   "execution_count": 120,
   "id": "c1df3bbd-f812-497c-a3d6-cffc3cc5d07f",
   "metadata": {},
   "outputs": [],
   "source": [
    "filter = ['Start Time', 'Date', 'NE Name', 'Band', 'PS Service Accessibility (%)','DL User Throughput (Kbps)','Average UL Interference (dBm)','PS Service Retainability (%)',\n",
    "          'PS Retention (%)','DL Traffic (GB)','Total Traffic (GB)','RRC Users (None)','VoLTE Accessibility [QCI-1] (%)',\n",
    "          'VoLTE Accessibility all (%)','VoLTE Drop Rate [QCI-1] (%)','VoLTE Drop Rate [QCI-5] (%)','VoLTE Erlangs']"
   ]
  },
  {
   "cell_type": "code",
   "execution_count": 121,
   "id": "8e535161-a5a3-4451-b281-0796007700de",
   "metadata": {},
   "outputs": [],
   "source": [
    "final_lte_data_site_hour_simp = final_lte_data_site_hour[filter]"
   ]
  },
  {
   "cell_type": "code",
   "execution_count": 122,
   "id": "425fa279-418b-4958-8419-94b12aca546e",
   "metadata": {},
   "outputs": [
    {
     "name": "stderr",
     "output_type": "stream",
     "text": [
      "C:\\Users\\gwx1336306\\AppData\\Local\\Temp\\ipykernel_6412\\954190353.py:1: SettingWithCopyWarning: \n",
      "A value is trying to be set on a copy of a slice from a DataFrame\n",
      "\n",
      "See the caveats in the documentation: https://pandas.pydata.org/pandas-docs/stable/user_guide/indexing.html#returning-a-view-versus-a-copy\n",
      "  final_lte_data_site_hour_simp.rename(columns={\n"
     ]
    }
   ],
   "source": [
    "final_lte_data_site_hour_simp.rename(columns={\n",
    "    'PS Service Accessibility (%)': 'Combined PS Service Accessibility (%)',\n",
    "    'DL User Throughput (Kbps)': 'Combined DL User Throughput (Mbps)',\n",
    "    'Average UL Interference (dBm)': 'Combined Average UL Interference (dBm)',\n",
    "    'PS Service Retainability (%)': 'Combined PS Service Retainability (%)',\n",
    "    'PS Retention (%)': 'Combined PS Retention (%)',\n",
    "    'DL Traffic (GB)': 'Combined DL Traffic (GB)',\n",
    "    'Total Traffic (GB)': 'Combined Total Traffic (GB)',\n",
    "    'RRC Users (None)': 'Combined RRC Users (None)',\n",
    "    'VoLTE Accessibility [QCI-1] (%)': 'Combined VoLTE Accessibility [QCI-1] (%)',\n",
    "    'VoLTE Accessibility all (%)': 'Combined VoLTE Accessibility (%)',\n",
    "    'VoLTE Drop Rate [QCI-1] (%)': 'Combined VoLTE Drop Rate [QCI-1] (%)',\n",
    "    'VoLTE Drop Rate [QCI-5] (%)': 'Combined VoLTE Drop Rate [QCI-5] (%)',\n",
    "    'VoLTE Erlangs': 'Combined VoLTE Erlangs (Erl)'\n",
    "}, inplace=True)"
   ]
  },
  {
   "cell_type": "code",
   "execution_count": 123,
   "id": "12678a8e-669c-4a64-8663-f691a247db96",
   "metadata": {},
   "outputs": [],
   "source": [
    "# Step 1: Get unique dates from combined df\n",
    "dates_to_exclude = set(final_combined_benchmark['Date'])"
   ]
  },
  {
   "cell_type": "code",
   "execution_count": 124,
   "id": "7eff1d4c-42e9-489f-a24d-8103189cdbaf",
   "metadata": {},
   "outputs": [],
   "source": [
    "# Step 2: Filter only Huawei df to exclude rows with dates in combined df\n",
    "real_combined_filtered = final_lte_data_site_hour_simp[~final_lte_data_site_hour_simp['Date'].isin(dates_to_exclude)]"
   ]
  },
  {
   "cell_type": "code",
   "execution_count": 125,
   "id": "c04213d5-21bb-4412-83dd-e7aa83d3e318",
   "metadata": {},
   "outputs": [],
   "source": [
    "# Step 3: Concatenate the filtered df with df combined\n",
    "final_combined_benchmark = pd.concat([final_combined_benchmark, real_combined_filtered], ignore_index=True)"
   ]
  },
  {
   "cell_type": "markdown",
   "id": "1e44a201-50be-4ba5-833c-e22b93d8412f",
   "metadata": {},
   "source": [
    "###### Traffic Distribution Data"
   ]
  },
  {
   "cell_type": "code",
   "execution_count": 126,
   "id": "adf54660-7402-4142-b20a-e7921299c176",
   "metadata": {},
   "outputs": [],
   "source": [
    "data_distribution = final_combined_benchmark[['Start Time','Date','NE Name','Band','Combined DL Traffic (GB)','Combined RRC Users (None)']]"
   ]
  },
  {
   "cell_type": "markdown",
   "id": "0b1134d9-8616-4922-ab01-5adcd29f14a1",
   "metadata": {},
   "source": [
    "##### Exclude other sites with Samsung Data but not in the EPT main sheet"
   ]
  },
  {
   "cell_type": "code",
   "execution_count": 127,
   "id": "2eeffe0b-8417-47bf-ae8c-55d433224db5",
   "metadata": {},
   "outputs": [],
   "source": [
    "sites_to_exclude = set(lte_data['NE Name'])\n",
    "data_distribution = data_distribution[data_distribution['NE Name'].isin(sites_to_exclude)]"
   ]
  },
  {
   "cell_type": "code",
   "execution_count": 128,
   "id": "6e8f29c0-5cbd-48ca-9b1a-71574388a2bd",
   "metadata": {},
   "outputs": [],
   "source": [
    "# final_combined_benchmark = final_combined_benchmark.drop(lte_counters, axis=1)\n",
    "# final_combined_benchmark = final_combined_benchmark.drop(huawei_counter_delete, axis=1)"
   ]
  },
  {
   "cell_type": "code",
   "execution_count": 129,
   "id": "8fb6147c-0b3d-439a-bfbb-c3b63e916511",
   "metadata": {},
   "outputs": [],
   "source": [
    "# samsung_before.rename(columns={'ENB_AGG': 'NE Name'}, inplace=True)"
   ]
  },
  {
   "cell_type": "code",
   "execution_count": 130,
   "id": "5f919eff-4375-4ecf-962a-0bce08f402a6",
   "metadata": {},
   "outputs": [
    {
     "name": "stderr",
     "output_type": "stream",
     "text": [
      "C:\\ProgramData\\anaconda3\\Lib\\site-packages\\openpyxl\\workbook\\child.py:99: UserWarning: Title is more than 31 characters. Some applications may not be able to read the file\n",
      "  warnings.warn(\"Title is more than 31 characters. Some applications may not be able to read the file\")\n"
     ]
    }
   ],
   "source": [
    "#############################################################\n",
    "#             ONLY FOR SITES IN THE SAME REGION             #\n",
    "#############################################################\n",
    "\n",
    "# Set the region varible\n",
    "region = df_data_crossing['Region'].iloc[0]\n",
    "\n",
    "# Dynamically create the file names\n",
    "cell_day = f'{region}_data Cell hour_{lte_min_date}_{lte_max_date}.csv'\n",
    "unique = f'{region}_LTE_KPI_Swap_{lte_min_date}_{lte_max_date}.xlsx'\n",
    "\n",
    "\n",
    "#############################################################\n",
    "#               NAME WILL NOT HAVE THE REGION               #\n",
    "#############################################################\n",
    "\n",
    "#cell_day = f'LTE_Data_Total_Cell_{lte_min_date}_{lte_max_date}.csv'\n",
    "#unique = f'LTE_Data_Total_Aggregated_{lte_min_date}_{lte_max_date}.xlsx'\n",
    "\n",
    "#####################################################################################################################\n",
    "#####################################################################################################################\n",
    "\n",
    "# saving cell day file\n",
    "# lte_data.to_csv(writing_path + cell_day, index=False)\n",
    "\n",
    "# Define the Excel file path where you want to save the data\n",
    "file_path = writing_path + unique\n",
    "\n",
    "# Define the sheet names for each DataFrame\n",
    "# sheet_names = ['data Summary', 'data Benchmark']\n",
    "####sheet_names = ['High Quality Area Daily', 'High Quality Area Hourly']\n",
    "sheet_names = ['data Summary', 'data Site Level Summary', 'data Summary PLMN', 'data Benchmark', 'data Benchmark Combined', 'data Traffic Distribution', 'Data Cell hour','B7 Samsung-Before (Acceptance only)']\n",
    "#sheet_names = ['data Summary', 'data Site Level Summary', 'data Summary PLMN', 'data Benchmark', 'data Benchmark Combined', 'data Traffic Distribution', 'Data Cell hour']\n",
    "\n",
    "\n",
    "# Save the DataFrames to the Excel file\n",
    "#with pd.ExcelWriter(file_path) as writer:\n",
    "#    final_period_data.to_excel(writer, sheet_name=sheet_names[0], index=False)\n",
    "#    final_lte_data_site_hour.to_excel(writer, sheet_name=sheet_names[1], index=False)\n",
    "\n",
    "#############################################################\n",
    "#                     HIGH QUALITY AREA                     #\n",
    "#############################################################\n",
    "\n",
    "# Save the DataFrames to the Excel file\n",
    "#with pd.ExcelWriter(file_path) as writer:\n",
    "#    final_lte_data.to_excel(writer, sheet_name=sheet_names[0], index=False)\n",
    "#    final_lte_data_hour.to_excel(writer, sheet_name=sheet_names[1], index=False)\n",
    "\n",
    "#############################################################\n",
    "#                         CITY AREA                         #\n",
    "#############################################################\n",
    "\n",
    "with pd.ExcelWriter(file_path) as writer:\n",
    "    final_period_data.to_excel(writer, sheet_name=sheet_names[0], index=False)\n",
    "    combined_before.to_excel(writer, sheet_name=sheet_names[1], index=False)\n",
    "    final_period_data_plmn.to_excel(writer, sheet_name=sheet_names[2], index=False)\n",
    "    final_lte_data_site_hour.to_excel(writer, sheet_name=sheet_names[3], index=False)\n",
    "    final_combined_benchmark.to_excel(writer, sheet_name=sheet_names[4], index=False)\n",
    "    data_distribution.to_excel(writer, sheet_name=sheet_names[5], index=False)\n",
    "    lte_data.to_excel(writer, sheet_name=sheet_names[6], index=False)\n",
    "    samsung_before.to_excel(writer, sheet_name=sheet_names[7], index=False)"
   ]
  },
  {
   "cell_type": "code",
   "execution_count": 131,
   "id": "fe770992-9c9d-4269-bd1c-9f159b2e945b",
   "metadata": {},
   "outputs": [],
   "source": [
    "#############################################################\n",
    "#             ONLY FOR SITES IN THE SAME REGION             #\n",
    "#############################################################\n",
    "\n",
    "# Set the region varible\n",
    "#region = df_data_crossing['Region'].iloc[0]\n",
    "\n",
    "# Dynamically create the file names\n",
    "#cell_day = f'{region}_LTE_Data_Cell_{lte_min_date}_{lte_max_date}.csv'\n",
    "#unique = f'{region}_LTE_Data_Aggregated_{lte_min_date}_{lte_max_date}.xlsx'\n",
    "\n",
    "\n",
    "#############################################################\n",
    "#               NAME WILL NOT HAVE THE REGION               #\n",
    "#############################################################\n",
    "\n",
    "#cell_day = f'LTE_Data_Total_Cell_{lte_min_date}_{lte_max_date}.csv'\n",
    "#unique = f'LTE_Data_Total_Aggregated_{lte_min_date}_{lte_max_date}.xlsx'\n",
    "\n",
    "#####################################################################################################################\n",
    "#####################################################################################################################\n",
    "\n",
    "# saving cell day file\n",
    "#lte_data.to_csv(writing_path + cell_day, index=False)\n",
    "\n",
    "# Define the Excel file path where you want to save the data\n",
    "#file_path = writing_path + unique\n",
    "\n",
    "# Define the sheet names for each DataFrame\n",
    "#sheet_names = ['Aggregated Total', 'Aggregated Total Hour', 'Aggregated Cell BH', 'Aggregated Site Total', 'Aggregated Site by Dates', 'Aggregated Cluster Total', 'Aggregated Cluster by Dates']\n",
    "\n",
    "# Save the DataFrames to the Excel file\n",
    "#with pd.ExcelWriter(file_path) as writer:\n",
    "#    final_lte_data.to_excel(writer, sheet_name=sheet_names[0], index=False)\n",
    "#    final_lte_data_hour.to_excel(writer, sheet_name=sheet_names[1], index=False)\n",
    "#    df_highest_usage.to_excel(writer, sheet_name=sheet_names[2], index=False)\n",
    "#    final_lte_data_site.to_excel(writer, sheet_name=sheet_names[3], index=False)\n",
    "#    final_lte_data_site_dates.to_excel(writer, sheet_name=sheet_names[4], index=False)\n",
    "#    final_lte_data_cluster.to_excel(writer, sheet_name=sheet_names[5], index=False)\n",
    "#    final_lte_data_cluster_dates.to_excel(writer, sheet_name=sheet_names[6], index=False)"
   ]
  },
  {
   "cell_type": "markdown",
   "id": "e84c44fb-6c03-4802-b14c-2472dfa44e16",
   "metadata": {},
   "source": [
    "### Aggegated data concatenation"
   ]
  },
  {
   "cell_type": "code",
   "execution_count": 132,
   "id": "c00adcce-1a53-4dda-8d34-457bf032c354",
   "metadata": {},
   "outputs": [],
   "source": [
    "# Define the path where your .xlsx files are stored\n",
    "##path = 'D:/ATT/0.Refarming/KPI/All/R4/Aggregated/'  # e.g., 'C:/Users/your_username/your_folder'\n",
    "\n",
    "# Get all .xlsx files in the directory\n",
    "##file_list = glob.glob(os.path.join(path, \"*.xlsx\"))\n",
    "\n",
    "# Initialize an empty list to hold DataFrames\n",
    "##dfs = []\n",
    "\n",
    "# Loop over the file list and read each file into a DataFrame\n",
    "##for file in file_list:\n",
    "##    df = pd.read_excel(file)\n",
    "##    dfs.append(df)\n",
    "\n",
    "# Concatenate all DataFrames in the list\n",
    "##all_final_lte_data = pd.concat(dfs, ignore_index=True)\n",
    "\n",
    "# Optional: sort by specific columns if needed, e.g., 'Date' and 'Band'\n",
    "##all_final_lte_data = all_final_lte_data.sort_values(by=['Date', 'Band'])\n",
    "\n",
    "# Save the combined DataFrame to a new Excel file (optional)\n",
    "##all_final_lte_data.to_excel(os.path.join(path, \"All_LTE_Data_Total_Agg.xlsx\"), index=False)"
   ]
  },
  {
   "cell_type": "code",
   "execution_count": null,
   "id": "d32d2b7a-d49a-4995-b9f2-2c12a79692a8",
   "metadata": {},
   "outputs": [],
   "source": []
  },
  {
   "cell_type": "code",
   "execution_count": null,
   "id": "29ae66e6-6028-43e6-87ad-38665470c747",
   "metadata": {},
   "outputs": [],
   "source": []
  },
  {
   "cell_type": "code",
   "execution_count": null,
   "id": "b763dfb1-4ea0-40e1-8d91-bd7c8ff1c748",
   "metadata": {},
   "outputs": [],
   "source": []
  },
  {
   "cell_type": "code",
   "execution_count": null,
   "id": "b84c486f-e947-4115-a734-a43c5a73348b",
   "metadata": {},
   "outputs": [],
   "source": []
  },
  {
   "cell_type": "code",
   "execution_count": null,
   "id": "290fe52b-cf63-4b6b-8b89-f9ca3c95305b",
   "metadata": {},
   "outputs": [],
   "source": []
  },
  {
   "cell_type": "code",
   "execution_count": null,
   "id": "0626d7f7-1a01-4064-8a34-dd16c1a0413a",
   "metadata": {},
   "outputs": [],
   "source": []
  },
  {
   "cell_type": "code",
   "execution_count": null,
   "id": "fe26ba68-c38e-435f-8b4e-cb8424b0ea33",
   "metadata": {},
   "outputs": [],
   "source": []
  },
  {
   "cell_type": "code",
   "execution_count": null,
   "id": "778a413a-c5be-4ba0-8e16-b4054a197fad",
   "metadata": {},
   "outputs": [],
   "source": []
  },
  {
   "cell_type": "code",
   "execution_count": null,
   "id": "62e75420-a93f-48db-b9a0-c6bc73d31e52",
   "metadata": {},
   "outputs": [],
   "source": []
  },
  {
   "cell_type": "code",
   "execution_count": null,
   "id": "65184751-cd5d-4eed-8157-7a3a34df4503",
   "metadata": {},
   "outputs": [],
   "source": []
  },
  {
   "cell_type": "code",
   "execution_count": null,
   "id": "db63f592-fb19-4049-a747-0c13cb06db27",
   "metadata": {},
   "outputs": [],
   "source": []
  },
  {
   "cell_type": "code",
   "execution_count": null,
   "id": "379f642e-5393-4f29-91ff-db9feb89017b",
   "metadata": {},
   "outputs": [],
   "source": []
  },
  {
   "cell_type": "code",
   "execution_count": null,
   "id": "5b11c7f1-d617-4448-8000-15c16525a864",
   "metadata": {},
   "outputs": [],
   "source": []
  },
  {
   "cell_type": "code",
   "execution_count": null,
   "id": "a9472c2e-f04a-4aa1-bdf3-28fed998c297",
   "metadata": {},
   "outputs": [],
   "source": []
  },
  {
   "cell_type": "code",
   "execution_count": null,
   "id": "a8dca532-3dae-4a17-b8d0-141d6300525e",
   "metadata": {},
   "outputs": [],
   "source": []
  },
  {
   "cell_type": "code",
   "execution_count": null,
   "id": "8d5bc343-6864-4cab-a85c-b8f5f0f53a81",
   "metadata": {},
   "outputs": [],
   "source": []
  },
  {
   "cell_type": "code",
   "execution_count": null,
   "id": "b279b57e-ff73-4740-9b90-0e96f0f8a887",
   "metadata": {},
   "outputs": [],
   "source": []
  },
  {
   "cell_type": "code",
   "execution_count": null,
   "id": "fb2a443d-09df-4cd2-8456-ed56d2c573bc",
   "metadata": {},
   "outputs": [],
   "source": []
  },
  {
   "cell_type": "code",
   "execution_count": null,
   "id": "f479b20a-2ff0-465b-83d2-a2459a4b0898",
   "metadata": {},
   "outputs": [],
   "source": []
  },
  {
   "cell_type": "code",
   "execution_count": null,
   "id": "c1c04a04-5e41-4a1d-8ccf-6eeee25ff890",
   "metadata": {},
   "outputs": [],
   "source": []
  }
 ],
 "metadata": {
  "kernelspec": {
   "display_name": "Python 3 (ipykernel)",
   "language": "python",
   "name": "python3"
  },
  "language_info": {
   "codemirror_mode": {
    "name": "ipython",
    "version": 3
   },
   "file_extension": ".py",
   "mimetype": "text/x-python",
   "name": "python",
   "nbconvert_exporter": "python",
   "pygments_lexer": "ipython3",
   "version": "3.9.13"
  }
 },
 "nbformat": 4,
 "nbformat_minor": 5
}
